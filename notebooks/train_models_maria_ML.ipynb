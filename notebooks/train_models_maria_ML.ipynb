{
 "cells": [
  {
   "cell_type": "code",
   "execution_count": 1,
   "metadata": {
    "pycharm": {
     "is_executing": false,
     "name": "#%%\n"
    }
   },
   "outputs": [],
   "source": [
    "import sys\n",
    "sys.path.append('..')\n",
    "import statistics\n",
    "from collections import defaultdict\n",
    "%reload_ext autoreload\n",
    "\n",
    "%autoreload 2\n",
    "import numpy as np\n",
    "from models import lstm\n",
    "import torch\n",
    "from collections import defaultdict\n",
    "import scipy.stats as st\n",
    "import matplotlib.pyplot as plt\n",
    "from sklearn.preprocessing import StandardScaler\n"
   ]
  },
  {
   "cell_type": "code",
   "execution_count": 2,
   "metadata": {
    "pycharm": {
     "is_executing": false,
     "name": "#%%\n"
    }
   },
   "outputs": [],
   "source": [
    "# FILES TO CHANGE (This is where your sequence_nlp_harvey.zip etc is) \n",
    "NPY_INPUT_DIR = '../data/extracted_features/combined_ML/maria/'\n",
    "NPY_OUTPUT_DIR = '../data/results/maria/'\n",
    "\n",
    "NUM_TESTS = 100\n",
    "\n",
    "HIDDEN_DIM0 = 183\n",
    "NUM_LAYERS0 = 1\n",
    "BIDIRECTIONAL = False\n",
    "LEARNING_RATE0 =  0.011095843396210794\n",
    "IMAGE_HIDDEN= 200\n",
    "DECAY_FACTOR0 = 0.18991100364301827\n",
    "EPOCH0 = 4\n",
    "\n",
    "HIDDEN_DIM1 = 364\n",
    "NUM_LAYERS1 = 1\n",
    "ACTIVATION1 = torch.relu\n",
    "LEARNING_RATE1 =  0.015103711963967328\n",
    "MOMENTUM1= 0.9\n",
    "DECAY_FACTOR1 =  0.3093059390000923\n",
    "EPOCH1 = 2\n",
    "\n",
    "HIDDEN_DIM2 = 197\n",
    "NUM_LAYERS2 = 2\n",
    "ACTIVATION2 = torch.relu\n",
    "LEARNING_RATE2 =  0.030727178086089976\n",
    "MOMENTUM2= 0.9\n",
    "DECAY_FACTOR2 =  0.7632100704986595\n",
    "EPOCH2 = 2"
   ]
  },
  {
   "cell_type": "markdown",
   "metadata": {},
   "source": [
    "# LSTM -------------------------------------------------------------------*"
   ]
  },
  {
   "cell_type": "code",
   "execution_count": 3,
   "metadata": {
    "pycharm": {
     "is_executing": false,
     "name": "#%%\n"
    }
   },
   "outputs": [],
   "source": [
    "\n",
    "def plot_cis(binNames, binRatios, priors):\n",
    "    '''\n",
    "    Requires a list of group str outputs and bin ratios from get_accuracy_graph - one for each run\n",
    "    Collect results of both get_accuracy_plot return values -- names and binRatios-- in an array to run this.\n",
    "    '''\n",
    "    priors = np.array(priors[0])\n",
    "    binVals = defaultdict(list)\n",
    "    for run in range(len(binRatios)):\n",
    "        for bin in range(len(binRatios[run])):\n",
    "            binVals[bin+1].append(binRatios[run][bin]) # append the ratio (accuracy) of the bin to list\n",
    "    cis = []\n",
    "    means = []\n",
    "    keys = []\n",
    "    binLabels = [name for name in binNames[0]]\n",
    "    for bin in binVals: # Calculate mean and CI for each bin\n",
    "        keys.append(bin)\n",
    "        mean = np.mean(binVals[bin])\n",
    "        means.append(mean)\n",
    "        standard = statistics.stdev(binVals[bin])\n",
    "        cis.append(standard)\n",
    "    plt.figure()  # initiate accuracy plot\n",
    "    plt.plot(keys, means, label=\"Mean Accuracy by Bin\")  # plot accuracy by bin\n",
    "    plt.plot(keys, priors, label=\"Naive Accuracy\")\n",
    "    plt.errorbar(keys, means, yerr=cis)\n",
    "    plt.xticks(keys, binLabels)\n",
    "    plt.suptitle('Test classification accuracy rate by user history length (CI .95)')\n",
    "    plt.xlabel('User history length (lowest to highest), sorted into bins (ascending order)')\n",
    "    plt.ylabel('Accuracy rate')\n",
    "    plt.show()\n",
    "    return\n",
    "\n",
    "\n",
    "def test_100(X_train, y_train, X_test, y_test, X_img_train, X_img_test):\n",
    "    running_acc = 0.0\n",
    "    running_auc = 0.0\n",
    "    running_f1 = 0.0\n",
    "    running_precision = 0.0\n",
    "    running_recall = 0.0\n",
    "    graph_results = []\n",
    "    bin_names = []\n",
    "    priors_list = []\n",
    "    \n",
    "    HIDDEN_DIM0 = 364\n",
    "\n",
    "    for i in range(NUM_TESTS):\n",
    "        model = lstm.LSTM(input_dim = 400, hidden_dim = HIDDEN_DIM0, img_hidden_dim = IMAGE_HIDDEN,\n",
    "                          num_layers = NUM_LAYERS0, bidirectional = BIDIRECTIONAL,\n",
    "                          learning_rate = LEARNING_RATE0,decay_factor = DECAY_FACTOR0)\n",
    "        model.learn(X_train, X_img_train, y_train, epochs=EPOCH0)\n",
    "        \n",
    "        # evaluate\n",
    "        running_acc += model.get_accuracy(X_test, X_img_test, y_test)\n",
    "        running_auc += model.get_auc(X_test, X_img_test, y_test)\n",
    "        running_f1 += model.get_f1(X_test, X_img_test, y_test)\n",
    "        running_precision += model.get_precision(X_test, X_img_test, y_test)\n",
    "        running_recall += model.get_recall(X_test, X_img_test, y_test)\n",
    "        bins, accRates, priors = model.get_accuracy_graph(X_test, X_img_test, y_test)\n",
    "        bin_names.append(bins)\n",
    "        graph_results.append(accRates)\n",
    "        priors_list.append(priors)\n",
    "    \n",
    "    return running_acc/NUM_TESTS, running_auc/NUM_TESTS, running_f1/NUM_TESTS, \\\n",
    "           running_precision/NUM_TESTS, running_recall/NUM_TESTS, \\\n",
    "           bin_names, graph_results, priors_list"
   ]
  },
  {
   "cell_type": "code",
   "execution_count": null,
   "outputs": [],
   "source": [
    "# load data from files\n",
    "X_seq_img_train = np.load(NPY_INPUT_DIR + 'images_lstm_train.npz', allow_pickle=True)\n",
    "X_seq_img_test = np.load(NPY_INPUT_DIR + 'images_lstm_test.npz', allow_pickle=True)\n",
    "\n",
    "X_seq_tfidf_train = np.load(NPY_INPUT_DIR + 'X_seq_tfidf_train.npz')\n",
    "X_seq_tfidf_test = np.load(NPY_INPUT_DIR + 'X_seq_tfidf_test.npz')\n",
    "\n",
    "\n",
    "X_seq_glove_train = np.load(NPY_INPUT_DIR + 'X_seq_glove_train.npz')\n",
    "X_seq_glove_test = np.load(NPY_INPUT_DIR + 'X_seq_glove_test.npz')\n",
    "\n",
    "y_train = torch.Tensor(np.load(NPY_INPUT_DIR + 'y_train.npy'))\n",
    "y_test = torch.Tensor(np.load(NPY_INPUT_DIR + 'y_test.npy'))\n",
    "\n",
    "\n",
    "# build lists with features concatenated\n",
    "# img feat\n",
    "X_raw_img_train = []\n",
    "for i in range(len(y_train)):\n",
    "    file = X_seq_img_train.files[i]\n",
    "    hist = X_seq_img_train[file] # an array of objects with each object being a 2d matrix of all img in a tweet\n",
    "    for j in range(hist.shape[0]): # for each tweet in sequence\n",
    "        X_raw_img_train.append(hist[j])\n",
    "\n",
    "img_scaler = StandardScaler()\n",
    "X_img_fit_train = np.concatenate(X_raw_img_train) # a stack of all image feat\n",
    "img_scaler.fit(X_img_fit_train)\n",
    "\n",
    "# now build list of list of normalized 2d matricies representing all img in a tweet\n",
    "X_img_train = []\n",
    "for i in range(len(y_train)):\n",
    "    X_i_img = []\n",
    "    file = X_seq_img_train.files[i]\n",
    "    hist = X_seq_img_train[file] # an array of objects with each object being a 2d matrix of all img in a tweet\n",
    "    for j in range(hist.shape[0]): # for each tweet in sequence\n",
    "        X_i_img.append(torch.Tensor(img_scaler.transform(hist[j])))\n",
    "    X_img_train.append(X_i_img)\n",
    "    \n",
    "X_img_test = []\n",
    "for i in range(len(y_test)):\n",
    "    X_i_img = []\n",
    "    file = X_seq_img_test.files[i]\n",
    "    hist = X_seq_img_test[file] # an array of objects with each object being a 2d matrix of all img in a tweet\n",
    "    for j in range(hist.shape[0]): # for each tweet in sequence\n",
    "        X_i_img.append(torch.Tensor(img_scaler.transform(hist[j])))\n",
    "    X_img_test.append(X_i_img)\n",
    "\n",
    "# lang feat\n",
    "X_raw_train = []\n",
    "for i in range(len(y_train)):\n",
    "    file = X_seq_tfidf_train.files[i]\n",
    "    X_raw_train.append(np.concatenate((X_seq_tfidf_train[file], X_seq_glove_train[file]), axis=1))\n",
    "\n",
    "scaler = StandardScaler()\n",
    "X_fit_train = np.concatenate(X_raw_train)\n",
    "scaler.fit(X_fit_train)\n",
    "\n",
    "X_train = [torch.Tensor(scaler.transform(X_i)) for X_i in X_raw_train]\n",
    "\n",
    "X_test = []\n",
    "for i in range(len(y_test)):\n",
    "    file = X_seq_tfidf_test.files[i]\n",
    "    X_test.append(torch.Tensor(scaler.transform(np.concatenate((X_seq_tfidf_test[file], X_seq_glove_test[file]), axis=1))))\n"
   ],
   "metadata": {
    "collapsed": false,
    "pycharm": {
     "name": "#%%\n"
    }
   }
  },
  {
   "cell_type": "code",
   "execution_count": 5,
   "metadata": {
    "pycharm": {
     "is_executing": false,
     "name": "#%%\n"
    }
   },
   "outputs": [
    {
     "traceback": [
      "\u001b[0;31m---------------------------------------------------------------------------\u001b[0m",
      "\u001b[0;31mKeyboardInterrupt\u001b[0m                         Traceback (most recent call last)",
      "\u001b[0;32m<ipython-input-5-fd8f0947704f>\u001b[0m in \u001b[0;36m<module>\u001b[0;34m\u001b[0m\n\u001b[1;32m      1\u001b[0m \u001b[0;31m# mutes output for this cell\u001b[0m\u001b[0;34m\u001b[0m\u001b[0;34m\u001b[0m\u001b[0;34m\u001b[0m\u001b[0m\n\u001b[1;32m      2\u001b[0m \u001b[0;34m\u001b[0m\u001b[0m\n\u001b[0;32m----> 3\u001b[0;31m \u001b[0macc\u001b[0m\u001b[0;34m,\u001b[0m \u001b[0mauc\u001b[0m\u001b[0;34m,\u001b[0m \u001b[0mbin_names\u001b[0m\u001b[0;34m,\u001b[0m \u001b[0mgraph_results\u001b[0m\u001b[0;34m,\u001b[0m \u001b[0mpriors_list\u001b[0m \u001b[0;34m=\u001b[0m \u001b[0mtest_100\u001b[0m\u001b[0;34m(\u001b[0m\u001b[0mX_train\u001b[0m\u001b[0;34m,\u001b[0m\u001b[0my_train\u001b[0m\u001b[0;34m,\u001b[0m\u001b[0mX_test\u001b[0m\u001b[0;34m,\u001b[0m\u001b[0my_test\u001b[0m\u001b[0;34m)\u001b[0m\u001b[0;34m\u001b[0m\u001b[0;34m\u001b[0m\u001b[0m\n\u001b[0m\u001b[1;32m      4\u001b[0m \u001b[0;34m\u001b[0m\u001b[0m\n",
      "\u001b[0;32m<ipython-input-3-bf97b23b98aa>\u001b[0m in \u001b[0;36mtest_100\u001b[0;34m(X_train, y_train, X_test, y_test)\u001b[0m\n\u001b[1;32m     44\u001b[0m                           \u001b[0mbidirectional\u001b[0m \u001b[0;34m=\u001b[0m \u001b[0mBIDIRECTIONAL\u001b[0m\u001b[0;34m,\u001b[0m \u001b[0mlearning_rate\u001b[0m \u001b[0;34m=\u001b[0m \u001b[0mLEARNING_RATE0\u001b[0m\u001b[0;34m,\u001b[0m\u001b[0;34m\u001b[0m\u001b[0;34m\u001b[0m\u001b[0m\n\u001b[1;32m     45\u001b[0m                           momentum = MOMENTUM0, decay_factor = DECAY_FACTOR0)\n\u001b[0;32m---> 46\u001b[0;31m         \u001b[0mmodel\u001b[0m\u001b[0;34m.\u001b[0m\u001b[0mlearn\u001b[0m\u001b[0;34m(\u001b[0m\u001b[0mX_train\u001b[0m\u001b[0;34m,\u001b[0m \u001b[0my_train\u001b[0m\u001b[0;34m,\u001b[0m \u001b[0mepochs\u001b[0m\u001b[0;34m=\u001b[0m\u001b[0mEPOCH0\u001b[0m\u001b[0;34m)\u001b[0m\u001b[0;34m\u001b[0m\u001b[0;34m\u001b[0m\u001b[0m\n\u001b[0m\u001b[1;32m     47\u001b[0m \u001b[0;34m\u001b[0m\u001b[0m\n\u001b[1;32m     48\u001b[0m         \u001b[0;31m# evaluate\u001b[0m\u001b[0;34m\u001b[0m\u001b[0;34m\u001b[0m\u001b[0;34m\u001b[0m\u001b[0m\n",
      "\u001b[0;32m~/IITUDND/models/NLP_only_models/lstm.py\u001b[0m in \u001b[0;36mlearn\u001b[0;34m(self, X, y, epochs)\u001b[0m\n\u001b[1;32m     86\u001b[0m \u001b[0;34m\u001b[0m\u001b[0m\n\u001b[1;32m     87\u001b[0m                 \u001b[0;31m# back propagation\u001b[0m\u001b[0;34m\u001b[0m\u001b[0;34m\u001b[0m\u001b[0;34m\u001b[0m\u001b[0m\n\u001b[0;32m---> 88\u001b[0;31m                 \u001b[0mloss\u001b[0m\u001b[0;34m.\u001b[0m\u001b[0mbackward\u001b[0m\u001b[0;34m(\u001b[0m\u001b[0;34m)\u001b[0m\u001b[0;34m\u001b[0m\u001b[0;34m\u001b[0m\u001b[0m\n\u001b[0m\u001b[1;32m     89\u001b[0m                 \u001b[0mself\u001b[0m\u001b[0;34m.\u001b[0m\u001b[0moptimizer\u001b[0m\u001b[0;34m.\u001b[0m\u001b[0mstep\u001b[0m\u001b[0;34m(\u001b[0m\u001b[0;34m)\u001b[0m\u001b[0;34m\u001b[0m\u001b[0;34m\u001b[0m\u001b[0m\n\u001b[1;32m     90\u001b[0m \u001b[0;34m\u001b[0m\u001b[0m\n",
      "\u001b[0;32m~/anaconda3/lib/python3.7/site-packages/torch/tensor.py\u001b[0m in \u001b[0;36mbackward\u001b[0;34m(self, gradient, retain_graph, create_graph)\u001b[0m\n\u001b[1;32m    116\u001b[0m                 \u001b[0mproducts\u001b[0m\u001b[0;34m.\u001b[0m \u001b[0mDefaults\u001b[0m \u001b[0mto\u001b[0m\u001b[0;31m \u001b[0m\u001b[0;31m`\u001b[0m\u001b[0;31m`\u001b[0m\u001b[0;32mFalse\u001b[0m\u001b[0;31m`\u001b[0m\u001b[0;31m`\u001b[0m\u001b[0;34m.\u001b[0m\u001b[0;34m\u001b[0m\u001b[0;34m\u001b[0m\u001b[0m\n\u001b[1;32m    117\u001b[0m         \"\"\"\n\u001b[0;32m--> 118\u001b[0;31m         \u001b[0mtorch\u001b[0m\u001b[0;34m.\u001b[0m\u001b[0mautograd\u001b[0m\u001b[0;34m.\u001b[0m\u001b[0mbackward\u001b[0m\u001b[0;34m(\u001b[0m\u001b[0mself\u001b[0m\u001b[0;34m,\u001b[0m \u001b[0mgradient\u001b[0m\u001b[0;34m,\u001b[0m \u001b[0mretain_graph\u001b[0m\u001b[0;34m,\u001b[0m \u001b[0mcreate_graph\u001b[0m\u001b[0;34m)\u001b[0m\u001b[0;34m\u001b[0m\u001b[0;34m\u001b[0m\u001b[0m\n\u001b[0m\u001b[1;32m    119\u001b[0m \u001b[0;34m\u001b[0m\u001b[0m\n\u001b[1;32m    120\u001b[0m     \u001b[0;32mdef\u001b[0m \u001b[0mregister_hook\u001b[0m\u001b[0;34m(\u001b[0m\u001b[0mself\u001b[0m\u001b[0;34m,\u001b[0m \u001b[0mhook\u001b[0m\u001b[0;34m)\u001b[0m\u001b[0;34m:\u001b[0m\u001b[0;34m\u001b[0m\u001b[0;34m\u001b[0m\u001b[0m\n",
      "\u001b[0;32m~/anaconda3/lib/python3.7/site-packages/torch/autograd/__init__.py\u001b[0m in \u001b[0;36mbackward\u001b[0;34m(tensors, grad_tensors, retain_graph, create_graph, grad_variables)\u001b[0m\n\u001b[1;32m     91\u001b[0m     Variable._execution_engine.run_backward(\n\u001b[1;32m     92\u001b[0m         \u001b[0mtensors\u001b[0m\u001b[0;34m,\u001b[0m \u001b[0mgrad_tensors\u001b[0m\u001b[0;34m,\u001b[0m \u001b[0mretain_graph\u001b[0m\u001b[0;34m,\u001b[0m \u001b[0mcreate_graph\u001b[0m\u001b[0;34m,\u001b[0m\u001b[0;34m\u001b[0m\u001b[0;34m\u001b[0m\u001b[0m\n\u001b[0;32m---> 93\u001b[0;31m         allow_unreachable=True)  # allow_unreachable flag\n\u001b[0m\u001b[1;32m     94\u001b[0m \u001b[0;34m\u001b[0m\u001b[0m\n\u001b[1;32m     95\u001b[0m \u001b[0;34m\u001b[0m\u001b[0m\n",
      "\u001b[0;31mKeyboardInterrupt\u001b[0m: "
     ],
     "ename": "KeyboardInterrupt",
     "evalue": "",
     "output_type": "error"
    }
   ],
   "source": [
    "%%capture\n",
    "# mutes output for this cell\n",
    "\n",
    "acc, auc, f1, precision, recall, bin_names, graph_results, priors_list = test_100(X_train,y_train,X_test,y_test, X_img_train, X_img_test)"
   ]
  },
  {
   "cell_type": "code",
   "execution_count": 6,
   "metadata": {
    "pycharm": {
     "is_executing": false,
     "name": "#%%\n"
    }
   },
   "outputs": [
    {
     "traceback": [
      "\u001b[0;31m---------------------------------------------------------------------------\u001b[0m",
      "\u001b[0;31mNameError\u001b[0m                                 Traceback (most recent call last)",
      "\u001b[0;32m<ipython-input-6-af3869383e53>\u001b[0m in \u001b[0;36m<module>\u001b[0;34m\u001b[0m\n\u001b[0;32m----> 1\u001b[0;31m \u001b[0mprint\u001b[0m\u001b[0;34m(\u001b[0m\u001b[0macc\u001b[0m\u001b[0;34m)\u001b[0m\u001b[0;34m\u001b[0m\u001b[0;34m\u001b[0m\u001b[0m\n\u001b[0m\u001b[1;32m      2\u001b[0m \u001b[0mprint\u001b[0m\u001b[0;34m(\u001b[0m\u001b[0mauc\u001b[0m\u001b[0;34m)\u001b[0m\u001b[0;34m\u001b[0m\u001b[0;34m\u001b[0m\u001b[0m\n\u001b[1;32m      3\u001b[0m \u001b[0mplot_cis\u001b[0m\u001b[0;34m(\u001b[0m\u001b[0mbin_names\u001b[0m\u001b[0;34m,\u001b[0m \u001b[0mgraph_results\u001b[0m\u001b[0;34m,\u001b[0m \u001b[0mpriors_list\u001b[0m\u001b[0;34m)\u001b[0m\u001b[0;34m\u001b[0m\u001b[0;34m\u001b[0m\u001b[0m\n\u001b[1;32m      4\u001b[0m \u001b[0;34m\u001b[0m\u001b[0m\n",
      "\u001b[0;31mNameError\u001b[0m: name 'acc' is not defined"
     ],
     "ename": "NameError",
     "evalue": "name 'acc' is not defined",
     "output_type": "error"
    }
   ],
   "source": [
    "print(acc)\n",
    "print(auc)\n",
    "plot_cis(bin_names, graph_results, priors_list)"
   ]
  },
  {
   "cell_type": "markdown",
   "metadata": {
    "pycharm": {
     "name": "#%% md\n"
    }
   },
   "source": [
    "# BASELINE -------------------------------------------------------------------*"
   ]
  },
  {
   "cell_type": "code",
   "execution_count": null,
   "metadata": {
    "pycharm": {
     "is_executing": false,
     "name": "#%%\n"
    }
   },
   "outputs": [],
   "source": [
    "from collections import defaultdict\n",
    "from models import baseline_mlp\n",
    "import numpy as np\n",
    "import torch\n",
    "from sklearn.metrics import roc_auc_score\n",
    "import statistics\n",
    "import matplotlib.pyplot as plt\n",
    "\n",
    "GLOVE_DIR = NPY_INPUT_DIR\n",
    "TFIDF_DIR = NPY_INPUT_DIR"
   ]
  },
  {
   "cell_type": "markdown",
   "metadata": {},
   "source": [
    "# with histories"
   ]
  },
  {
   "cell_type": "code",
   "execution_count": null,
   "metadata": {
    "pycharm": {
     "is_executing": false,
     "name": "#%%\n"
    }
   },
   "outputs": [],
   "source": [
    "def test_100(X_train, y_train, X_test, y_test, X_hist_len_test):\n",
    "    running_acc = 0.0\n",
    "    running_auc = 0.0\n",
    "    running_f1 = 0.0\n",
    "    running_precision = 0.0\n",
    "    running_recall = 0.0\n",
    "    graph_results = []\n",
    "    bin_names = []\n",
    "    priors_list = []\n",
    "    \n",
    "    for i in range(NUM_TESTS):\n",
    "        # make model\n",
    "        baseline = baseline_mlp.MLP(X_train.shape[1], hidden_dim = HIDDEN_DIM1, num_layers= NUM_LAYERS1,\n",
    "                                    activation_function = ACTIVATION1, learning_rate =  LEARNING_RATE1,\n",
    "                                    momentum = MOMENTUM1, decay_factor = DECAY_FACTOR1)\n",
    "        \n",
    "        # train\n",
    "        baseline.learn(torch.Tensor(X_train), torch.Tensor(y_train), epochs = EPOCH1)\n",
    "        \n",
    "        # evaluate\n",
    "        running_acc += baseline.get_accuracy(torch.Tensor(X_test), torch.Tensor(y_test))\n",
    "        running_auc += baseline.get_auc(torch.Tensor(X_test), torch.Tensor(y_test))\n",
    "        running_f1 += baseline.get_f1(torch.Tensor(X_test), torch.Tensor(y_test))\n",
    "        running_precision += baseline.get_precision(torch.Tensor(X_test), torch.Tensor(y_test))\n",
    "        running_recall += baseline.get_recall(torch.Tensor(X_test), torch.Tensor(y_test))\n",
    "        bins, accRates, priors = baseline.get_accuracy_graph(torch.Tensor(X_test), torch.Tensor(y_test), X_hist_len_test)\n",
    "        bin_names.append(bins)\n",
    "        graph_results.append(accRates)\n",
    "        priors_list.append(priors)\n",
    "    \n",
    "    return running_acc/NUM_TESTS, running_auc/NUM_TESTS, running_f1/NUM_TESTS, \\\n",
    "           running_precision/NUM_TESTS, running_recall/NUM_TESTS, \\\n",
    "           bin_names, graph_results, priors_list"
   ]
  },
  {
   "cell_type": "code",
   "execution_count": null,
   "metadata": {
    "pycharm": {
     "is_executing": false,
     "name": "#%%\n"
    }
   },
   "outputs": [],
   "source": [
    "# retieve test data history sequence lengths from LSTM data\n",
    "X_hist_len_test = np.load(NPY_INPUT_DIR + 'full_hist_lens_test.npy')\n",
    "\n",
    "# class labels\n",
    "y_train = np.load(GLOVE_DIR + 'y_train.npy')\n",
    "y_test= np.load(GLOVE_DIR + 'y_test.npy')\n",
    "\n",
    "# load features\n",
    "# img\n",
    "X_histories_train_img = np.load(NPY_INPUT_DIR + 'images_meanvecs_train.npy')\n",
    "X_histories_test_img = np.load(NPY_INPUT_DIR + 'images_meanvecs_test.npy')\n",
    "\n",
    "X_labeled_train_img = np.load(NPY_INPUT_DIR + 'images_nohistories_train.npy')\n",
    "X_labeled_test_img = np.load(NPY_INPUT_DIR + 'images_nohistories_test.npy')\n",
    "\n",
    "# lang\n",
    "X_labeled_train_glove = np.load(GLOVE_DIR + 'X_labeled_train.npy')\n",
    "X_histories_train_glove = np.load(GLOVE_DIR + 'X_histories_train.npy')\n",
    "X_labeled_test_glove = np.load(GLOVE_DIR + 'X_labeled_test.npy')\n",
    "X_histories_test_glove = np.load(GLOVE_DIR + 'X_histories_test.npy')\n",
    "\n",
    "\n",
    "\n",
    "X_labeled_train_tfidf = np.load(TFIDF_DIR + 'trainTweets.npy')\n",
    "X_histories_train_tfidf = np.load(TFIDF_DIR + 'trainHistories.npy')\n",
    "X_labeled_test_tfidf = np.load(TFIDF_DIR + 'testTweets.npy')\n",
    "X_histories_test_tfidf = np.load(TFIDF_DIR + 'testHistories.npy')\n",
    "\n",
    "\n",
    "scaler1 = StandardScaler()\n",
    "scaler2 = StandardScaler()\n",
    "scaler3 = StandardScaler()\n",
    "scaler4 = StandardScaler()\n",
    "\n",
    "scaler5 = StandardScaler()\n",
    "scaler6 = StandardScaler()\n",
    "\n",
    "\n",
    "X_histories_train_img_norm = scaler5.fit_transform(X_histories_train_img)\n",
    "X_histories_test_img_norm  = scaler5.transform(X_histories_test_img)\n",
    "X_labeled_train_img_norm = scaler5.fit_transform(X_labeled_train_img)\n",
    "X_labeled_test_img_norm  = scaler5.transform(X_labeled_test_img)\n",
    "        \n",
    "X_labeled_train_glove_norm    = scaler1.fit_transform(X_labeled_train_glove)\n",
    "X_histories_train_glove_norm  = scaler2.fit_transform(X_histories_train_glove)\n",
    "X_labeled_test_glove_norm     = scaler1.transform(X_labeled_test_glove)\n",
    "X_histories_test_glove_norm  = scaler2.transform(X_histories_test_glove)\n",
    "\n",
    "X_labeled_train_tfidf_norm    = scaler3.fit_transform(X_labeled_train_tfidf)\n",
    "X_histories_train_tfidf_norm  = scaler4.fit_transform(X_histories_train_tfidf)\n",
    "X_labeled_test_tfidf_norm     = scaler3.transform(X_labeled_test_tfidf)\n",
    "X_histories_test_tfidf_norm   = scaler4.transform(X_histories_test_tfidf)\n",
    "\n",
    "# merge data\n",
    "\n",
    "X_train = np.concatenate((X_labeled_train_glove_norm, X_labeled_train_tfidf_norm,\n",
    "                          X_histories_train_glove_norm, X_histories_train_tfidf_norm),\n",
    "                         axis = 1)\n",
    "X_test = np.concatenate((X_labeled_test_glove_norm, X_labeled_test_tfidf_norm,\n",
    "                         X_histories_test_glove_norm, X_histories_test_tfidf_norm),\n",
    "                        axis = 1)\n"
   ]
  },
  {
   "cell_type": "code",
   "execution_count": null,
   "metadata": {
    "pycharm": {
     "is_executing": false,
     "name": "#%%\n"
    }
   },
   "outputs": [],
   "source": [
    "%%capture\n",
    "# mutes output for this cell\n",
    "\n",
    "acc, auc, f1, precision, recall, bin_names, graph_results, priors_list= test_100(X_train,y_train,X_test,y_test, X_hist_len_test)"
   ]
  },
  {
   "cell_type": "code",
   "execution_count": null,
   "metadata": {
    "pycharm": {
     "is_executing": false,
     "name": "#%%\n"
    }
   },
   "outputs": [],
   "source": [
    "print(acc)\n",
    "print(auc)\n",
    "plot_cis(bin_names, graph_results, priors_list)"
   ]
  },
  {
   "cell_type": "markdown",
   "metadata": {},
   "source": [
    "# without histories"
   ]
  },
  {
   "cell_type": "code",
   "execution_count": null,
   "metadata": {
    "pycharm": {
     "is_executing": false,
     "name": "#%%\n"
    }
   },
   "outputs": [],
   "source": [
    "def test_100(X_train, y_train, X_test, y_test, X_hist_len_test):\n",
    "    running_acc = 0.0\n",
    "    running_auc = 0.0\n",
    "    running_f1 = 0.0\n",
    "    running_precision = 0.0\n",
    "    running_recall = 0.0\n",
    "    graph_results = []\n",
    "    bin_names = []\n",
    "    priors_list = []\n",
    "    all_results = []\n",
    "    \n",
    "    for i in range(NUM_TESTS):\n",
    "        # make model\n",
    "        baseline = baseline_mlp.MLP(X_train.shape[1], hidden_dim = HIDDEN_DIM2, num_layers= NUM_LAYERS2,\n",
    "                                    activation_function = ACTIVATION2, learning_rate =  LEARNING_RATE2,\n",
    "                                    momentum = MOMENTUM2, decay_factor = DECAY_FACTOR2)\n",
    "        \n",
    "        # train\n",
    "        baseline.learn(torch.Tensor(X_train), torch.Tensor(y_train), epochs = EPOCH2)\n",
    "        \n",
    "        # evaluate\n",
    "        acc = baseline.get_accuracy(torch.Tensor(X_test), torch.Tensor(y_test))\n",
    "        auc = baseline.get_auc(torch.Tensor(X_test), torch.Tensor(y_test))\n",
    "        f1 = baseline.get_f1(torch.Tensor(X_test), torch.Tensor(y_test))\n",
    "        precision = baseline.get_precision(torch.Tensor(X_test), torch.Tensor(y_test))\n",
    "        recall = baseline.get_recall(torch.Tensor(X_test), torch.Tensor(y_test))\n",
    "        running_acc += acc\n",
    "        running_auc += auc\n",
    "        running_f1 += f1\n",
    "        running_precision += precision\n",
    "        running_recall += recall\n",
    "        bins, accRates, priors = baseline.get_accuracy_graph(torch.Tensor(X_test), torch.Tensor(y_test), X_hist_len_test)\n",
    "        bin_names.append(bins)\n",
    "        graph_results.append(accRates)\n",
    "        priors_list.append(priors)\n",
    "    \n",
    "    results = np.hstack(all_results)\n",
    "    np.save(NPY_OUTPUT_DIR + '.npy', results)\n",
    "    \n",
    "    return running_acc/NUM_TESTS, running_auc/NUM_TESTS, running_f1/NUM_TESTS, \\\n",
    "           running_precision/NUM_TESTS, running_recall/NUM_TESTS, \\\n",
    "           bin_names, graph_results, priors_list"
   ]
  },
  {
   "cell_type": "code",
   "execution_count": null,
   "metadata": {
    "pycharm": {
     "is_executing": false,
     "name": "#%%\n"
    }
   },
   "outputs": [],
   "source": [
    "# merge data\n",
    "\n",
    "# merge data\n",
    "X_train = np.concatenate((X_labeled_train_glove_norm, X_labeled_train_tfidf_norm,\n",
    "                      X_labeled_train_img_norm),\n",
    "                     axis = 1)\n",
    "X_test = np.concatenate((X_labeled_test_glove_norm, X_labeled_test_tfidf_norm,\n",
    "                     X_labeled_test_img_norm),\n",
    "                    axis = 1)"
   ]
  },
  {
   "cell_type": "code",
   "execution_count": null,
   "metadata": {
    "pycharm": {
     "is_executing": false,
     "name": "#%%\n"
    }
   },
   "outputs": [],
   "source": [
    "%%capture\n",
    "# mutes output for this cell\n",
    "\n",
    "acc, auc, f1, precision, recall, bin_names, graph_results, priors_list = test_100(X_train,y_train,X_test,y_test, X_hist_len_test)"
   ]
  },
  {
   "cell_type": "code",
   "execution_count": null,
   "metadata": {
    "pycharm": {
     "is_executing": false,
     "name": "#%%\n"
    }
   },
   "outputs": [],
   "source": [
    "print(acc)\n",
    "print(auc)\n",
    "plot_cis(bin_names, graph_results, priors_list)\n",
    "\n",
    "\n",
    "\n"
   ]
  }
 ],
 "metadata": {
  "kernelspec": {
   "display_name": "Python 3",
   "language": "python",
   "name": "python3"
  },
  "language_info": {
   "codemirror_mode": {
    "name": "ipython",
    "version": 3
   },
   "file_extension": ".py",
   "mimetype": "text/x-python",
   "name": "python",
   "nbconvert_exporter": "python",
   "pygments_lexer": "ipython3",
   "version": "3.7.3"
  },
  "pycharm": {
   "stem_cell": {
    "cell_type": "raw",
    "source": [],
    "metadata": {
     "collapsed": false
    }
   }
  }
 },
 "nbformat": 4,
 "nbformat_minor": 1
}