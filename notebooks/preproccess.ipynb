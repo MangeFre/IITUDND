{
 "cells": [
  {
   "cell_type": "code",
   "execution_count": 18,
   "metadata": {
    "collapsed": true,
    "pycharm": {
     "is_executing": false
    }
   },
   "outputs": [],
   "source": [
    "import tweepy\n",
    "import os\n",
    "\n",
    "data_dir = \"/Users/ianmagnusson/DisasterProject/data/CrisisMMD_v1.0/annotations/\"\n",
    "\n",
    "consumer_key = \"PQSsqSxGft69D53XGknXya8cL\"\n",
    "consumer_secret = \"dlh6EFLADanVNvdl9Q9Lz9Iv3yQQyHY9vxKTS9BN2skflGd45d\"\n",
    "access_token = \"1187382763432771584-rwZbZc9lcOcaVdgxcIgqqCPqoQMo3I\"\n",
    "access_token_secret = \"nvnIFiZD9L1u6tZwntl24BtsLhKmkBntJ4dpko82fYKg8\"\n",
    "\n",
    "auth = tweepy.OAuthHandler(consumer_key, consumer_secret)\n",
    "auth.set_access_token(access_token, access_token_secret)\n",
    "\n",
    "api = tweepy.API(auth)\n",
    "\n",
    "\n",
    "with open(data_dir + \"hurricane_harvey_final_data.tsv\") as fin:\n",
    "    raw = fin.readlines()\n",
    "\n",
    "raw = raw[1:]  \n",
    "user_tweet_counts = {}\n",
    "not_found = 0\n",
    "not_auth = 0\n",
    "user_suspended = 0\n"
   ]
  },
  {
   "cell_type": "code",
   "execution_count": 20,
   "outputs": [
    {
     "name": "stdout",
     "text": [
      "[{'message': 'Rate limit exceeded', 'code': 88}]\n"
     ],
     "output_type": "stream"
    }
   ],
   "source": [
    "for line in raw[500:1000]:\n",
    "    tweetid = int(line.split()[0][1:-1])\n",
    "    try:\n",
    "        user_id = api.get_status(tweetid).author.id\n",
    "        user_tweet_counts[user_id] = user_tweet_counts.get(user_id, 0) + 1\n",
    "    except tweepy.TweepError as e:\n",
    "        if e.api_code == 144:\n",
    "            not_found += 1\n",
    "            continue\n",
    "        elif e.api_code == 179:\n",
    "            not_auth += 1\n",
    "            continue\n",
    "        elif e.api_code == 63:\n",
    "            user_suspended += 1\n",
    "            continue\n",
    "        else:\n",
    "            print(e)\n",
    "            break"
   ],
   "metadata": {
    "collapsed": false,
    "pycharm": {
     "name": "#%%\n",
     "is_executing": false
    }
   }
  },
  {
   "cell_type": "code",
   "execution_count": 21,
   "outputs": [
    {
     "data": {
      "text/plain": "{756551449149046785: 1,\n 1682527040: 4,\n 2890175659: 1,\n 521460388: 1,\n 1379720960: 1,\n 868856461: 1,\n 4724991865: 1,\n 1932816230: 2,\n 241642996: 1,\n 189656687: 1,\n 20193551: 1,\n 1901928318: 1,\n 14404094: 1,\n 46001628: 1,\n 885727267: 1,\n 3000127167: 1,\n 2416788982: 2,\n 1957768417: 1,\n 303438200: 1,\n 934399189: 1,\n 15937367: 1,\n 841861508942450688: 1,\n 719690726641164288: 1,\n 1013343390: 1,\n 713180918178058240: 1,\n 183269991: 1,\n 2395374864: 1,\n 632129599: 1,\n 856767565653303296: 1,\n 17059735: 1,\n 211002286: 1,\n 765400544772956160: 1,\n 35778794: 1,\n 108653141: 1,\n 15922073: 1,\n 2649925794: 1,\n 30591148: 1,\n 188712627: 1,\n 2908313571: 1,\n 27961495: 3,\n 21028056: 1,\n 19098792: 1,\n 1059240924: 1,\n 1859495642: 1,\n 789581786540113920: 1,\n 36229347: 1,\n 27583598: 2,\n 800914339020632064: 1,\n 768898960488402944: 1,\n 414946220: 1,\n 622539120: 4,\n 3098402048: 1,\n 2551069075: 1,\n 1395158480: 1,\n 851467828683091968: 1,\n 792651643: 1,\n 2435036751: 1,\n 4116123674: 1,\n 846851726443495425: 1,\n 169353953: 1,\n 15246650: 1,\n 18893390: 1,\n 23775899: 1,\n 21925991: 2,\n 498808204: 1,\n 852620682143948800: 1,\n 838567732211666944: 1,\n 707602410613530624: 1,\n 780918774031527936: 1,\n 15577108: 1,\n 837981504: 1,\n 1535895577: 1,\n 2848961694: 1,\n 16550142: 1,\n 169881795: 1,\n 549785488: 2,\n 30896735: 1,\n 43855487: 1,\n 2730436603: 4,\n 1474987321: 1,\n 314330717: 1,\n 3380277748: 1,\n 4146490398: 2,\n 3505902095: 1,\n 2759333252: 1,\n 567486774: 1,\n 91872752: 1,\n 16223818: 1,\n 3249070459: 2,\n 851767586371121152: 1,\n 96913078: 1,\n 493203225: 1,\n 42940605: 1,\n 4128949213: 4,\n 24905550: 1,\n 2944489506: 1,\n 2755177355: 3,\n 2598577452: 4,\n 753396846349778944: 1,\n 836617535302819840: 1,\n 53563522: 1,\n 14185814: 1,\n 793293227788861441: 1,\n 89452493: 1,\n 7612242: 1,\n 213716174: 1,\n 162623616: 1,\n 476431586: 1,\n 714731566828793857: 1,\n 838060106713550848: 2,\n 962014680: 1,\n 125570941: 1,\n 864075602634125312: 1,\n 140224612: 1,\n 4590056716: 1,\n 294111939: 1,\n 622511746: 1,\n 70837744: 1,\n 2545900439: 1,\n 15145111: 1,\n 905985301: 1,\n 831893592985759744: 1,\n 833828351177531393: 1,\n 154947706: 1,\n 2435380381: 1,\n 1595147214: 4,\n 329676434: 1,\n 37034483: 1,\n 2943804864: 1,\n 894091897857343490: 1,\n 1089525235: 1,\n 2737924896: 1,\n 36327407: 3,\n 21094888: 2,\n 343631219: 1,\n 138526255: 1,\n 301258539: 2,\n 138054805: 1,\n 17194257: 1,\n 34655603: 1,\n 4837308314: 4,\n 34581750: 1,\n 19039823: 1,\n 3618515293: 1,\n 950742481: 1,\n 709190330382360576: 1,\n 17514024: 1,\n 15385348: 1,\n 51481488: 1,\n 876952288736182276: 1,\n 15585923: 1,\n 925347624: 1,\n 17471362: 1,\n 27540203: 1,\n 50412284: 1,\n 308678180: 1,\n 16621190: 1,\n 870556525: 1,\n 154974620: 1,\n 17626102: 1,\n 824645127356485632: 1,\n 4813882403: 1,\n 2314931072: 1,\n 783050604: 1,\n 1602093464: 1,\n 728076621169590273: 1,\n 52510382: 1,\n 13982072: 1,\n 2912272339: 1,\n 125637896: 1,\n 117767974: 1,\n 739868121784320000: 2,\n 3034816946: 1,\n 798890670: 2,\n 802939510652805120: 1,\n 3322715208: 1,\n 498996431: 1,\n 136285142: 2,\n 745215928405745664: 1,\n 465267417: 1,\n 17961291: 1,\n 808801942663143424: 1,\n 758848272: 1,\n 809551909673717760: 1,\n 2778601776: 1,\n 1067528912: 1,\n 19630674: 1,\n 2378149542: 1,\n 17701397: 1,\n 1917731: 1,\n 381082026: 1,\n 182835354: 1,\n 3654490475: 1,\n 42174947: 1,\n 119048111: 1,\n 25053299: 1,\n 30517674: 1,\n 740267807888318468: 1,\n 19383037: 1,\n 39495492: 1,\n 16659187: 1,\n 15725469: 1,\n 843974389: 1,\n 233088988: 1,\n 887750387977134080: 1,\n 2322411559: 1,\n 2279331673: 1,\n 24005134: 1,\n 2816190289: 1,\n 21746692: 1,\n 871923683077611520: 2,\n 939940844: 1,\n 456351730: 2,\n 54103126: 1,\n 796637236812910593: 1,\n 499143486: 2,\n 736690049119444994: 1,\n 16752675: 1,\n 509187058: 2,\n 256475899: 1,\n 123711420: 1,\n 268013990: 2,\n 21062787: 2,\n 276274782: 1,\n 2189533117: 1,\n 582205066: 1,\n 151730349: 1,\n 20774223: 1,\n 2225323670: 1,\n 2547790158: 1,\n 2250776587: 1,\n 840359728937074688: 1,\n 416505268: 1,\n 1419924511: 1,\n 897660234059087877: 1,\n 32131215: 1,\n 257333072: 2,\n 28639375: 1,\n 32280889: 1,\n 2942893689: 1,\n 74644440: 1,\n 592363282: 1,\n 1521024950: 1,\n 1237691220: 2,\n 842425403297939456: 1,\n 823950275253780480: 1,\n 3252457706: 2,\n 557190047: 1,\n 1378292900: 1,\n 483102828: 1,\n 244385383: 1,\n 451912692: 1,\n 547839306: 1,\n 1566650000: 1,\n 112814525: 1,\n 3186138157: 1,\n 13719342: 1,\n 277892126: 1,\n 230859523: 1,\n 502974485: 1,\n 224059965: 1,\n 76227785: 1,\n 15501305: 1,\n 721376207879725057: 1,\n 822501363343093762: 1,\n 27236195: 1,\n 354537587: 1,\n 1528072561: 4,\n 279598938: 1,\n 2875245609: 1,\n 855553676135366656: 1,\n 135092899: 2,\n 178097164: 1,\n 889830252708540416: 1,\n 48249973: 1,\n 28966228: 2,\n 541642081: 1,\n 15933690: 1,\n 60382670: 1,\n 22648354: 2,\n 8861752: 2,\n 874357260876697601: 1,\n 9544952: 1,\n 194636292: 1,\n 1222716350: 1,\n 887583709: 1,\n 1535792689: 1,\n 742110764253773826: 1,\n 226365433: 1,\n 845963700934709249: 1,\n 4880781801: 1,\n 872303819178348550: 1,\n 16883349: 1,\n 386236915: 3,\n 2154193748: 3,\n 3945315461: 1,\n 448778732: 1,\n 18391051: 1,\n 1951960405: 4,\n 121817564: 1,\n 842517455385911299: 1,\n 1280175644: 1,\n 35773039: 1,\n 348339045: 1,\n 3515326823: 1,\n 235725320: 1,\n 25969442: 1,\n 3376008106: 1,\n 41621505: 1,\n 1308980552: 1,\n 766625488349515776: 1,\n 1688559660: 3,\n 2157323743: 1,\n 228160907: 1,\n 208273358: 1,\n 25049056: 1,\n 127159400: 1,\n 1089213648: 1,\n 771717853624037376: 1,\n 16566551: 1,\n 3314444347: 1,\n 518022575: 2,\n 879006941439242241: 1,\n 2374466929: 3,\n 124578114: 1,\n 2985114866: 1,\n 224430095: 1,\n 10168082: 1,\n 902792664491450368: 6,\n 70990731: 1,\n 4623268695: 1,\n 180577571: 1,\n 884579488633413636: 1,\n 15012486: 1,\n 3239026551: 1,\n 708043233524387840: 1,\n 36086969: 1,\n 15945791: 1,\n 36060236: 1,\n 3844290193: 1,\n 16665742: 1,\n 2854962759: 1,\n 3892033751: 1,\n 810995220183711744: 1,\n 717353895719215104: 3,\n 830906875: 1,\n 69436043: 1,\n 401563951: 1,\n 143124004: 2,\n 739875238884839429: 1,\n 973550574: 1,\n 864050364005437440: 1,\n 11265832: 1,\n 480138516: 1,\n 49530633: 1,\n 31844127: 1,\n 67449031: 1,\n 96995645: 1,\n 349857864: 1,\n 14857525: 1,\n 2398019046: 1,\n 751830726: 1,\n 2827075221: 1,\n 565381804: 1,\n 2303652506: 1,\n 187113764: 1,\n 2975129903: 1,\n 1913027538: 1,\n 807423977723404289: 1,\n 132275408: 1,\n 845426144916766720: 1,\n 26075402: 1,\n 716081681850109952: 1,\n 789654456191234048: 4,\n 30267162: 1,\n 58824513: 4,\n 305435798: 1,\n 7154912: 1,\n 808064484527009792: 1,\n 951915908: 1,\n 36323407: 1,\n 2176836046: 1,\n 93223785: 1,\n 232254588: 1,\n 728570551879503872: 1,\n 144036263: 1,\n 40288957: 1,\n 199643207: 1,\n 44983352: 1,\n 15441650: 1,\n 2358552488: 1,\n 2696462246: 1,\n 2589573097: 1,\n 48055615: 1,\n 3351312010: 1,\n 3187185374: 4,\n 890246870764843008: 1,\n 602272122: 1,\n 1338018986: 3,\n 4898595773: 1,\n 771731346326753280: 1,\n 2458935073: 2,\n 3259757219: 1,\n 822225433: 1,\n 9513912: 1,\n 17643749: 1,\n 869859965221175296: 1,\n 482181713: 1,\n 2654911207: 1,\n 2910022539: 1,\n 17769274: 1,\n 1423744171: 1,\n 481011796: 1,\n 828862867: 1,\n 2883575579: 1,\n 44553146: 1,\n 24005213: 1,\n 1539729271: 1,\n 33774039: 1,\n 1945177860: 1,\n 19870529: 1,\n 14251565: 1,\n 731206581916831744: 1,\n 743776429: 1,\n 15764156: 1,\n 150080780: 1,\n 21859563: 1,\n 56844337: 1,\n 19073744: 1,\n 295061293: 1,\n 25372259: 1,\n 21155483: 1,\n 132592696: 1,\n 143092332: 2,\n 42921216: 1,\n 2571579776: 1,\n 2228631572: 1,\n 275192402: 1,\n 3293105073: 1,\n 20490238: 1,\n 1645663014: 4,\n 59155900: 1,\n 1496319918: 1,\n 1179882343: 1,\n 17756893: 1,\n 14422574: 1,\n 1261057938: 1,\n 2977343217: 1,\n 197421616: 2,\n 3233782181: 1,\n 110606529: 1,\n 18648378: 1,\n 2974965200: 1,\n 875455666760110084: 1,\n 23469093: 1,\n 812784746719756289: 1,\n 2718588632: 1,\n 71361765: 1,\n 416565697: 1,\n 21366870: 1,\n 202870467: 1,\n 761906969045151745: 1,\n 16404646: 1,\n 2873282133: 1,\n 413371734: 1,\n 192477353: 1,\n 14785822: 1,\n 1352544451: 1,\n 14076765: 1,\n 61538001: 1,\n 17906632: 1,\n 54504384: 1,\n 2272369653: 4,\n 3284474100: 1,\n 746841802863480832: 1,\n 3034996934: 1,\n 171781302: 1,\n 27871240: 1,\n 17095956: 2,\n 3308400766: 1,\n 22975062: 1,\n 259939006: 1,\n 4723540472: 1,\n 55814586: 1,\n 239516032: 1,\n 570225694: 1,\n 700632134235492352: 2,\n 2893524729: 1,\n 106882226: 1,\n 20091579: 2,\n 49362375: 1,\n 827967678484795392: 1,\n 344170013: 1,\n 17601174: 1,\n 860571772638384129: 1,\n 18999261: 1,\n 3231055477: 1,\n 575247925: 1,\n 897904839275028480: 1,\n 2749531428: 1,\n 3188080844: 1,\n 77401886: 1,\n 163491769: 1,\n 2685878258: 1,\n 145344704: 1,\n 826440473380323328: 1,\n 15720622: 1,\n 511740616: 1,\n 224903618: 1,\n 213698286: 1,\n 7215512: 1,\n 881154012: 1,\n 630046255: 1,\n 8863862: 1,\n 231977404: 1,\n 2896182171: 1,\n 2893187684: 2,\n 3156618111: 1,\n 896349892423159808: 2,\n 2863755568: 1,\n 2612654761: 1,\n 228622419: 1,\n 714885691252072448: 1,\n 17601086: 1,\n 847267157180243971: 1,\n 3278581543: 1,\n 1443793748: 1,\n 1633176697: 1,\n 745508574: 1,\n 1881045164: 1,\n 111598798: 1,\n 18257408: 1,\n 3325463460: 1,\n 138028728: 1,\n 780065123813691393: 3,\n 956565506: 1,\n 3243688201: 1,\n 20599531: 1,\n 852471804434292737: 1,\n 880349076721725440: 1,\n 757895294495358976: 1,\n 95963257: 1,\n 155428302: 1,\n 2698303566: 2,\n 4008688884: 3,\n 50279781: 1,\n 100678476: 3,\n 825650349331525633: 1,\n 1461879260: 1,\n 11704682: 1,\n 770282322658680833: 1,\n 826367988723044352: 1,\n 714551366719504385: 1,\n 122430910: 1,\n 20447988: 1,\n 1482823513: 1,\n 494093052: 1,\n 896197821619163136: 1,\n 868849578: 1,\n 56470183: 1,\n 2769695668: 1,\n 861867565: 1,\n 16316391: 1,\n 17141268: 1,\n 17586713: 1,\n 15752446: 1,\n 766313401723256832: 1}"
     },
     "metadata": {},
     "output_type": "execute_result",
     "execution_count": 21
    }
   ],
   "source": [
    "\n",
    "not_found\n",
    "not_auth\n",
    "user_suspended\n",
    "\n",
    "user_tweet_counts\n"
   ],
   "metadata": {
    "collapsed": false,
    "pycharm": {
     "name": "#%%\n",
     "is_executing": false
    }
   }
  },
  {
   "cell_type": "code",
   "execution_count": 56,
   "outputs": [],
   "source": [
    "import json\n",
    "user_tweet_counts = {}\n",
    "with open(\"/Users/ianmagnusson/DisasterProject/data/CrisisMMD_v1.0/json/srilanka_floods_final_data.json\") as fin:\n",
    "    for line in fin:\n",
    "        json_data = json.loads(line)\n",
    "        user_id = json_data['user']['id']\n",
    "        user_tweet_counts[user_id] = user_tweet_counts.get(user_id, 0) + 1\n",
    "        \n",
    "    "
   ],
   "metadata": {
    "collapsed": false,
    "pycharm": {
     "name": "#%%\n",
     "is_executing": false
    }
   }
  },
  {
   "cell_type": "code",
   "execution_count": 57,
   "outputs": [],
   "source": [
    "freq = {}\n",
    "for val in user_tweet_counts.values():\n",
    "    freq[val] = freq.get(val, 0) + 1"
   ],
   "metadata": {
    "collapsed": false,
    "pycharm": {
     "name": "#%%\n",
     "is_executing": false
    }
   }
  },
  {
   "cell_type": "code",
   "execution_count": 58,
   "outputs": [
    {
     "data": {
      "text/plain": "{1: 629, 2: 51, 3: 18, 7: 1, 8: 1, 4: 3, 5: 4}"
     },
     "metadata": {},
     "output_type": "execute_result",
     "execution_count": 58
    }
   ],
   "source": [
    "freq\n"
   ],
   "metadata": {
    "collapsed": false,
    "pycharm": {
     "name": "#%%\n",
     "is_executing": false
    }
   }
  },
  {
   "cell_type": "code",
   "execution_count": 89,
   "outputs": [],
   "source": [
    "import json\n",
    "userKeys = {}\n",
    "with open(\"/Users/ianmagnusson/DisasterProject/data/CrisisMMD_v1.0/json/hurricane_harvey_final_data.json\") as fin:\n",
    "    for line in fin.readlines()[:100]:\n",
    "        json_data = json.loads(line)\n",
    "        tweet_id = json_data['id']\n",
    "        user_id = json_data['user']['id']\n",
    "        userKeys[user_id] = userKeys.get(user_id, []) + [tweet_id]\n",
    "        \n",
    "    "
   ],
   "metadata": {
    "collapsed": false,
    "pycharm": {
     "name": "#%%\n",
     "is_executing": false
    }
   }
  },
  {
   "cell_type": "code",
   "execution_count": 103,
   "outputs": [
    {
     "name": "stdout",
     "text": [
      "User:  1682527040 . \\# tweets found Sept-Dec 2017:  0\n",
      "User:  3407291422 . \\# tweets found Sept-Dec 2017:  14\n",
      "User:  2890175659 . \\# tweets found Sept-Dec 2017:  20\n",
      "User:  521460388 . \\# tweets found Sept-Dec 2017:  0\n",
      "User:  1379720960 . \\# tweets found Sept-Dec 2017:  7\n",
      "User:  561449155 . \\# tweets found Sept-Dec 2017:  16\n",
      "User:  868856461 . \\# tweets found Sept-Dec 2017:  0\n",
      "User:  4724991865 . \\# tweets found Sept-Dec 2017:  0\n",
      "User:  168882529 . \\# tweets found Sept-Dec 2017:  17\n",
      "User:  1932816230 . \\# tweets found Sept-Dec 2017:  20\n",
      "User:  241642996 . \\# tweets found Sept-Dec 2017:  0\n",
      "User:  857131219 . \\# tweets found Sept-Dec 2017:  18\n",
      "User:  29029802 . \\# tweets found Sept-Dec 2017:  0\n",
      "User:  189656687 . \\# tweets found Sept-Dec 2017:  20\n",
      "User:  826278546096136193 . \\# tweets found Sept-Dec 2017:  20\n",
      "User:  20193551 . \\# tweets found Sept-Dec 2017:  20\n",
      "User:  1901928318 . \\# tweets found Sept-Dec 2017:  0\n",
      "User:  14404094 . \\# tweets found Sept-Dec 2017:  20\n",
      "User:  46001628 . \\# tweets found Sept-Dec 2017:  0\n",
      "User:  782976641505067008 . \\# tweets found Sept-Dec 2017:  20\n"
     ],
     "output_type": "stream"
    },
    {
     "traceback": [
      "\u001b[0;31m---------------------------------------------------------------------------\u001b[0m",
      "\u001b[0;31mWantReadError\u001b[0m                             Traceback (most recent call last)",
      "\u001b[0;32m~/anaconda3/lib/python3.7/site-packages/urllib3/contrib/pyopenssl.py\u001b[0m in \u001b[0;36mwrap_socket\u001b[0;34m(self, sock, server_side, do_handshake_on_connect, suppress_ragged_eofs, server_hostname)\u001b[0m\n\u001b[1;32m    455\u001b[0m             \u001b[0;32mtry\u001b[0m\u001b[0;34m:\u001b[0m\u001b[0;34m\u001b[0m\u001b[0;34m\u001b[0m\u001b[0m\n\u001b[0;32m--> 456\u001b[0;31m                 \u001b[0mcnx\u001b[0m\u001b[0;34m.\u001b[0m\u001b[0mdo_handshake\u001b[0m\u001b[0;34m(\u001b[0m\u001b[0;34m)\u001b[0m\u001b[0;34m\u001b[0m\u001b[0;34m\u001b[0m\u001b[0m\n\u001b[0m\u001b[1;32m    457\u001b[0m             \u001b[0;32mexcept\u001b[0m \u001b[0mOpenSSL\u001b[0m\u001b[0;34m.\u001b[0m\u001b[0mSSL\u001b[0m\u001b[0;34m.\u001b[0m\u001b[0mWantReadError\u001b[0m\u001b[0;34m:\u001b[0m\u001b[0;34m\u001b[0m\u001b[0;34m\u001b[0m\u001b[0m\n",
      "\u001b[0;32m~/anaconda3/lib/python3.7/site-packages/OpenSSL/SSL.py\u001b[0m in \u001b[0;36mdo_handshake\u001b[0;34m(self)\u001b[0m\n\u001b[1;32m   1914\u001b[0m         \u001b[0mresult\u001b[0m \u001b[0;34m=\u001b[0m \u001b[0m_lib\u001b[0m\u001b[0;34m.\u001b[0m\u001b[0mSSL_do_handshake\u001b[0m\u001b[0;34m(\u001b[0m\u001b[0mself\u001b[0m\u001b[0;34m.\u001b[0m\u001b[0m_ssl\u001b[0m\u001b[0;34m)\u001b[0m\u001b[0;34m\u001b[0m\u001b[0;34m\u001b[0m\u001b[0m\n\u001b[0;32m-> 1915\u001b[0;31m         \u001b[0mself\u001b[0m\u001b[0;34m.\u001b[0m\u001b[0m_raise_ssl_error\u001b[0m\u001b[0;34m(\u001b[0m\u001b[0mself\u001b[0m\u001b[0;34m.\u001b[0m\u001b[0m_ssl\u001b[0m\u001b[0;34m,\u001b[0m \u001b[0mresult\u001b[0m\u001b[0;34m)\u001b[0m\u001b[0;34m\u001b[0m\u001b[0;34m\u001b[0m\u001b[0m\n\u001b[0m\u001b[1;32m   1916\u001b[0m \u001b[0;34m\u001b[0m\u001b[0m\n",
      "\u001b[0;32m~/anaconda3/lib/python3.7/site-packages/OpenSSL/SSL.py\u001b[0m in \u001b[0;36m_raise_ssl_error\u001b[0;34m(self, ssl, result)\u001b[0m\n\u001b[1;32m   1621\u001b[0m         \u001b[0;32mif\u001b[0m \u001b[0merror\u001b[0m \u001b[0;34m==\u001b[0m \u001b[0m_lib\u001b[0m\u001b[0;34m.\u001b[0m\u001b[0mSSL_ERROR_WANT_READ\u001b[0m\u001b[0;34m:\u001b[0m\u001b[0;34m\u001b[0m\u001b[0;34m\u001b[0m\u001b[0m\n\u001b[0;32m-> 1622\u001b[0;31m             \u001b[0;32mraise\u001b[0m \u001b[0mWantReadError\u001b[0m\u001b[0;34m(\u001b[0m\u001b[0;34m)\u001b[0m\u001b[0;34m\u001b[0m\u001b[0;34m\u001b[0m\u001b[0m\n\u001b[0m\u001b[1;32m   1623\u001b[0m         \u001b[0;32melif\u001b[0m \u001b[0merror\u001b[0m \u001b[0;34m==\u001b[0m \u001b[0m_lib\u001b[0m\u001b[0;34m.\u001b[0m\u001b[0mSSL_ERROR_WANT_WRITE\u001b[0m\u001b[0;34m:\u001b[0m\u001b[0;34m\u001b[0m\u001b[0;34m\u001b[0m\u001b[0m\n",
      "\u001b[0;31mWantReadError\u001b[0m: ",
      "\nDuring handling of the above exception, another exception occurred:\n",
      "\u001b[0;31mKeyboardInterrupt\u001b[0m                         Traceback (most recent call last)",
      "\u001b[0;32m<ipython-input-103-cf50f5bd25e4>\u001b[0m in \u001b[0;36m<module>\u001b[0;34m\u001b[0m\n\u001b[1;32m     16\u001b[0m    \u001b[0mmaxDate\u001b[0m \u001b[0;34m=\u001b[0m \u001b[0muserKeys\u001b[0m\u001b[0;34m[\u001b[0m\u001b[0muser\u001b[0m\u001b[0;34m]\u001b[0m\u001b[0;34m[\u001b[0m\u001b[0;34m-\u001b[0m\u001b[0;36m1\u001b[0m\u001b[0;34m]\u001b[0m \u001b[0;31m# Set the last value in dict as max date\u001b[0m\u001b[0;34m\u001b[0m\u001b[0;34m\u001b[0m\u001b[0m\n\u001b[1;32m     17\u001b[0m    \u001b[0;32mtry\u001b[0m\u001b[0;34m:\u001b[0m\u001b[0;34m\u001b[0m\u001b[0;34m\u001b[0m\u001b[0m\n\u001b[0;32m---> 18\u001b[0;31m        \u001b[0mtmpTweets\u001b[0m \u001b[0;34m=\u001b[0m \u001b[0mapi\u001b[0m\u001b[0;34m.\u001b[0m\u001b[0muser_timeline\u001b[0m\u001b[0;34m(\u001b[0m\u001b[0muser\u001b[0m\u001b[0;34m,\u001b[0m \u001b[0mmax_id\u001b[0m \u001b[0;34m=\u001b[0m \u001b[0;36m1047132293000000000\u001b[0m\u001b[0;34m)\u001b[0m\u001b[0;34m\u001b[0m\u001b[0;34m\u001b[0m\u001b[0m\n\u001b[0m\u001b[1;32m     19\u001b[0m    \u001b[0;32mexcept\u001b[0m \u001b[0mtweepy\u001b[0m\u001b[0;34m.\u001b[0m\u001b[0mTweepError\u001b[0m \u001b[0;32mas\u001b[0m \u001b[0me\u001b[0m\u001b[0;34m:\u001b[0m\u001b[0;34m\u001b[0m\u001b[0;34m\u001b[0m\u001b[0m\n\u001b[1;32m     20\u001b[0m         \u001b[0;32mif\u001b[0m \u001b[0me\u001b[0m\u001b[0;34m.\u001b[0m\u001b[0mapi_code\u001b[0m \u001b[0;34m==\u001b[0m \u001b[0;36m144\u001b[0m\u001b[0;34m:\u001b[0m\u001b[0;34m\u001b[0m\u001b[0;34m\u001b[0m\u001b[0m\n",
      "\u001b[0;32m~/anaconda3/lib/python3.7/site-packages/tweepy/binder.py\u001b[0m in \u001b[0;36m_call\u001b[0;34m(*args, **kwargs)\u001b[0m\n\u001b[1;32m    248\u001b[0m                 \u001b[0;32mreturn\u001b[0m \u001b[0mmethod\u001b[0m\u001b[0;34m\u001b[0m\u001b[0;34m\u001b[0m\u001b[0m\n\u001b[1;32m    249\u001b[0m             \u001b[0;32melse\u001b[0m\u001b[0;34m:\u001b[0m\u001b[0;34m\u001b[0m\u001b[0;34m\u001b[0m\u001b[0m\n\u001b[0;32m--> 250\u001b[0;31m                 \u001b[0;32mreturn\u001b[0m \u001b[0mmethod\u001b[0m\u001b[0;34m.\u001b[0m\u001b[0mexecute\u001b[0m\u001b[0;34m(\u001b[0m\u001b[0;34m)\u001b[0m\u001b[0;34m\u001b[0m\u001b[0;34m\u001b[0m\u001b[0m\n\u001b[0m\u001b[1;32m    251\u001b[0m         \u001b[0;32mfinally\u001b[0m\u001b[0;34m:\u001b[0m\u001b[0;34m\u001b[0m\u001b[0;34m\u001b[0m\u001b[0m\n\u001b[1;32m    252\u001b[0m             \u001b[0mmethod\u001b[0m\u001b[0;34m.\u001b[0m\u001b[0msession\u001b[0m\u001b[0;34m.\u001b[0m\u001b[0mclose\u001b[0m\u001b[0;34m(\u001b[0m\u001b[0;34m)\u001b[0m\u001b[0;34m\u001b[0m\u001b[0;34m\u001b[0m\u001b[0m\n",
      "\u001b[0;32m~/anaconda3/lib/python3.7/site-packages/tweepy/binder.py\u001b[0m in \u001b[0;36mexecute\u001b[0;34m(self)\u001b[0m\n\u001b[1;32m    187\u001b[0m                                                 \u001b[0mtimeout\u001b[0m\u001b[0;34m=\u001b[0m\u001b[0mself\u001b[0m\u001b[0;34m.\u001b[0m\u001b[0mapi\u001b[0m\u001b[0;34m.\u001b[0m\u001b[0mtimeout\u001b[0m\u001b[0;34m,\u001b[0m\u001b[0;34m\u001b[0m\u001b[0;34m\u001b[0m\u001b[0m\n\u001b[1;32m    188\u001b[0m                                                 \u001b[0mauth\u001b[0m\u001b[0;34m=\u001b[0m\u001b[0mauth\u001b[0m\u001b[0;34m,\u001b[0m\u001b[0;34m\u001b[0m\u001b[0;34m\u001b[0m\u001b[0m\n\u001b[0;32m--> 189\u001b[0;31m                                                 proxies=self.api.proxy)\n\u001b[0m\u001b[1;32m    190\u001b[0m                 \u001b[0;32mexcept\u001b[0m \u001b[0mException\u001b[0m \u001b[0;32mas\u001b[0m \u001b[0me\u001b[0m\u001b[0;34m:\u001b[0m\u001b[0;34m\u001b[0m\u001b[0;34m\u001b[0m\u001b[0m\n\u001b[1;32m    191\u001b[0m                     \u001b[0msix\u001b[0m\u001b[0;34m.\u001b[0m\u001b[0mreraise\u001b[0m\u001b[0;34m(\u001b[0m\u001b[0mTweepError\u001b[0m\u001b[0;34m,\u001b[0m \u001b[0mTweepError\u001b[0m\u001b[0;34m(\u001b[0m\u001b[0;34m'Failed to send request: %s'\u001b[0m \u001b[0;34m%\u001b[0m \u001b[0me\u001b[0m\u001b[0;34m)\u001b[0m\u001b[0;34m,\u001b[0m \u001b[0msys\u001b[0m\u001b[0;34m.\u001b[0m\u001b[0mexc_info\u001b[0m\u001b[0;34m(\u001b[0m\u001b[0;34m)\u001b[0m\u001b[0;34m[\u001b[0m\u001b[0;36m2\u001b[0m\u001b[0;34m]\u001b[0m\u001b[0;34m)\u001b[0m\u001b[0;34m\u001b[0m\u001b[0;34m\u001b[0m\u001b[0m\n",
      "\u001b[0;32m~/anaconda3/lib/python3.7/site-packages/requests/sessions.py\u001b[0m in \u001b[0;36mrequest\u001b[0;34m(self, method, url, params, data, headers, cookies, files, auth, timeout, allow_redirects, proxies, hooks, stream, verify, cert, json)\u001b[0m\n\u001b[1;32m    531\u001b[0m         }\n\u001b[1;32m    532\u001b[0m         \u001b[0msend_kwargs\u001b[0m\u001b[0;34m.\u001b[0m\u001b[0mupdate\u001b[0m\u001b[0;34m(\u001b[0m\u001b[0msettings\u001b[0m\u001b[0;34m)\u001b[0m\u001b[0;34m\u001b[0m\u001b[0;34m\u001b[0m\u001b[0m\n\u001b[0;32m--> 533\u001b[0;31m         \u001b[0mresp\u001b[0m \u001b[0;34m=\u001b[0m \u001b[0mself\u001b[0m\u001b[0;34m.\u001b[0m\u001b[0msend\u001b[0m\u001b[0;34m(\u001b[0m\u001b[0mprep\u001b[0m\u001b[0;34m,\u001b[0m \u001b[0;34m**\u001b[0m\u001b[0msend_kwargs\u001b[0m\u001b[0;34m)\u001b[0m\u001b[0;34m\u001b[0m\u001b[0;34m\u001b[0m\u001b[0m\n\u001b[0m\u001b[1;32m    534\u001b[0m \u001b[0;34m\u001b[0m\u001b[0m\n\u001b[1;32m    535\u001b[0m         \u001b[0;32mreturn\u001b[0m \u001b[0mresp\u001b[0m\u001b[0;34m\u001b[0m\u001b[0;34m\u001b[0m\u001b[0m\n",
      "\u001b[0;32m~/anaconda3/lib/python3.7/site-packages/requests/sessions.py\u001b[0m in \u001b[0;36msend\u001b[0;34m(self, request, **kwargs)\u001b[0m\n\u001b[1;32m    644\u001b[0m \u001b[0;34m\u001b[0m\u001b[0m\n\u001b[1;32m    645\u001b[0m         \u001b[0;31m# Send the request\u001b[0m\u001b[0;34m\u001b[0m\u001b[0;34m\u001b[0m\u001b[0;34m\u001b[0m\u001b[0m\n\u001b[0;32m--> 646\u001b[0;31m         \u001b[0mr\u001b[0m \u001b[0;34m=\u001b[0m \u001b[0madapter\u001b[0m\u001b[0;34m.\u001b[0m\u001b[0msend\u001b[0m\u001b[0;34m(\u001b[0m\u001b[0mrequest\u001b[0m\u001b[0;34m,\u001b[0m \u001b[0;34m**\u001b[0m\u001b[0mkwargs\u001b[0m\u001b[0;34m)\u001b[0m\u001b[0;34m\u001b[0m\u001b[0;34m\u001b[0m\u001b[0m\n\u001b[0m\u001b[1;32m    647\u001b[0m \u001b[0;34m\u001b[0m\u001b[0m\n\u001b[1;32m    648\u001b[0m         \u001b[0;31m# Total elapsed time of the request (approximately)\u001b[0m\u001b[0;34m\u001b[0m\u001b[0;34m\u001b[0m\u001b[0;34m\u001b[0m\u001b[0m\n",
      "\u001b[0;32m~/anaconda3/lib/python3.7/site-packages/requests/adapters.py\u001b[0m in \u001b[0;36msend\u001b[0;34m(self, request, stream, timeout, verify, cert, proxies)\u001b[0m\n\u001b[1;32m    447\u001b[0m                     \u001b[0mdecode_content\u001b[0m\u001b[0;34m=\u001b[0m\u001b[0;32mFalse\u001b[0m\u001b[0;34m,\u001b[0m\u001b[0;34m\u001b[0m\u001b[0;34m\u001b[0m\u001b[0m\n\u001b[1;32m    448\u001b[0m                     \u001b[0mretries\u001b[0m\u001b[0;34m=\u001b[0m\u001b[0mself\u001b[0m\u001b[0;34m.\u001b[0m\u001b[0mmax_retries\u001b[0m\u001b[0;34m,\u001b[0m\u001b[0;34m\u001b[0m\u001b[0;34m\u001b[0m\u001b[0m\n\u001b[0;32m--> 449\u001b[0;31m                     \u001b[0mtimeout\u001b[0m\u001b[0;34m=\u001b[0m\u001b[0mtimeout\u001b[0m\u001b[0;34m\u001b[0m\u001b[0;34m\u001b[0m\u001b[0m\n\u001b[0m\u001b[1;32m    450\u001b[0m                 )\n\u001b[1;32m    451\u001b[0m \u001b[0;34m\u001b[0m\u001b[0m\n",
      "\u001b[0;32m~/anaconda3/lib/python3.7/site-packages/urllib3/connectionpool.py\u001b[0m in \u001b[0;36murlopen\u001b[0;34m(self, method, url, body, headers, retries, redirect, assert_same_host, timeout, pool_timeout, release_conn, chunked, body_pos, **response_kw)\u001b[0m\n\u001b[1;32m    598\u001b[0m                                                   \u001b[0mtimeout\u001b[0m\u001b[0;34m=\u001b[0m\u001b[0mtimeout_obj\u001b[0m\u001b[0;34m,\u001b[0m\u001b[0;34m\u001b[0m\u001b[0;34m\u001b[0m\u001b[0m\n\u001b[1;32m    599\u001b[0m                                                   \u001b[0mbody\u001b[0m\u001b[0;34m=\u001b[0m\u001b[0mbody\u001b[0m\u001b[0;34m,\u001b[0m \u001b[0mheaders\u001b[0m\u001b[0;34m=\u001b[0m\u001b[0mheaders\u001b[0m\u001b[0;34m,\u001b[0m\u001b[0;34m\u001b[0m\u001b[0;34m\u001b[0m\u001b[0m\n\u001b[0;32m--> 600\u001b[0;31m                                                   chunked=chunked)\n\u001b[0m\u001b[1;32m    601\u001b[0m \u001b[0;34m\u001b[0m\u001b[0m\n\u001b[1;32m    602\u001b[0m             \u001b[0;31m# If we're going to release the connection in ``finally:``, then\u001b[0m\u001b[0;34m\u001b[0m\u001b[0;34m\u001b[0m\u001b[0;34m\u001b[0m\u001b[0m\n",
      "\u001b[0;32m~/anaconda3/lib/python3.7/site-packages/urllib3/connectionpool.py\u001b[0m in \u001b[0;36m_make_request\u001b[0;34m(self, conn, method, url, timeout, chunked, **httplib_request_kw)\u001b[0m\n\u001b[1;32m    341\u001b[0m         \u001b[0;31m# Trigger any extra validation we need to do.\u001b[0m\u001b[0;34m\u001b[0m\u001b[0;34m\u001b[0m\u001b[0;34m\u001b[0m\u001b[0m\n\u001b[1;32m    342\u001b[0m         \u001b[0;32mtry\u001b[0m\u001b[0;34m:\u001b[0m\u001b[0;34m\u001b[0m\u001b[0;34m\u001b[0m\u001b[0m\n\u001b[0;32m--> 343\u001b[0;31m             \u001b[0mself\u001b[0m\u001b[0;34m.\u001b[0m\u001b[0m_validate_conn\u001b[0m\u001b[0;34m(\u001b[0m\u001b[0mconn\u001b[0m\u001b[0;34m)\u001b[0m\u001b[0;34m\u001b[0m\u001b[0;34m\u001b[0m\u001b[0m\n\u001b[0m\u001b[1;32m    344\u001b[0m         \u001b[0;32mexcept\u001b[0m \u001b[0;34m(\u001b[0m\u001b[0mSocketTimeout\u001b[0m\u001b[0;34m,\u001b[0m \u001b[0mBaseSSLError\u001b[0m\u001b[0;34m)\u001b[0m \u001b[0;32mas\u001b[0m \u001b[0me\u001b[0m\u001b[0;34m:\u001b[0m\u001b[0;34m\u001b[0m\u001b[0;34m\u001b[0m\u001b[0m\n\u001b[1;32m    345\u001b[0m             \u001b[0;31m# Py2 raises this as a BaseSSLError, Py3 raises it as socket timeout.\u001b[0m\u001b[0;34m\u001b[0m\u001b[0;34m\u001b[0m\u001b[0;34m\u001b[0m\u001b[0m\n",
      "\u001b[0;32m~/anaconda3/lib/python3.7/site-packages/urllib3/connectionpool.py\u001b[0m in \u001b[0;36m_validate_conn\u001b[0;34m(self, conn)\u001b[0m\n\u001b[1;32m    837\u001b[0m         \u001b[0;31m# Force connect early to allow us to validate the connection.\u001b[0m\u001b[0;34m\u001b[0m\u001b[0;34m\u001b[0m\u001b[0;34m\u001b[0m\u001b[0m\n\u001b[1;32m    838\u001b[0m         \u001b[0;32mif\u001b[0m \u001b[0;32mnot\u001b[0m \u001b[0mgetattr\u001b[0m\u001b[0;34m(\u001b[0m\u001b[0mconn\u001b[0m\u001b[0;34m,\u001b[0m \u001b[0;34m'sock'\u001b[0m\u001b[0;34m,\u001b[0m \u001b[0;32mNone\u001b[0m\u001b[0;34m)\u001b[0m\u001b[0;34m:\u001b[0m  \u001b[0;31m# AppEngine might not have  `.sock`\u001b[0m\u001b[0;34m\u001b[0m\u001b[0;34m\u001b[0m\u001b[0m\n\u001b[0;32m--> 839\u001b[0;31m             \u001b[0mconn\u001b[0m\u001b[0;34m.\u001b[0m\u001b[0mconnect\u001b[0m\u001b[0;34m(\u001b[0m\u001b[0;34m)\u001b[0m\u001b[0;34m\u001b[0m\u001b[0;34m\u001b[0m\u001b[0m\n\u001b[0m\u001b[1;32m    840\u001b[0m \u001b[0;34m\u001b[0m\u001b[0m\n\u001b[1;32m    841\u001b[0m         \u001b[0;32mif\u001b[0m \u001b[0;32mnot\u001b[0m \u001b[0mconn\u001b[0m\u001b[0;34m.\u001b[0m\u001b[0mis_verified\u001b[0m\u001b[0;34m:\u001b[0m\u001b[0;34m\u001b[0m\u001b[0;34m\u001b[0m\u001b[0m\n",
      "\u001b[0;32m~/anaconda3/lib/python3.7/site-packages/urllib3/connection.py\u001b[0m in \u001b[0;36mconnect\u001b[0;34m(self)\u001b[0m\n\u001b[1;32m    342\u001b[0m             \u001b[0mca_cert_dir\u001b[0m\u001b[0;34m=\u001b[0m\u001b[0mself\u001b[0m\u001b[0;34m.\u001b[0m\u001b[0mca_cert_dir\u001b[0m\u001b[0;34m,\u001b[0m\u001b[0;34m\u001b[0m\u001b[0;34m\u001b[0m\u001b[0m\n\u001b[1;32m    343\u001b[0m             \u001b[0mserver_hostname\u001b[0m\u001b[0;34m=\u001b[0m\u001b[0mserver_hostname\u001b[0m\u001b[0;34m,\u001b[0m\u001b[0;34m\u001b[0m\u001b[0;34m\u001b[0m\u001b[0m\n\u001b[0;32m--> 344\u001b[0;31m             ssl_context=context)\n\u001b[0m\u001b[1;32m    345\u001b[0m \u001b[0;34m\u001b[0m\u001b[0m\n\u001b[1;32m    346\u001b[0m         \u001b[0;32mif\u001b[0m \u001b[0mself\u001b[0m\u001b[0;34m.\u001b[0m\u001b[0massert_fingerprint\u001b[0m\u001b[0;34m:\u001b[0m\u001b[0;34m\u001b[0m\u001b[0;34m\u001b[0m\u001b[0m\n",
      "\u001b[0;32m~/anaconda3/lib/python3.7/site-packages/urllib3/util/ssl_.py\u001b[0m in \u001b[0;36mssl_wrap_socket\u001b[0;34m(sock, keyfile, certfile, cert_reqs, ca_certs, server_hostname, ssl_version, ciphers, ssl_context, ca_cert_dir)\u001b[0m\n\u001b[1;32m    345\u001b[0m             or IS_SECURETRANSPORT):\n\u001b[1;32m    346\u001b[0m         \u001b[0;32mif\u001b[0m \u001b[0mHAS_SNI\u001b[0m \u001b[0;32mand\u001b[0m \u001b[0mserver_hostname\u001b[0m \u001b[0;32mis\u001b[0m \u001b[0;32mnot\u001b[0m \u001b[0;32mNone\u001b[0m\u001b[0;34m:\u001b[0m\u001b[0;34m\u001b[0m\u001b[0;34m\u001b[0m\u001b[0m\n\u001b[0;32m--> 347\u001b[0;31m             \u001b[0;32mreturn\u001b[0m \u001b[0mcontext\u001b[0m\u001b[0;34m.\u001b[0m\u001b[0mwrap_socket\u001b[0m\u001b[0;34m(\u001b[0m\u001b[0msock\u001b[0m\u001b[0;34m,\u001b[0m \u001b[0mserver_hostname\u001b[0m\u001b[0;34m=\u001b[0m\u001b[0mserver_hostname\u001b[0m\u001b[0;34m)\u001b[0m\u001b[0;34m\u001b[0m\u001b[0;34m\u001b[0m\u001b[0m\n\u001b[0m\u001b[1;32m    348\u001b[0m \u001b[0;34m\u001b[0m\u001b[0m\n\u001b[1;32m    349\u001b[0m         warnings.warn(\n",
      "\u001b[0;32m~/anaconda3/lib/python3.7/site-packages/urllib3/contrib/pyopenssl.py\u001b[0m in \u001b[0;36mwrap_socket\u001b[0;34m(self, sock, server_side, do_handshake_on_connect, suppress_ragged_eofs, server_hostname)\u001b[0m\n\u001b[1;32m    456\u001b[0m                 \u001b[0mcnx\u001b[0m\u001b[0;34m.\u001b[0m\u001b[0mdo_handshake\u001b[0m\u001b[0;34m(\u001b[0m\u001b[0;34m)\u001b[0m\u001b[0;34m\u001b[0m\u001b[0;34m\u001b[0m\u001b[0m\n\u001b[1;32m    457\u001b[0m             \u001b[0;32mexcept\u001b[0m \u001b[0mOpenSSL\u001b[0m\u001b[0;34m.\u001b[0m\u001b[0mSSL\u001b[0m\u001b[0;34m.\u001b[0m\u001b[0mWantReadError\u001b[0m\u001b[0;34m:\u001b[0m\u001b[0;34m\u001b[0m\u001b[0;34m\u001b[0m\u001b[0m\n\u001b[0;32m--> 458\u001b[0;31m                 \u001b[0;32mif\u001b[0m \u001b[0;32mnot\u001b[0m \u001b[0mutil\u001b[0m\u001b[0;34m.\u001b[0m\u001b[0mwait_for_read\u001b[0m\u001b[0;34m(\u001b[0m\u001b[0msock\u001b[0m\u001b[0;34m,\u001b[0m \u001b[0msock\u001b[0m\u001b[0;34m.\u001b[0m\u001b[0mgettimeout\u001b[0m\u001b[0;34m(\u001b[0m\u001b[0;34m)\u001b[0m\u001b[0;34m)\u001b[0m\u001b[0;34m:\u001b[0m\u001b[0;34m\u001b[0m\u001b[0;34m\u001b[0m\u001b[0m\n\u001b[0m\u001b[1;32m    459\u001b[0m                     \u001b[0;32mraise\u001b[0m \u001b[0mtimeout\u001b[0m\u001b[0;34m(\u001b[0m\u001b[0;34m'select timed out'\u001b[0m\u001b[0;34m)\u001b[0m\u001b[0;34m\u001b[0m\u001b[0;34m\u001b[0m\u001b[0m\n\u001b[1;32m    460\u001b[0m                 \u001b[0;32mcontinue\u001b[0m\u001b[0;34m\u001b[0m\u001b[0;34m\u001b[0m\u001b[0m\n",
      "\u001b[0;32m~/anaconda3/lib/python3.7/site-packages/urllib3/util/wait.py\u001b[0m in \u001b[0;36mwait_for_read\u001b[0;34m(sock, timeout)\u001b[0m\n\u001b[1;32m    141\u001b[0m     \u001b[0mReturns\u001b[0m \u001b[0;32mTrue\u001b[0m \u001b[0;32mif\u001b[0m \u001b[0mthe\u001b[0m \u001b[0msocket\u001b[0m \u001b[0;32mis\u001b[0m \u001b[0mreadable\u001b[0m\u001b[0;34m,\u001b[0m \u001b[0;32mor\u001b[0m \u001b[0;32mFalse\u001b[0m \u001b[0;32mif\u001b[0m \u001b[0mthe\u001b[0m \u001b[0mtimeout\u001b[0m \u001b[0mexpired\u001b[0m\u001b[0;34m.\u001b[0m\u001b[0;34m\u001b[0m\u001b[0;34m\u001b[0m\u001b[0m\n\u001b[1;32m    142\u001b[0m     \"\"\"\n\u001b[0;32m--> 143\u001b[0;31m     \u001b[0;32mreturn\u001b[0m \u001b[0mwait_for_socket\u001b[0m\u001b[0;34m(\u001b[0m\u001b[0msock\u001b[0m\u001b[0;34m,\u001b[0m \u001b[0mread\u001b[0m\u001b[0;34m=\u001b[0m\u001b[0;32mTrue\u001b[0m\u001b[0;34m,\u001b[0m \u001b[0mtimeout\u001b[0m\u001b[0;34m=\u001b[0m\u001b[0mtimeout\u001b[0m\u001b[0;34m)\u001b[0m\u001b[0;34m\u001b[0m\u001b[0;34m\u001b[0m\u001b[0m\n\u001b[0m\u001b[1;32m    144\u001b[0m \u001b[0;34m\u001b[0m\u001b[0m\n\u001b[1;32m    145\u001b[0m \u001b[0;34m\u001b[0m\u001b[0m\n",
      "\u001b[0;32m~/anaconda3/lib/python3.7/site-packages/urllib3/util/wait.py\u001b[0m in \u001b[0;36mpoll_wait_for_socket\u001b[0;34m(sock, read, write, timeout)\u001b[0m\n\u001b[1;32m    102\u001b[0m         \u001b[0;32mreturn\u001b[0m \u001b[0mpoll_obj\u001b[0m\u001b[0;34m.\u001b[0m\u001b[0mpoll\u001b[0m\u001b[0;34m(\u001b[0m\u001b[0mt\u001b[0m\u001b[0;34m)\u001b[0m\u001b[0;34m\u001b[0m\u001b[0;34m\u001b[0m\u001b[0m\n\u001b[1;32m    103\u001b[0m \u001b[0;34m\u001b[0m\u001b[0m\n\u001b[0;32m--> 104\u001b[0;31m     \u001b[0;32mreturn\u001b[0m \u001b[0mbool\u001b[0m\u001b[0;34m(\u001b[0m\u001b[0m_retry_on_intr\u001b[0m\u001b[0;34m(\u001b[0m\u001b[0mdo_poll\u001b[0m\u001b[0;34m,\u001b[0m \u001b[0mtimeout\u001b[0m\u001b[0;34m)\u001b[0m\u001b[0;34m)\u001b[0m\u001b[0;34m\u001b[0m\u001b[0;34m\u001b[0m\u001b[0m\n\u001b[0m\u001b[1;32m    105\u001b[0m \u001b[0;34m\u001b[0m\u001b[0m\n\u001b[1;32m    106\u001b[0m \u001b[0;34m\u001b[0m\u001b[0m\n",
      "\u001b[0;32m~/anaconda3/lib/python3.7/site-packages/urllib3/util/wait.py\u001b[0m in \u001b[0;36m_retry_on_intr\u001b[0;34m(fn, timeout)\u001b[0m\n\u001b[1;32m     40\u001b[0m     \u001b[0;31m# Modern Python, that retries syscalls by default\u001b[0m\u001b[0;34m\u001b[0m\u001b[0;34m\u001b[0m\u001b[0;34m\u001b[0m\u001b[0m\n\u001b[1;32m     41\u001b[0m     \u001b[0;32mdef\u001b[0m \u001b[0m_retry_on_intr\u001b[0m\u001b[0;34m(\u001b[0m\u001b[0mfn\u001b[0m\u001b[0;34m,\u001b[0m \u001b[0mtimeout\u001b[0m\u001b[0;34m)\u001b[0m\u001b[0;34m:\u001b[0m\u001b[0;34m\u001b[0m\u001b[0;34m\u001b[0m\u001b[0m\n\u001b[0;32m---> 42\u001b[0;31m         \u001b[0;32mreturn\u001b[0m \u001b[0mfn\u001b[0m\u001b[0;34m(\u001b[0m\u001b[0mtimeout\u001b[0m\u001b[0;34m)\u001b[0m\u001b[0;34m\u001b[0m\u001b[0;34m\u001b[0m\u001b[0m\n\u001b[0m\u001b[1;32m     43\u001b[0m \u001b[0;32melse\u001b[0m\u001b[0;34m:\u001b[0m\u001b[0;34m\u001b[0m\u001b[0;34m\u001b[0m\u001b[0m\n\u001b[1;32m     44\u001b[0m     \u001b[0;31m# Old and broken Pythons.\u001b[0m\u001b[0;34m\u001b[0m\u001b[0;34m\u001b[0m\u001b[0;34m\u001b[0m\u001b[0m\n",
      "\u001b[0;32m~/anaconda3/lib/python3.7/site-packages/urllib3/util/wait.py\u001b[0m in \u001b[0;36mdo_poll\u001b[0;34m(t)\u001b[0m\n\u001b[1;32m    100\u001b[0m         \u001b[0;32mif\u001b[0m \u001b[0mt\u001b[0m \u001b[0;32mis\u001b[0m \u001b[0;32mnot\u001b[0m \u001b[0;32mNone\u001b[0m\u001b[0;34m:\u001b[0m\u001b[0;34m\u001b[0m\u001b[0;34m\u001b[0m\u001b[0m\n\u001b[1;32m    101\u001b[0m             \u001b[0mt\u001b[0m \u001b[0;34m*=\u001b[0m \u001b[0;36m1000\u001b[0m\u001b[0;34m\u001b[0m\u001b[0;34m\u001b[0m\u001b[0m\n\u001b[0;32m--> 102\u001b[0;31m         \u001b[0;32mreturn\u001b[0m \u001b[0mpoll_obj\u001b[0m\u001b[0;34m.\u001b[0m\u001b[0mpoll\u001b[0m\u001b[0;34m(\u001b[0m\u001b[0mt\u001b[0m\u001b[0;34m)\u001b[0m\u001b[0;34m\u001b[0m\u001b[0;34m\u001b[0m\u001b[0m\n\u001b[0m\u001b[1;32m    103\u001b[0m \u001b[0;34m\u001b[0m\u001b[0m\n\u001b[1;32m    104\u001b[0m     \u001b[0;32mreturn\u001b[0m \u001b[0mbool\u001b[0m\u001b[0;34m(\u001b[0m\u001b[0m_retry_on_intr\u001b[0m\u001b[0;34m(\u001b[0m\u001b[0mdo_poll\u001b[0m\u001b[0;34m,\u001b[0m \u001b[0mtimeout\u001b[0m\u001b[0;34m)\u001b[0m\u001b[0;34m)\u001b[0m\u001b[0;34m\u001b[0m\u001b[0;34m\u001b[0m\u001b[0m\n",
      "\u001b[0;31mKeyboardInterrupt\u001b[0m: "
     ],
     "ename": "KeyboardInterrupt",
     "evalue": "",
     "output_type": "error"
    }
   ],
   "source": [
    "import datetime\n",
    "\n",
    "not_found = 0\n",
    "not_auth = 0\n",
    "user_suspended = 0\n",
    "prob_401 = 0\n",
    "\n",
    "startDate = datetime.datetime(2015, 5, 1, 0, 0, 0)\n",
    "endDate =   datetime.datetime(2020, 12, 31, 0, 0, 0)\n",
    "allUsers = len(userKeys)\n",
    "totalTweetsFound = 0\n",
    "noneUsers = 0\n",
    "for user in userKeys:\n",
    "   tweetTally = 0\n",
    "   tweets = []\n",
    "   maxDate = userKeys[user][-1] # Set the last value in dict as max date\n",
    "   try:\n",
    "       tmpTweets = api.user_timeline(user, max_id = 1047132293000000000)\n",
    "   except tweepy.TweepError as e:\n",
    "        if e.api_code == 144:\n",
    "            not_found += 1\n",
    "            continue\n",
    "        elif e.api_code == 179:\n",
    "            not_auth += 1\n",
    "            continue\n",
    "        elif e.api_code == 63:\n",
    "            user_suspended += 1\n",
    "            continue\n",
    "            \n",
    "        elif e.reason == 'Not authorized.':\n",
    "            prob_401 += 1\n",
    "            continue\n",
    "        else:\n",
    "            raise e\n",
    "   for tweet in tmpTweets:\n",
    "       if tweet.created_at <= endDate and tweet.created_at >= startDate:\n",
    "           tweets.append(tweet)\n",
    "           tweetTally += 1\n",
    "   print('User: ', user, '. \\# tweets found Sept-Dec 2017: ', tweetTally)\n",
    "   totalTweetsFound += tweetTally\n",
    "   if tweetTally == 0:\n",
    "       noneUsers += 1\n",
    "print('\\# tweets found total: ', totalTweetsFound, '\\# Users: ', allUsers, '\\# no tweet users: ', noneUsers)"
   ],
   "metadata": {
    "collapsed": false,
    "pycharm": {
     "name": "#%%\n",
     "is_executing": false
    }
   }
  },
  {
   "cell_type": "code",
   "execution_count": 101,
   "outputs": [
    {
     "data": {
      "text/plain": "[]"
     },
     "metadata": {},
     "output_type": "execute_result",
     "execution_count": 101
    }
   ],
   "source": [
    "tweets\n"
   ],
   "metadata": {
    "collapsed": false,
    "pycharm": {
     "name": "#%%\n",
     "is_executing": false
    }
   }
  },
  {
   "cell_type": "code",
   "execution_count": null,
   "outputs": [],
   "source": [
    "\n",
    "import tweepy\n",
    "import datetime\n",
    "import xlsxwriter\n",
    "import sys\n",
    "\n",
    "# credentials from https://apps.twitter.com/\n",
    "consumerKey = \"PQSsqSxGft69D53XGknXya8cL\"\n",
    "consumerSecret = \"dlh6EFLADanVNvdl9Q9Lz9Iv3yQQyHY9vxKTS9BN2skflGd45d\"\n",
    "accessToken = \"1187382763432771584-rwZbZc9lcOcaVdgxcIgqqCPqoQMo3I\"\n",
    "accessTokenSecret = \"nvnIFiZD9L1u6tZwntl24BtsLhKmkBntJ4dpko82fYKg8\"\n",
    "\n",
    "auth = tweepy.OAuthHandler(consumerKey, consumerSecret)\n",
    "auth.set_access_token(accessToken, accessTokenSecret)\n",
    "\n",
    "api = tweepy.API(auth)\n",
    "\n",
    "username = 756551449149046785\n",
    "startDate = datetime.datetime(2017, 8, 1, 0, 0, 0)\n",
    "endDate =   datetime.datetime(2017, 10, 1, 0, 0, 0)\n",
    "\n",
    "tweets = []\n",
    "max_guess =  905274232590004225 #902000000000000000\n",
    "tmpTweets = api.user_timeline(username, max_id = max_guess)\n"
   ],
   "metadata": {
    "collapsed": false,
    "pycharm": {
     "name": "#%%\n"
    }
   }
  },
  {
   "cell_type": "code",
   "execution_count": 69,
   "outputs": [
    {
     "data": {
      "text/plain": "[]"
     },
     "metadata": {},
     "output_type": "execute_result",
     "execution_count": 69
    }
   ],
   "source": [
    "tmpTweets"
   ],
   "metadata": {
    "collapsed": false,
    "pycharm": {
     "name": "#%%\n",
     "is_executing": false
    }
   }
  },
  {
   "cell_type": "code",
   "execution_count": 71,
   "outputs": [],
   "source": [
    "for tweet in tmpTweets:\n",
    "    if tweet.created_at < endDate and tweet.created_at > startDate:\n",
    "        tweets.append(tweet)"
   ],
   "metadata": {
    "collapsed": false,
    "pycharm": {
     "name": "#%%\n",
     "is_executing": false
    }
   }
  },
  {
   "cell_type": "code",
   "execution_count": 75,
   "outputs": [
    {
     "data": {
      "text/plain": "'@The_Chief1114 big fan of your stream. I tuned in for the first time in days only to have a perma ban in chat. talk to ur mods please? idk'"
     },
     "metadata": {},
     "output_type": "execute_result",
     "execution_count": 75
    }
   ],
   "source": [
    "tweets[2].text\n"
   ],
   "metadata": {
    "collapsed": false,
    "pycharm": {
     "name": "#%%\n",
     "is_executing": false
    }
   }
  },
  {
   "cell_type": "code",
   "execution_count": null,
   "outputs": [],
   "source": [
    "while (tmpTweets[-1].created_at > startDate):\n",
    "    print(\"Last Tweet @\", tmpTweets[-1].created_at, \" - fetching some more\")\n",
    "    tmpTweets = api.user_timeline(username, max_id = tmpTweets[-1].id)\n",
    "    for tweet in tmpTweets:\n",
    "        if tweet.created_at < endDate and tweet.created_at > startDate:\n",
    "            tweets.append(tweet)\n",
    "\n",
    "workbook = xlsxwriter.Workbook(username + \".xlsx\")\n",
    "worksheet = workbook.add_worksheet()\n",
    "row = 0\n",
    "for tweet in tweets:\n",
    "    worksheet.write_string(row, 0, str(tweet.id))\n",
    "    worksheet.write_string(row, 1, str(tweet.created_at))\n",
    "    worksheet.write(row, 2, tweet.text)\n",
    "    worksheet.write_string(row, 3, str(tweet.in_reply_to_status_id))\n",
    "    row += 1\n",
    "\n",
    "workbook.close()\n",
    "print(\"Excel file ready\")"
   ],
   "metadata": {
    "collapsed": false,
    "pycharm": {
     "name": "#%%\n"
    }
   }
  }
 ],
 "metadata": {
  "kernelspec": {
   "display_name": "Python 3",
   "language": "python",
   "name": "python3"
  },
  "language_info": {
   "codemirror_mode": {
    "name": "ipython",
    "version": 2
   },
   "file_extension": ".py",
   "mimetype": "text/x-python",
   "name": "python",
   "nbconvert_exporter": "python",
   "pygments_lexer": "ipython2",
   "version": "2.7.6"
  },
  "pycharm": {
   "stem_cell": {
    "cell_type": "raw",
    "source": [],
    "metadata": {
     "collapsed": false
    }
   }
  }
 },
 "nbformat": 4,
 "nbformat_minor": 0
}