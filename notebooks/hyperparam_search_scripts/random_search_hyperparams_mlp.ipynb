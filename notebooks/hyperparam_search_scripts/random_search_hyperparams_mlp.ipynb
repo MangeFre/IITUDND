{
 "cells": [
  {
   "cell_type": "code",
   "execution_count": 47,
   "metadata": {
    "collapsed": true,
    "pycharm": {
     "is_executing": false
    }
   },
   "outputs": [],
   "source": [
    "%reload_ext autoreload\n",
    "\n",
    "%autoreload 2\n",
    "import numpy as np\n",
    "from models import baseline_mlp\n",
    "import torch\n",
    "from sklearn.preprocessing import StandardScaler\n",
    "import random\n",
    "import pickle"
   ]
  },
  {
   "cell_type": "code",
   "execution_count": 48,
   "outputs": [],
   "source": [
    "# FILES TO CHANGE (This is where your sequence_nlp_harvey.zip etc is) test\n",
    "\n",
    "NPY_INPUT_DIR = '/Users/ianmagnusson/IITUDND/data/extracted_features/combined_NLP/maria/kfold/'\n",
    "\n",
    "OUT_FILE = '/Users/ianmagnusson/IITUDND/notebooks/maria_random_MLP_results.npy'\n",
    "\n",
    "\n",
    "NUM_EXPERIMENTS = 10000000000000000"
   ],
   "metadata": {
    "collapsed": false,
    "pycharm": {
     "name": "#%%\n",
     "is_executing": false
    }
   }
  },
  {
   "cell_type": "code",
   "execution_count": 49,
   "outputs": [],
   "source": [
    "def run_experiment(input_dim, hidden_dim, num_layers, activation_function,  learning_rate, momentum, decay_factor, epochs, data_dir):\n",
    "    \n",
    "    # load data from files\n",
    "    X_labeled_train_glove = np.load(data_dir + 'X_labeled_train.npy')\n",
    "    X_histories_train_glove = np.load(data_dir + 'X_histories_train.npy')\n",
    "    X_labeled_test_glove = np.load(data_dir + 'X_labeled_test.npy')\n",
    "    X_histories_test_glove = np.load(data_dir + 'X_histories_test.npy')\n",
    "    \n",
    "    y_train = torch.Tensor(np.load(data_dir + 'y_train.npy'))\n",
    "    y_test = torch.Tensor(np.load(data_dir + 'y_test.npy'))\n",
    "    \n",
    "    X_labeled_train_tfidf = np.load(data_dir + 'trainTweets.npy')\n",
    "    X_histories_train_tfidf = np.load(data_dir + 'trainHistories.npy')\n",
    "    X_labeled_test_tfidf = np.load(data_dir + 'testTweets.npy')\n",
    "    X_histories_test_tfidf = np.load(data_dir + 'testHistories.npy')\n",
    "    \n",
    "    scaler1 = StandardScaler()\n",
    "    scaler2 = StandardScaler()\n",
    "    scaler3 = StandardScaler()\n",
    "    scaler4 = StandardScaler()\n",
    "    \n",
    "    # TODO FIX NAMES!           \n",
    "    X_labeled_train_glove_norm    = scaler1.fit_transform(X_labeled_train_glove)\n",
    "    X_histories_train_glove_norm  = scaler2.fit_transform(X_histories_train_glove)\n",
    "    X_labeled_test_glove_norm     = scaler1.transform(X_labeled_test_glove)\n",
    "    X_histories_test_glove_norm  = scaler2.transform(X_histories_test_glove)\n",
    "    \n",
    "    X_labeled_train_tfidf_norm    = scaler3.fit_transform(X_labeled_train_tfidf)\n",
    "    X_histories_train_tfidf_norm  = scaler4.fit_transform(X_histories_train_tfidf)\n",
    "    X_labeled_test_tfidf_norm     = scaler3.transform(X_labeled_test_tfidf)\n",
    "    X_histories_test_tfidf_norm   = scaler4.transform(X_histories_test_tfidf)\n",
    "    \n",
    "    # merge data\n",
    "    X_train = torch.Tensor(np.concatenate((X_labeled_train_glove_norm, X_labeled_train_tfidf_norm,\n",
    "                              X_histories_train_glove_norm, X_histories_train_tfidf_norm),\n",
    "                             axis = 1))\n",
    "    X_test = torch.Tensor(np.concatenate((X_labeled_test_glove_norm, X_labeled_test_tfidf_norm,\n",
    "                             X_histories_test_glove_norm, X_histories_test_tfidf_norm),\n",
    "                            axis = 1))\n",
    "    \n",
    "    # build and train model\n",
    "    model = baseline_mlp.MLP(input_size=input_dim, hidden_dim=hidden_dim, num_layers = num_layers, activation_function = activation_function,\n",
    "                      learning_rate=learning_rate, momentum = momentum, decay_factor = decay_factor)\n",
    "    \n",
    "    model.learn(X_train, y_train, epochs = epochs)\n",
    "    \n",
    "    # evaluate\n",
    "    return model.get_accuracy(X_test, y_test)\n",
    "\n",
    "def cross_validate(input_dim, hidden_dim, num_layers, activation_function,  learning_rate, momentum, decay_factor, epochs,\n",
    "                   data_dir, folds = 10):\n",
    "    accuracy_sum = 0.0\n",
    "    x = 0\n",
    "    for i in range(folds):\n",
    "        fold_dir = data_dir + str(i) + '/'\n",
    "        print('running fold', i)\n",
    "        acc = run_experiment(input_dim, hidden_dim, num_layers, activation_function,\n",
    "                             learning_rate, momentum, decay_factor,epochs,fold_dir)\n",
    "        print('fold result', acc)\n",
    "        accuracy_sum += acc\n",
    "        \n",
    "    return accuracy_sum / folds\n"
   ],
   "metadata": {
    "collapsed": false,
    "pycharm": {
     "name": "#%%\n",
     "is_executing": false
    }
   }
  },
  {
   "cell_type": "code",
   "execution_count": 50,
   "outputs": [],
   "source": [
    "def get_random_params(range_hd, range_nl, range_lr, range_mo, range_dr, range_ep):\n",
    "    hidden_dim = random.randint(*range_hd)\n",
    "    num_layers = random.randint(*range_nl)\n",
    "    activation_function = random.choice([torch.relu, torch.sigmoid, torch.tanh])\n",
    "    learning_rate = random.uniform(*range_lr)\n",
    "    momentum = random.uniform(*range_mo)\n",
    "    decay_factor = random.uniform(*range_dr)\n",
    "    epochs = random.randint(*range_ep)\n",
    "    \n",
    "    return hidden_dim, num_layers, activation_function,  learning_rate, momentum, decay_factor, epochs"
   ],
   "metadata": {
    "collapsed": false,
    "pycharm": {
     "name": "#%%\n",
     "is_executing": false
    }
   }
  },
  {
   "cell_type": "code",
   "execution_count": 51,
   "outputs": [
    {
     "name": "stdout",
     "text": [
      "starting test 0 params: (51, 1, <built-in method relu of type object at 0x10cf22540>, 0.014868303212759296, 0.3828602362982968, 0.2737996881789993, 1)\n",
      "running fold 0\n",
      "epoch: 0 learning rate: [0.014868303212759296]\n",
      "[1,   200] loss: 0.631\n",
      "[1,   400] loss: 0.516\n",
      "[1,   600] loss: 0.490\n",
      "fold result 0.8025078369905956\n",
      "running fold 1\n",
      "epoch: 0 learning rate: [0.014868303212759296]\n",
      "[1,   200] loss: 0.607\n",
      "[1,   400] loss: 0.528\n",
      "[1,   600] loss: 0.492\n",
      "fold result 0.7836990595611285\n",
      "running fold 2\n",
      "epoch: 0 learning rate: [0.014868303212759296]\n",
      "[1,   200] loss: 0.642\n",
      "[1,   400] loss: 0.529\n",
      "[1,   600] loss: 0.475\n",
      "fold result 0.7962382445141066\n",
      "running fold 3\n",
      "epoch: 0 learning rate: [0.014868303212759296]\n",
      "[1,   200] loss: 0.621\n",
      "[1,   400] loss: 0.522\n",
      "[1,   600] loss: 0.471\n",
      "fold result 0.7711598746081505\n",
      "running fold 4\n",
      "epoch: 0 learning rate: [0.014868303212759296]\n",
      "[1,   200] loss: 0.616\n",
      "[1,   400] loss: 0.518\n",
      "[1,   600] loss: 0.470\n",
      "fold result 0.8119122257053292\n",
      "running fold 5\n",
      "epoch: 0 learning rate: [0.014868303212759296]\n",
      "[1,   200] loss: 0.633\n",
      "[1,   400] loss: 0.542\n",
      "[1,   600] loss: 0.481\n",
      "fold result 0.7962382445141066\n",
      "running fold 6\n",
      "epoch: 0 learning rate: [0.014868303212759296]\n",
      "[1,   200] loss: 0.629\n",
      "[1,   400] loss: 0.491\n",
      "[1,   600] loss: 0.485\n",
      "fold result 0.7523510971786834\n",
      "running fold 7\n",
      "epoch: 0 learning rate: [0.014868303212759296]\n",
      "[1,   200] loss: 0.613\n",
      "[1,   400] loss: 0.502\n",
      "[1,   600] loss: 0.474\n",
      "fold result 0.7554858934169278\n",
      "running fold 8\n",
      "epoch: 0 learning rate: [0.014868303212759296]\n",
      "[1,   200] loss: 0.614\n",
      "[1,   400] loss: 0.537\n",
      "[1,   600] loss: 0.475\n",
      "fold result 0.768025078369906\n",
      "running fold 9\n",
      "epoch: 0 learning rate: [0.014868303212759296]\n",
      "[1,   200] loss: 0.612\n",
      "[1,   400] loss: 0.537\n",
      "[1,   600] loss: 0.473\n",
      "fold result 0.7286585365853658\n",
      "test outcome 0.7766276091444301\n",
      "************************************************************\n",
      "[(0.7766276091444301, (51, 1, <built-in method relu of type object at 0x10cf22540>, 0.014868303212759296, 0.3828602362982968, 0.2737996881789993, 1))]\n"
     ],
     "output_type": "stream"
    }
   ],
   "source": [
    "range_hd = (50,500)\n",
    "range_nl = (1, 2)\n",
    "range_lr = (.1, .0001)\n",
    "range_mo = (0,1)\n",
    "range_dr = (.1,1)\n",
    "range_ep = (1,4)\n",
    "\n",
    "\n",
    "# run this instead for first time\n",
    "#results = []\n",
    "\n",
    "# cross validate search for hyper-parameters\n",
    "with open(OUT_FILE, 'rb') as fin:\n",
    "    results = pickle.load(fin)\n",
    "    \n",
    "for i in range(NUM_EXPERIMENTS):\n",
    "    hyperparams = get_random_params(range_hd, range_nl, range_lr, range_mo, range_dr, range_ep)\n",
    "    print('starting test', i,'params:', hyperparams)\n",
    "    mean_acc = cross_validate(800, *hyperparams, NPY_INPUT_DIR)\n",
    "    print('test outcome', mean_acc)\n",
    "    print('************************************************************')\n",
    "    results.append((mean_acc, hyperparams))\n",
    "    results = sorted(results, key=lambda x: x[0], reverse=True)\n",
    "    print('top so far')\n",
    "    print(results[:1])\n",
    "    print('************************************************************')\n",
    "    \n",
    "    # backup results\n",
    "    with open(OUT_FILE, 'wb') as fout:\n",
    "        pickle.dump(results, fout)"
   ],
   "metadata": {
    "collapsed": false,
    "pycharm": {
     "name": "#%%\n",
     "is_executing": false
    }
   }
  },
  {
   "cell_type": "code",
   "execution_count": null,
   "outputs": [],
   "source": [
    "results = sorted(results, key=lambda x: x[0], reverse=True)\n",
    "\n",
    "print(results[:3])\n",
    "\n",
    "# RUN THIS CELL AFTER YOU HAVE INTERUPTED OR FINISHED A SEARCH TO UPDATE!!!!!!\n",
    "\n",
    "with open(OUT_FILE, 'wb') as fout:\n",
    "    pickle.dump(results, fout)"
   ],
   "metadata": {
    "collapsed": false,
    "pycharm": {
     "name": "#%%\n"
    }
   }
  }
 ],
 "metadata": {
  "kernelspec": {
   "display_name": "Python 3",
   "language": "python",
   "name": "python3"
  },
  "language_info": {
   "codemirror_mode": {
    "name": "ipython",
    "version": 2
   },
   "file_extension": ".py",
   "mimetype": "text/x-python",
   "name": "python",
   "nbconvert_exporter": "python",
   "pygments_lexer": "ipython2",
   "version": "2.7.6"
  },
  "pycharm": {
   "stem_cell": {
    "cell_type": "raw",
    "source": [],
    "metadata": {
     "collapsed": false
    }
   }
  }
 },
 "nbformat": 4,
 "nbformat_minor": 0
}