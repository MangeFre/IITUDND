{
 "cells": [
  {
   "cell_type": "code",
   "execution_count": 1,
   "outputs": [],
   "source": [
    "%reload_ext autoreload\n",
    "%autoreload 2\n",
    "from gensim.models import KeyedVectors\n",
    "from gensim.scripts.glove2word2vec import glove2word2vec\n",
    "from utilities import data_handler_old as data_handler\n",
    "import numpy as np\n",
    "from sklearn.feature_extraction.stop_words import ENGLISH_STOP_WORDS\n",
    "from sklearn.feature_extraction.text import CountVectorizer # for tokenization only\n",
    "\n",
    "\n",
    "\n",
    "from sklearn.feature_extraction.text import TfidfVectorizer\n",
    "from sklearn.decomposition import TruncatedSVD"
   ],
   "metadata": {
    "collapsed": false,
    "pycharm": {
     "name": "#%%\n",
     "is_executing": false
    }
   }
  },
  {
   "cell_type": "markdown",
   "source": [
    "# THE CELL BELLOW CONTAINS THE FILENAMES TO CHANGE"
   ],
   "metadata": {
    "collapsed": false
   }
  },
  {
   "cell_type": "code",
   "execution_count": 2,
   "outputs": [],
   "source": [
    "UNLABLED_DATA = '/Users/ianmagnusson/IITUDND/data/retrieved_data/tweets/harvey_extras.json'\n",
    "LABLED_DATA = '/Users/ianmagnusson/IITUDND/data/CrisisMMD_v1.0/json/hurricane_harvey_final_data.json'\n",
    "CLASS_DATA = '/Users/ianmagnusson/IITUDND/data/CrisisMMD_v1.0/annotations/hurricane_harvey_final_data.tsv'\n",
    "NPY_OUTPUT_DIR = '/Users/ianmagnusson/IITUDND/data/extracted_features/combined_NLP/harvey/'"
   ],
   "metadata": {
    "collapsed": false,
    "pycharm": {
     "name": "#%%\n",
     "is_executing": false
    }
   }
  },
  {
   "cell_type": "markdown",
   "source": [
    "# get tweets from file and split into test/train"
   ],
   "metadata": {
    "collapsed": false,
    "pycharm": {
     "name": "#%% md\n"
    }
   }
  },
  {
   "cell_type": "code",
   "execution_count": 3,
   "outputs": [],
   "source": [
    "data = data_handler.DataHandler(UNLABLED_DATA,LABLED_DATA,CLASS_DATA)\n",
    "\n",
    "train_labeled, train_histories, train_histories_by_target, test_labeled, test_histories, test_histories_by_target, train_merged, train_classes, test_classes = data.get_train_test_split()\n",
    "\n"
   ],
   "metadata": {
    "collapsed": false,
    "pycharm": {
     "name": "#%%\n",
     "is_executing": false
    }
   }
  },
  {
   "cell_type": "markdown",
   "source": [
    "## Set up glove"
   ],
   "metadata": {
    "collapsed": false
   }
  },
  {
   "cell_type": "code",
   "execution_count": 4,
   "outputs": [],
   "source": [
    "conversion_file = '../models/gensim_glove.txt'\n",
    "# convert glove format to work with gensim. tutorial here https://radimrehurek.com/gensim/scripts/glove2word2vec.html\n",
    "# _ = glove2word2vec('/Users/ianmagnusson/IITUDND/models/glove.twitter.27B.200d.txt', conversion_file)"
   ],
   "metadata": {
    "collapsed": false,
    "pycharm": {
     "name": "#%%\n",
     "is_executing": false
    }
   }
  },
  {
   "cell_type": "code",
   "execution_count": 5,
   "outputs": [],
   "source": [
    "# load model, NOTE this is very slow!\n",
    "glove = KeyedVectors.load_word2vec_format(conversion_file)"
   ],
   "metadata": {
    "collapsed": false,
    "pycharm": {
     "name": "#%%\n",
     "is_executing": false
    }
   }
  },
  {
   "cell_type": "markdown",
   "source": [
    "# Extract features"
   ],
   "metadata": {
    "collapsed": false
   }
  },
  {
   "cell_type": "markdown",
   "source": [
    "# Class labels\n",
    "\n"
   ],
   "metadata": {
    "collapsed": false
   }
  },
  {
   "cell_type": "code",
   "execution_count": 24,
   "outputs": [],
   "source": [
    "# build class labels\n",
    "\n",
    "y_train = np.array(train_classes)\n",
    "y_test = np.array(test_classes)"
   ],
   "metadata": {
    "collapsed": false,
    "pycharm": {
     "name": "#%%\n",
     "is_executing": false
    }
   }
  },
  {
   "cell_type": "code",
   "execution_count": 25,
   "outputs": [],
   "source": [
    "# checkpoint!\n",
    "\n",
    "np.save(NPY_OUTPUT_DIR + 'y_train.npy', y_train)\n",
    "np.save(NPY_OUTPUT_DIR + 'y_test.npy', y_test)\n",
    "\n",
    "\n",
    "#y_train = np.load(NPY_OUTPUT_DIR + 'y_train.npy')\n",
    "#y_test = np.load(NPY_OUTPUT_DIR + 'y_test.npy')"
   ],
   "metadata": {
    "collapsed": false,
    "pycharm": {
     "name": "#%%\n",
     "is_executing": false
    }
   }
  },
  {
   "cell_type": "markdown",
   "source": [
    "# GLOVE"
   ],
   "metadata": {
    "collapsed": false
   }
  },
  {
   "cell_type": "code",
   "execution_count": 6,
   "outputs": [],
   "source": [
    "EMBED_DIM = 200\n",
    "\n",
    "def embed_tweets(tweet_jsons):\n",
    "    X_embedded = np.zeros((len(tweet_jsons),EMBED_DIM))\n",
    "    tokenizer = CountVectorizer().build_tokenizer()\n",
    "    for i, tweet_json in enumerate(tweet_jsons):\n",
    "        text = tweet_json['text'].lower()\n",
    "        tokens = [token for token in tokenizer(text) if token not in ENGLISH_STOP_WORDS]\n",
    "        num_in_vocab = 0\n",
    "        for token in tokens:\n",
    "            if token in glove:\n",
    "                X_embedded[i] += glove[token]\n",
    "                num_in_vocab += 1\n",
    "        X_embedded[i] = X_embedded[i] / num_in_vocab\n",
    "    return X_embedded\n",
    "\n",
    "def embed_histories(histories):\n",
    "    X_embedded = np.zeros((len(histories),EMBED_DIM))\n",
    "    tokenizer = CountVectorizer().build_tokenizer()\n",
    "    for i, history in enumerate(histories):\n",
    "        text = ' '.join([tweet_json['text'].lower() for tweet_json in history])\n",
    "        tokens = [token for token in tokenizer(text) if token not in ENGLISH_STOP_WORDS]\n",
    "        num_in_vocab = 0\n",
    "        for token in tokens:\n",
    "            if token in glove:\n",
    "                X_embedded[i] += glove[token]\n",
    "                num_in_vocab += 1\n",
    "        X_embedded[i] = X_embedded[i] / num_in_vocab\n",
    "    return X_embedded"
   ],
   "metadata": {
    "collapsed": false,
    "pycharm": {
     "name": "#%%\n",
     "is_executing": false
    }
   }
  },
  {
   "cell_type": "code",
   "execution_count": 7,
   "outputs": [],
   "source": [
    "# baseline features\n",
    "\n",
    "X_labeled_train = embed_tweets(train_labeled)\n",
    "X_histories_train = embed_histories(train_histories)\n",
    "X_labeled_test = embed_tweets(test_labeled)\n",
    "X_histories_test = embed_histories(test_histories)"
   ],
   "metadata": {
    "collapsed": false,
    "pycharm": {
     "name": "#%%\n",
     "is_executing": false
    }
   }
  },
  {
   "cell_type": "code",
   "execution_count": 8,
   "outputs": [],
   "source": [
    "# checkpoint!\n",
    "np.save(NPY_OUTPUT_DIR + 'X_labeled_train.npy', X_labeled_train)\n",
    "np.save(NPY_OUTPUT_DIR + 'X_histories_train.npy', X_histories_train)\n",
    "np.save(NPY_OUTPUT_DIR + 'X_labeled_test.npy', X_labeled_test)\n",
    "np.save(NPY_OUTPUT_DIR + 'X_histories_test.npy', X_histories_test)\n",
    "\n",
    "\n",
    "\n",
    "#X_labeled_train = np.load(NPY_OUTPUT_DIR + 'X_labeled_train.npy')\n",
    "#X_histories_train = np.load(NPY_OUTPUT_DIR + 'X_histories_train.npy')\n",
    "#X_labeled_test = np.load(NPY_OUTPUT_DIR + 'X_labeled_test.npy')\n",
    "#X_histories_test = np.load(NPY_OUTPUT_DIR + 'X_histories_test.npy')\n"
   ],
   "metadata": {
    "collapsed": false,
    "pycharm": {
     "name": "#%%\n",
     "is_executing": false
    }
   }
  },
  {
   "cell_type": "code",
   "execution_count": 9,
   "outputs": [],
   "source": [
    "# sequence features\n",
    "\n",
    "def proccess_seq(histories_by_target):\n",
    "    X_seq = [] # a list of 2d tensors of shape (len(seq), embed_dim)\n",
    "    for history in histories_by_target:\n",
    "        X_seq.append(embed_tweets(history))\n",
    "    \n",
    "    return X_seq\n",
    "\n",
    "X_seq_train = proccess_seq(train_histories_by_target)\n",
    "X_seq_test = proccess_seq(test_histories_by_target)"
   ],
   "metadata": {
    "collapsed": false,
    "pycharm": {
     "name": "#%%\n",
     "is_executing": false
    }
   }
  },
  {
   "cell_type": "code",
   "execution_count": 10,
   "outputs": [],
   "source": [
    "# checkpoint!\n",
    "np.savez(NPY_OUTPUT_DIR + 'X_seq_glove_train.npz', *X_seq_train)\n",
    "np.savez(NPY_OUTPUT_DIR + 'X_seq_glove_test.npz', *X_seq_test)\n",
    "\n",
    "\n",
    "\n",
    "#X_seq_glove_train = np.load(NPY_INPUT_DIR + 'X_seq_glove_train.npz')\n",
    "#X_seq_glove_test = np.load(NPY_INPUT_DIR + 'X_seq_glove_test.npz')"
   ],
   "metadata": {
    "collapsed": false,
    "pycharm": {
     "name": "#%%\n",
     "is_executing": false
    }
   }
  },
  {
   "cell_type": "markdown",
   "source": [
    "# TF-IDF"
   ],
   "metadata": {
    "collapsed": false,
    "pycharm": {
     "name": "#%% md\n"
    }
   }
  },
  {
   "cell_type": "code",
   "execution_count": 19,
   "outputs": [],
   "source": [
    "SVD_COMPONENTS = 200\n",
    "\n",
    "def construct_vectorizer_and_SVD(merged):\n",
    "    allTweets = []\n",
    "    for i, tweet_json in enumerate(merged):\n",
    "        text = tweet_json['text'].lower()\n",
    "        allTweets.append(text)\n",
    "    vectorizer = TfidfVectorizer(stop_words='english')\n",
    "    tfidf_merged = vectorizer.fit_transform(allTweets)\n",
    "    svd = TruncatedSVD(n_components=SVD_COMPONENTS, n_iter=7, random_state=42)\n",
    "    svd.fit(tfidf_merged)\n",
    "    return vectorizer, svd\n",
    "\n",
    "\n",
    "def vectorize_histories(histories, vectorizer, svd):\n",
    "    rawHistories = [] # Will be in order\n",
    "    for i, history in enumerate(histories):\n",
    "        text = ' '.join([tweet_json['text'].lower() for tweet_json in history])\n",
    "        rawHistories.append(text)\n",
    "    histArr = vectorizer.transform(rawHistories)\n",
    "    histFeatureArr = svd.transform(histArr)\n",
    "    return histFeatureArr\n",
    "\n",
    "\n",
    "def vectorize_tweets(tweets, vectorizer, svd):\n",
    "    labeledTweets = []  # Will be in order\n",
    "    for i, tweet_json in enumerate(tweets):\n",
    "        text = tweet_json['text'].lower()\n",
    "        labeledTweets.append(text)\n",
    "    tweetArr = vectorizer.transform(labeledTweets)\n",
    "    tweetFeatureArr = svd.transform(tweetArr)\n",
    "    return tweetFeatureArr\n"
   ],
   "metadata": {
    "collapsed": false,
    "pycharm": {
     "name": "#%%\n",
     "is_executing": false
    }
   }
  },
  {
   "cell_type": "code",
   "execution_count": 20,
   "outputs": [],
   "source": [
    "# BASELINE\n",
    "\n",
    "vectorizer, svd = construct_vectorizer_and_SVD(train_merged)\n",
    "trainHistories = vectorize_histories(train_histories, vectorizer, svd)\n",
    "trainTweets = vectorize_tweets(train_labeled, vectorizer, svd)\n",
    "testHistories = vectorize_histories(test_histories, vectorizer, svd)\n",
    "testTweets = vectorize_tweets(test_labeled, vectorizer, svd)\n"
   ],
   "metadata": {
    "collapsed": false,
    "pycharm": {
     "name": "#%%\n",
     "is_executing": false
    }
   }
  },
  {
   "cell_type": "code",
   "execution_count": 25,
   "outputs": [
    {
     "name": "stdout",
     "text": [
      "Shape of train history np array: (3200, 200)\nShape of train tweets np array): (3200, 200)\nShape of test history np array: (800, 200)\nShape of test tweets np array: (800, 200)\n"
     ],
     "output_type": "stream"
    }
   ],
   "source": [
    "# Validation checks\n",
    "print(\"Shape of train history np array:\", trainHistories.shape)\n",
    "print(\"Shape of train tweets np array):\", trainTweets.shape)\n",
    "print(\"Shape of test history np array:\", testHistories.shape)\n",
    "print(\"Shape of test tweets np array:\", testTweets.shape)"
   ],
   "metadata": {
    "collapsed": false,
    "pycharm": {
     "name": "#%%\n",
     "is_executing": false
    }
   }
  },
  {
   "cell_type": "code",
   "execution_count": 22,
   "outputs": [],
   "source": [
    "# Save to outfiles\n",
    "np.save(NPY_OUTPUT_DIR + 'trainHistories.npy', trainHistories)\n",
    "np.save(NPY_OUTPUT_DIR + 'trainTweets.npy', trainTweets)\n",
    "np.save(NPY_OUTPUT_DIR + 'testHistories.npy', testHistories)\n",
    "np.save(NPY_OUTPUT_DIR + 'testTweets.npy', testTweets)\n",
    "np.save(NPY_OUTPUT_DIR + 'trainClassifications.npy', train_classes)\n",
    "np.save(NPY_OUTPUT_DIR + 'testClassifications.npy', test_classes)"
   ],
   "metadata": {
    "collapsed": false,
    "pycharm": {
     "name": "#%%\n",
     "is_executing": false
    }
   }
  },
  {
   "cell_type": "code",
   "execution_count": 23,
   "outputs": [],
   "source": [
    "# sequence features\n",
    "\n",
    "def proccess_seq_tfidf(histories_by_target, vectorizer, svd):\n",
    "    X_seq = [] # a list of 2d tensors of shape (len(seq), SVD_COMPONENTS)\n",
    "    for history in histories_by_target:\n",
    "        X_seq.append(vectorize_tweets(history, vectorizer, svd))\n",
    "    return X_seq\n",
    "\n",
    "X_seq_tfidf_train = proccess_seq_tfidf(train_histories_by_target, vectorizer, svd)\n",
    "X_seq_tfidf_test = proccess_seq_tfidf(test_histories_by_target, vectorizer, svd)"
   ],
   "metadata": {
    "collapsed": false,
    "pycharm": {
     "name": "#%%\n",
     "is_executing": false
    }
   }
  },
  {
   "cell_type": "code",
   "execution_count": 28,
   "outputs": [],
   "source": [
    "# checkpoint!\n",
    "np.savez(NPY_OUTPUT_DIR + 'X_seq_tfidf_train.npz', *X_seq_tfidf_train)\n",
    "np.savez(NPY_OUTPUT_DIR + 'X_seq_tfidf_test.npz', *X_seq_tfidf_test)\n",
    "\n",
    "\n",
    "\n",
    "#X_seq_tfidf_train = np.load(NPY_OUTPUT_DIR + 'X_seq_tfidf_train.npz')\n",
    "#X_seq_tfidf_test = np.load(NPY_OUTPUT_DIR + 'X_seq_tfidf_test.npz')\n",
    "\n",
    "\n",
    "\n",
    "\n"
   ],
   "metadata": {
    "collapsed": false,
    "pycharm": {
     "name": "#%%\n",
     "is_executing": false
    }
   }
  }
 ],
 "metadata": {
  "kernelspec": {
   "display_name": "Python 3",
   "language": "python",
   "name": "python3"
  },
  "language_info": {
   "codemirror_mode": {
    "name": "ipython",
    "version": 2
   },
   "file_extension": ".py",
   "mimetype": "text/x-python",
   "name": "python",
   "nbconvert_exporter": "python",
   "pygments_lexer": "ipython2",
   "version": "2.7.6"
  },
  "pycharm": {
   "stem_cell": {
    "cell_type": "raw",
    "source": [],
    "metadata": {
     "collapsed": false
    }
   }
  }
 },
 "nbformat": 4,
 "nbformat_minor": 0
}