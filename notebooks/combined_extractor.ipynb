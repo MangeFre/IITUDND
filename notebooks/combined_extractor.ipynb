{
 "cells": [
  {
   "cell_type": "code",
   "execution_count": 49,
   "outputs": [],
   "source": [
    "%reload_ext autoreload\n",
    "%autoreload 2\n",
    "from gensim.models import KeyedVectors\n",
    "from gensim.scripts.glove2word2vec import glove2word2vec\n",
    "from utilities import data_handler_old as data_handler\n",
    "import numpy as np\n",
    "from sklearn.feature_extraction.stop_words import ENGLISH_STOP_WORDS\n",
    "from sklearn.feature_extraction.text import CountVectorizer # for tokenization only\n",
    "\n",
    "\n",
    "\n",
    "from sklearn.feature_extraction.text import TfidfVectorizer\n",
    "from sklearn.decomposition import TruncatedSVD"
   ],
   "metadata": {
    "collapsed": false,
    "pycharm": {
     "name": "#%%\n",
     "is_executing": false
    }
   }
  },
  {
   "cell_type": "markdown",
   "source": [
    "# THE CELL BELLOW CONTAINS THE FILENAMES TO CHANGE"
   ],
   "metadata": {
    "collapsed": false
   }
  },
  {
   "cell_type": "code",
   "execution_count": 50,
   "outputs": [],
   "source": [
    "IMAGE_FEAT_DIR = '/Users/chloelarkin/Desktop/calfire/'\n",
    "UNLABLED_DATA = '/Users/chloelarkin/Desktop/calfire_extras.json'\n",
    "LABLED_DATA = '/Users/chloelarkin/Desktop/california_wildfires_final_data.json'\n",
    "CLASS_DATA = '/Users/chloelarkin/Desktop/california_wildfires_final_data.tsv'\n",
    "NPY_OUTPUT_DIR = '/Users/chloelarkin/IITUDND/data/extracted_features/images/calfire/'"
   ],
   "metadata": {
    "collapsed": false,
    "pycharm": {
     "name": "#%%\n",
     "is_executing": false
    }
   }
  },
  {
   "cell_type": "code",
   "execution_count": 51,
   "outputs": [],
   "source": [
    "# get img data; only enters overlapping img once\n",
    "labeled_npz = np.load(IMAGE_FEAT_DIR + 'labeled.npz')\n",
    "unlabeled_npz = np.load(IMAGE_FEAT_DIR + 'unlabeled.npz')\n",
    "\n",
    "image_features = {}\n",
    "for file in labeled_npz.files:\n",
    "    image_features[file] = labeled_npz[file]\n",
    "for file in unlabeled_npz.files:\n",
    "    image_features[file] = unlabeled_npz[file]"
   ],
   "metadata": {
    "collapsed": false,
    "pycharm": {
     "name": "#%%\n",
     "is_executing": false
    }
   }
  },
  {
   "cell_type": "markdown",
   "source": [
    "# get tweets from file and split into test/train"
   ],
   "metadata": {
    "collapsed": false,
    "pycharm": {
     "name": "#%% md\n"
    }
   }
  },
  {
   "cell_type": "code",
   "execution_count": 52,
   "outputs": [],
   "source": [
    "data = data_handler.DataHandler(UNLABLED_DATA,LABLED_DATA,CLASS_DATA)\n",
    "\n",
    "train_labeled, train_histories, train_histories_by_target, test_labeled, test_histories, test_histories_by_target, train_merged, train_classes, test_classes = data.get_train_test_split()\n"
   ],
   "metadata": {
    "collapsed": false,
    "pycharm": {
     "name": "#%%\n",
     "is_executing": false
    }
   }
  },
  {
   "cell_type": "markdown",
   "source": [
    "## Set up glove"
   ],
   "metadata": {
    "collapsed": false
   }
  },
  {
   "cell_type": "code",
   "execution_count": 53,
   "outputs": [],
   "source": [
    "conversion_file = '../models/gensim_glove.txt'\n",
    "# convert glove format to work with gensim. tutorial here https://radimrehurek.com/gensim/scripts/glove2word2vec.html\n",
    "# _ = glove2word2vec('/Users/ianmagnusson/IITUDND/models/glove.twitter.27B.200d.txt', conversion_file)"
   ],
   "metadata": {
    "collapsed": false,
    "pycharm": {
     "name": "#%%\n",
     "is_executing": false
    }
   }
  },
  {
   "cell_type": "code",
   "execution_count": 54,
   "outputs": [],
   "source": [
    "# load model, NOTE this is very slow!\n",
    "# glove = KeyedVectors.load_word2vec_format(conversion_file)\n",
    "glove = []"
   ],
   "metadata": {
    "collapsed": false,
    "pycharm": {
     "name": "#%%\n",
     "is_executing": false
    }
   }
  },
  {
   "cell_type": "markdown",
   "source": [
    "# Extract features"
   ],
   "metadata": {
    "collapsed": false
   }
  },
  {
   "cell_type": "markdown",
   "source": [
    "# Class labels\n",
    "\n"
   ],
   "metadata": {
    "collapsed": false
   }
  },
  {
   "cell_type": "code",
   "execution_count": 55,
   "outputs": [],
   "source": [
    "# build class labels\n",
    "\n",
    "y_train = np.array(train_classes)\n",
    "y_test = np.array(test_classes)"
   ],
   "metadata": {
    "collapsed": false,
    "pycharm": {
     "name": "#%%\n",
     "is_executing": false
    }
   }
  },
  {
   "cell_type": "code",
   "execution_count": 56,
   "outputs": [],
   "source": [
    "# checkpoint!\n",
    "\n",
    "np.save(NPY_OUTPUT_DIR + 'y_train.npy', y_train)\n",
    "np.save(NPY_OUTPUT_DIR + 'y_test.npy', y_test)\n",
    "\n",
    "\n",
    "#y_train = np.load(NPY_OUTPUT_DIR + 'y_train.npy')\n",
    "#y_test = np.load(NPY_OUTPUT_DIR + 'y_test.npy')"
   ],
   "metadata": {
    "collapsed": false,
    "pycharm": {
     "name": "#%%\n",
     "is_executing": false
    }
   }
  },
  {
   "cell_type": "markdown",
   "source": [
    "# GLOVE"
   ],
   "metadata": {
    "collapsed": false
   }
  },
  {
   "cell_type": "code",
   "execution_count": 57,
   "outputs": [],
   "source": [
    "EMBED_DIM = 200\n",
    "\n",
    "def embed_tweets(tweet_jsons):\n",
    "    X_embedded = np.zeros((len(tweet_jsons),EMBED_DIM))\n",
    "    tokenizer = CountVectorizer().build_tokenizer()\n",
    "    for i, tweet_json in enumerate(tweet_jsons):\n",
    "        text = tweet_json['text'].lower()\n",
    "        tokens = [token for token in tokenizer(text) if token not in ENGLISH_STOP_WORDS]\n",
    "        num_in_vocab = 0\n",
    "        for token in tokens:\n",
    "            if token in glove:\n",
    "                X_embedded[i] += glove[token]\n",
    "                num_in_vocab += 1\n",
    "        X_embedded[i] = X_embedded[i] / num_in_vocab\n",
    "    return X_embedded\n",
    "\n",
    "def embed_histories(histories):\n",
    "    X_embedded = np.zeros((len(histories),EMBED_DIM))\n",
    "    tokenizer = CountVectorizer().build_tokenizer()\n",
    "    for i, history in enumerate(histories):\n",
    "        text = ' '.join([tweet_json['text'].lower() for tweet_json in history])\n",
    "        tokens = [token for token in tokenizer(text) if token not in ENGLISH_STOP_WORDS]\n",
    "        num_in_vocab = 0\n",
    "        for token in tokens:\n",
    "            if token in glove:\n",
    "                X_embedded[i] += glove[token]\n",
    "                num_in_vocab += 1\n",
    "        X_embedded[i] = X_embedded[i] / num_in_vocab\n",
    "    return X_embedded\n",
    "\n"
   ],
   "metadata": {
    "collapsed": false,
    "pycharm": {
     "name": "#%%\n",
     "is_executing": false
    }
   }
  },
  {
   "cell_type": "code",
   "execution_count": 58,
   "outputs": [
    {
     "name": "stderr",
     "text": [
      "/usr/local/lib/python3.7/site-packages/ipykernel_launcher.py:14: RuntimeWarning: invalid value encountered in true_divide\n",
      "  \n",
      "/usr/local/lib/python3.7/site-packages/ipykernel_launcher.py:28: RuntimeWarning: invalid value encountered in true_divide\n"
     ],
     "output_type": "stream"
    }
   ],
   "source": [
    "# baseline features\n",
    "\n",
    "X_labeled_train = embed_tweets(train_labeled)\n",
    "X_histories_train = embed_histories(train_histories)\n",
    "X_labeled_test = embed_tweets(test_labeled)\n",
    "X_histories_test = embed_histories(test_histories)"
   ],
   "metadata": {
    "collapsed": false,
    "pycharm": {
     "name": "#%%\n",
     "is_executing": false
    }
   }
  },
  {
   "cell_type": "code",
   "execution_count": 59,
   "outputs": [],
   "source": [
    "# checkpoint!\n",
    "np.save(NPY_OUTPUT_DIR + 'X_labeled_train.npy', X_labeled_train)\n",
    "np.save(NPY_OUTPUT_DIR + 'X_histories_train.npy', X_histories_train)\n",
    "np.save(NPY_OUTPUT_DIR + 'X_labeled_test.npy', X_labeled_test)\n",
    "np.save(NPY_OUTPUT_DIR + 'X_histories_test.npy', X_histories_test)\n",
    "\n",
    "\n",
    "\n",
    "#X_labeled_train = np.load(NPY_OUTPUT_DIR + 'X_labeled_train.npy')\n",
    "#X_histories_train = np.load(NPY_OUTPUT_DIR + 'X_histories_train.npy')\n",
    "#X_labeled_test = np.load(NPY_OUTPUT_DIR + 'X_labeled_test.npy')\n",
    "#X_histories_test = np.load(NPY_OUTPUT_DIR + 'X_histories_test.npy')\n"
   ],
   "metadata": {
    "collapsed": false,
    "pycharm": {
     "name": "#%%\n",
     "is_executing": false
    }
   }
  },
  {
   "cell_type": "code",
   "execution_count": 60,
   "outputs": [
    {
     "name": "stderr",
     "text": [
      "/usr/local/lib/python3.7/site-packages/ipykernel_launcher.py:14: RuntimeWarning: invalid value encountered in true_divide\n",
      "  \n"
     ],
     "output_type": "stream"
    }
   ],
   "source": [
    "def proccess_seq(histories_by_target):\n",
    "    X_seq = [] # a list of 2d tensors of shape (len(seq), embed_dim)\n",
    "    for history in histories_by_target: # One specific tweet history\n",
    "        X_seq.append(embed_tweets(history))\n",
    "    return X_seq\n",
    "\n",
    "X_seq_train = proccess_seq(train_histories_by_target)\n",
    "X_seq_test = proccess_seq(test_histories_by_target)"
   ],
   "metadata": {
    "collapsed": false,
    "pycharm": {
     "name": "#%%\n",
     "is_executing": false
    }
   }
  },
  {
   "cell_type": "code",
   "execution_count": 61,
   "outputs": [],
   "source": [
    "# checkpoint!\n",
    "np.savez(NPY_OUTPUT_DIR + 'X_seq_glove_train.npz', *X_seq_train)\n",
    "np.savez(NPY_OUTPUT_DIR + 'X_seq_glove_test.npz', *X_seq_test)\n",
    "\n",
    "\n",
    "\n",
    "#X_seq_glove_train = np.load(NPY_INPUT_DIR + 'X_seq_glove_train.npz')\n",
    "#X_seq_glove_test = np.load(NPY_INPUT_DIR + 'X_seq_glove_test.npz')"
   ],
   "metadata": {
    "collapsed": false,
    "pycharm": {
     "name": "#%%\n",
     "is_executing": false
    }
   }
  },
  {
   "cell_type": "markdown",
   "source": [
    "# TF-IDF"
   ],
   "metadata": {
    "collapsed": false,
    "pycharm": {
     "name": "#%% md\n"
    }
   }
  },
  {
   "cell_type": "code",
   "execution_count": 62,
   "outputs": [],
   "source": [
    "SVD_COMPONENTS = 200\n",
    "\n",
    "def construct_vectorizer_and_SVD(merged):\n",
    "    allTweets = []\n",
    "    for i, tweet_json in enumerate(merged):\n",
    "        text = tweet_json['text'].lower()\n",
    "        allTweets.append(text)\n",
    "    vectorizer = TfidfVectorizer(stop_words='english')\n",
    "    tfidf_merged = vectorizer.fit_transform(allTweets)\n",
    "    svd = TruncatedSVD(n_components=SVD_COMPONENTS, n_iter=7, random_state=42)\n",
    "    svd.fit(tfidf_merged)    \n",
    "    return vectorizer, svd\n",
    "\n",
    "def vectorize_histories(histories, vectorizer, svd):\n",
    "    rawHistories = [] # Will be in order\n",
    "    for i, history in enumerate(histories):\n",
    "        text = ' '.join([tweet_json['text'].lower() for tweet_json in history])\n",
    "        rawHistories.append(text)\n",
    "        \n",
    "        # loop thru all tweets in hist, all img in tweet and add to vector and count and div\n",
    "    histArr = vectorizer.transform(rawHistories)\n",
    "    histFeatureArr = svd.transform(histArr)\n",
    "    return histFeatureArr\n",
    "\n",
    "\n",
    "def vectorize_tweets(tweets, vectorizer, svd):\n",
    "    labeledTweets = []  # Will be in order\n",
    "    for i, tweet_json in enumerate(tweets):\n",
    "        text = tweet_json['text'].lower()\n",
    "        labeledTweets.append(text)\n",
    "    tweetArr = vectorizer.transform(labeledTweets)\n",
    "    tweetFeatureArr = svd.transform(tweetArr)\n",
    "    return tweetFeatureArr    "
   ],
   "metadata": {
    "collapsed": false,
    "pycharm": {
     "name": "#%%\n",
     "is_executing": false
    }
   }
  },
  {
   "cell_type": "markdown",
   "source": [
    "Images"
   ],
   "metadata": {
    "collapsed": false,
    "pycharm": {
     "name": "#%% md\n"
    }
   }
  },
  {
   "cell_type": "code",
   "execution_count": 63,
   "outputs": [],
   "source": [
    "def construct_image_svd(image_features, train_merged):\n",
    "    '''\n",
    "    Fits image SVD on all images from train_merged\n",
    "    '''\n",
    "    error = 0\n",
    "    X_img_seq = [] # create n by (SVD length) matrix - stores one vector per target tweet\n",
    "    for tweet in train_merged: # specific tweet history for each item in merged\n",
    "        for j in range(0, len(tweet['extended_entities']['media'])):\n",
    "            # Extract the image ID for each image, and look up the image_features corresponding vec\n",
    "            try:\n",
    "                X_img_seq.append([image_features[str(tweet['extended_entities']['media'][j]['id'])+'_'+str(j)+'.jpg']])\n",
    "            except KeyError:\n",
    "                error += 1\n",
    "    print(error, \"key errors\")\n",
    "    X_img_seq = np.hstack(X_img_seq)\n",
    "    svd = TruncatedSVD(n_components=SVD_COMPONENTS, n_iter=7, random_state=42)\n",
    "    svd.fit(X_img_seq)\n",
    "    return svd\n",
    "\n",
    "def vectorize_images(image_features, histories_by_target, ImgSVD):\n",
    "    '''\n",
    "    Method that returns n x SVD matrix. Each row is a list of matrices representing each \n",
    "    tweet in the target's history, up to and including the target\n",
    "    '''\n",
    "    allImageHistories = []\n",
    "    for target in histories_by_target: # specific tweet history from keys:TweetID, vals=vectors\n",
    "        historyTweets = []\n",
    "        for historicTweet in target: # iterate through each tweet in history\n",
    "            historicTweetImages = [] # start list of images in the historic tweet\n",
    "            for j in range(0, len(historicTweet['extended_entities']['media'])):\n",
    "                # Extract the image ID for each image, and look up the image_features corresponding vec\n",
    "                historicTweetImages.append(str(image_features[(historicTweet['extended_entities']['media'][j]['id'])])+'_'+str(j)+'.jpg')\n",
    "            historicTweetImages = ImgSVD.transform(historicTweetImages) # transform img vectors\n",
    "            historicTweetImages = np.hstack(historicTweetImages) # stack img vectors into matrix\n",
    "            historyTweets.append(historicTweetImages) # add img matrix to the target's hist list\n",
    "        allImageHistories.append(historyTweets)\n",
    "    return allImageHistories\n",
    "    # Return n by (SVD length) matrix: each row contains list of matrices\n",
    "    # Each matrix represents one historic tweet in that labeled tweet's history"
   ],
   "metadata": {
    "collapsed": false,
    "pycharm": {
     "name": "#%%\n",
     "is_executing": false
    }
   }
  },
  {
   "cell_type": "code",
   "execution_count": 64,
   "outputs": [
    {
     "traceback": [
      "\u001b[0;31m---------------------------------------------------------------------------\u001b[0m",
      "\u001b[0;31mKeyError\u001b[0m                                  Traceback (most recent call last)",
      "\u001b[0;32m<ipython-input-64-fd4af8ea0fbe>\u001b[0m in \u001b[0;36m<module>\u001b[0;34m\u001b[0m\n\u001b[1;32m     10\u001b[0m \u001b[0;34m\u001b[0m\u001b[0m\n\u001b[1;32m     11\u001b[0m \u001b[0;31m# New image methods\u001b[0m\u001b[0;34m\u001b[0m\u001b[0;34m\u001b[0m\u001b[0;34m\u001b[0m\u001b[0m\n\u001b[0;32m---> 12\u001b[0;31m \u001b[0mimageSVD\u001b[0m \u001b[0;34m=\u001b[0m \u001b[0mconstruct_image_svd\u001b[0m\u001b[0;34m(\u001b[0m\u001b[0mimage_features\u001b[0m\u001b[0;34m,\u001b[0m \u001b[0mtrain_merged\u001b[0m\u001b[0;34m)\u001b[0m \u001b[0;31m# fit SVD on merged\u001b[0m\u001b[0;34m\u001b[0m\u001b[0;34m\u001b[0m\u001b[0m\n\u001b[0m\u001b[1;32m     13\u001b[0m \u001b[0mtrainImages\u001b[0m \u001b[0;34m=\u001b[0m \u001b[0mvectorize_images\u001b[0m\u001b[0;34m(\u001b[0m\u001b[0mimage_features\u001b[0m\u001b[0;34m,\u001b[0m \u001b[0mtrain_histories\u001b[0m\u001b[0;34m,\u001b[0m \u001b[0mimageSVD\u001b[0m\u001b[0;34m)\u001b[0m  \u001b[0;31m# Get image vectors for train\u001b[0m\u001b[0;34m\u001b[0m\u001b[0;34m\u001b[0m\u001b[0m\n\u001b[1;32m     14\u001b[0m \u001b[0mtestImages\u001b[0m \u001b[0;34m=\u001b[0m \u001b[0mvectorize_images\u001b[0m\u001b[0;34m(\u001b[0m\u001b[0mimage_features\u001b[0m\u001b[0;34m,\u001b[0m \u001b[0mtest_histories\u001b[0m\u001b[0;34m,\u001b[0m \u001b[0mimageSVD\u001b[0m\u001b[0;34m)\u001b[0m \u001b[0;31m# Get image vectors for test\u001b[0m\u001b[0;34m\u001b[0m\u001b[0;34m\u001b[0m\u001b[0m\n",
      "\u001b[0;32m<ipython-input-63-c1481fe5a731>\u001b[0m in \u001b[0;36mconstruct_image_svd\u001b[0;34m(image_features, train_merged)\u001b[0m\n\u001b[1;32m      6\u001b[0m     \u001b[0mX_img_seq\u001b[0m \u001b[0;34m=\u001b[0m \u001b[0;34m[\u001b[0m\u001b[0;34m]\u001b[0m \u001b[0;31m# create n by (SVD length) matrix - stores one vector per target tweet\u001b[0m\u001b[0;34m\u001b[0m\u001b[0;34m\u001b[0m\u001b[0m\n\u001b[1;32m      7\u001b[0m     \u001b[0;32mfor\u001b[0m \u001b[0mtweet\u001b[0m \u001b[0;32min\u001b[0m \u001b[0mtrain_merged\u001b[0m\u001b[0;34m:\u001b[0m \u001b[0;31m# specific tweet history for each item in merged\u001b[0m\u001b[0;34m\u001b[0m\u001b[0;34m\u001b[0m\u001b[0m\n\u001b[0;32m----> 8\u001b[0;31m         \u001b[0;32mfor\u001b[0m \u001b[0mj\u001b[0m \u001b[0;32min\u001b[0m \u001b[0mrange\u001b[0m\u001b[0;34m(\u001b[0m\u001b[0;36m0\u001b[0m\u001b[0;34m,\u001b[0m \u001b[0mlen\u001b[0m\u001b[0;34m(\u001b[0m\u001b[0mtweet\u001b[0m\u001b[0;34m[\u001b[0m\u001b[0;34m'extended_entities'\u001b[0m\u001b[0;34m]\u001b[0m\u001b[0;34m[\u001b[0m\u001b[0;34m'media'\u001b[0m\u001b[0;34m]\u001b[0m\u001b[0;34m)\u001b[0m\u001b[0;34m)\u001b[0m\u001b[0;34m:\u001b[0m\u001b[0;34m\u001b[0m\u001b[0;34m\u001b[0m\u001b[0m\n\u001b[0m\u001b[1;32m      9\u001b[0m             \u001b[0;31m# Extract the image ID for each image, and look up the image_features corresponding vec\u001b[0m\u001b[0;34m\u001b[0m\u001b[0;34m\u001b[0m\u001b[0;34m\u001b[0m\u001b[0m\n\u001b[1;32m     10\u001b[0m             \u001b[0;32mtry\u001b[0m\u001b[0;34m:\u001b[0m\u001b[0;34m\u001b[0m\u001b[0;34m\u001b[0m\u001b[0m\n",
      "\u001b[0;31mKeyError\u001b[0m: 'extended_entities'"
     ],
     "ename": "KeyError",
     "evalue": "'extended_entities'",
     "output_type": "error"
    }
   ],
   "source": [
    "# BASELINE\n",
    "# assuming train_histories is a list of history IDs for each target\n",
    "\n",
    "vectorizer, svd = construct_vectorizer_and_SVD(train_merged)\n",
    "trainHistories = vectorize_histories(train_histories, vectorizer, svd)\n",
    "trainTweets = vectorize_tweets(train_labeled, vectorizer, svd)\n",
    "testHistories = vectorize_histories(test_histories, vectorizer, svd)\n",
    "testTweets = vectorize_tweets(test_labeled, vectorizer, svd)\n",
    "\n",
    "\n",
    "# New image methods\n",
    "imageSVD = construct_image_svd(image_features, train_merged) # fit SVD on merged\n",
    "trainImages = vectorize_images(image_features, train_histories, imageSVD)  # Get image vectors for train\n",
    "testImages = vectorize_images(image_features, test_histories, imageSVD) # Get image vectors for test\n"
   ],
   "metadata": {
    "collapsed": false,
    "pycharm": {
     "name": "#%%\n",
     "is_executing": false
    }
   }
  },
  {
   "cell_type": "code",
   "execution_count": null,
   "outputs": [],
   "source": [
    "# Validation checks\n",
    "print(\"Shape of train history np array:\", trainHistories.shape)\n",
    "print(\"Shape of train tweets np array):\", trainTweets.shape)\n",
    "print(\"Shape of test history np array:\", testHistories.shape)\n",
    "print(\"Shape of test tweets np array:\", testTweets.shape)\n",
    "print(\"Shape of train images np array:\", trainImages.shape)\n",
    "print(\"Shape of test images np array:\", testImages.shape)"
   ],
   "metadata": {
    "collapsed": false,
    "pycharm": {
     "name": "#%%\n",
     "is_executing": false
    }
   }
  },
  {
   "cell_type": "code",
   "execution_count": null,
   "outputs": [],
   "source": [
    "# Save to outfiles\n",
    "np.save(NPY_OUTPUT_DIR + 'trainHistories.npy', trainHistories)\n",
    "np.save(NPY_OUTPUT_DIR + 'trainTweets.npy', trainTweets)\n",
    "np.save(NPY_OUTPUT_DIR + 'testHistories.npy', testHistories)\n",
    "np.save(NPY_OUTPUT_DIR + 'testTweets.npy', testTweets)\n",
    "np.save(NPY_OUTPUT_DIR + 'trainClassifications.npy', train_classes)\n",
    "np.save(NPY_OUTPUT_DIR + 'testClassifications.npy', test_classes)"
   ],
   "metadata": {
    "collapsed": false,
    "pycharm": {
     "name": "#%%\n",
     "is_executing": false
    }
   }
  },
  {
   "cell_type": "code",
   "execution_count": null,
   "outputs": [],
   "source": [
    "# sequence features\n",
    "\n",
    "def proccess_seq_tfidf(histories_by_target, vectorizer, svd):\n",
    "    X_seq = [] # a list of 2d tensors of shape (len(seq), SVD_COMPONENTS)\n",
    "    for history in histories_by_target:\n",
    "        X_seq.append(vectorize_tweets(history, vectorizer, svd))\n",
    "    return X_seq\n",
    "\n",
    "X_seq_tfidf_train = proccess_seq_tfidf(train_histories_by_target, vectorizer, svd)\n",
    "X_seq_tfidf_test = proccess_seq_tfidf(test_histories_by_target, vectorizer, svd)"
   ],
   "metadata": {
    "collapsed": false,
    "pycharm": {
     "name": "#%%\n",
     "is_executing": false
    }
   }
  },
  {
   "cell_type": "code",
   "execution_count": null,
   "outputs": [],
   "source": [
    "#TODO: Follow this format of saving matrices\n",
    "\n",
    "# checkpoint!\n",
    "np.savez(NPY_OUTPUT_DIR + 'X_seq_tfidf_train.npz', *X_seq_tfidf_train)\n",
    "np.savez(NPY_OUTPUT_DIR + 'X_seq_tfidf_test.npz', *X_seq_tfidf_test)\n",
    "np.savez(NPY_OUTPUT_DIR + 'images_train.npz', *trainImages)\n",
    "np.savez(NPY_OUTPUT_DIR + 'images_test.npz', *testImages)\n",
    "\n",
    "\n",
    "#X_seq_tfidf_train = np.load(NPY_OUTPUT_DIR + 'X_seq_tfidf_train.npz')\n",
    "#X_seq_tfidf_test = np.load(NPY_OUTPUT_DIR + 'X_seq_tfidf_test.npz')\n"
   ],
   "metadata": {
    "collapsed": false,
    "pycharm": {
     "name": "#%%\n",
     "is_executing": false
    }
   }
  }
 ],
 "metadata": {
  "kernelspec": {
   "display_name": "Python 3",
   "language": "python",
   "name": "python3"
  },
  "language_info": {
   "codemirror_mode": {
    "name": "ipython",
    "version": 2
   },
   "file_extension": ".py",
   "mimetype": "text/x-python",
   "name": "python",
   "nbconvert_exporter": "python",
   "pygments_lexer": "ipython2",
   "version": "2.7.6"
  },
  "pycharm": {
   "stem_cell": {
    "cell_type": "raw",
    "source": [],
    "metadata": {
     "collapsed": false
    }
   }
  }
 },
 "nbformat": 4,
 "nbformat_minor": 0
}