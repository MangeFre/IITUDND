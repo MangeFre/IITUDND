{
 "cells": [
  {
   "cell_type": "code",
   "execution_count": 1,
   "metadata": {
    "collapsed": true,
    "pycharm": {
     "is_executing": false
    }
   },
   "outputs": [],
   "source": [
    "%reload_ext autoreload\n",
    "\n",
    "%autoreload 2\n",
    "import numpy as np\n",
    "from models import lstm\n",
    "import torch\n",
    "from sklearn.preprocessing import StandardScaler\n"
   ]
  },
  {
   "cell_type": "code",
   "execution_count": 2,
   "outputs": [],
   "source": [
    "# FILES TO CHANGE (This is where your sequence_nlp_harvey.zip etc is) test\n",
    "\n",
    "NPY_INPUT_DIR = '/Users/ianmagnusson/IITUDND/data/extracted_features/combined_NLP/maria/kfold/'"
   ],
   "metadata": {
    "collapsed": false,
    "pycharm": {
     "name": "#%%\n",
     "is_executing": false
    }
   }
  },
  {
   "cell_type": "code",
   "execution_count": 3,
   "outputs": [],
   "source": [
    "def run_experiment(num_hidden, learning_rate, data_dir):\n",
    "    \n",
    "    # load data from files\n",
    "    \n",
    "    X_seq_tfidf_train = np.load(data_dir + 'X_seq_tfidf_train.npz')\n",
    "    X_seq_tfidf_test = np.load(data_dir + 'X_seq_tfidf_test.npz')\n",
    "    \n",
    "    \n",
    "    X_seq_glove_train = np.load(data_dir + 'X_seq_glove_train.npz')\n",
    "    X_seq_glove_test = np.load(data_dir + 'X_seq_glove_test.npz')\n",
    "    \n",
    "    y_train = torch.Tensor(np.load(data_dir + 'y_train.npy'))\n",
    "    y_test = torch.Tensor(np.load(data_dir + 'y_test.npy'))\n",
    "    \n",
    "    # build lists with features concatenated\n",
    "    \n",
    "    X_raw_train = []\n",
    "    for i in range(len(y_train)):\n",
    "        file = X_seq_tfidf_train.files[i]\n",
    "        X_raw_train.append(np.concatenate((X_seq_tfidf_train[file], X_seq_glove_train[file]), axis=1))\n",
    "    \n",
    "    scaler = StandardScaler()\n",
    "    X_fit_train = np.concatenate(X_raw_train)\n",
    "    scaler.fit(X_fit_train)\n",
    "    \n",
    "    X_train = [torch.Tensor(scaler.transform(X_i)) for X_i in X_raw_train]\n",
    "    \n",
    "    X_test = []\n",
    "    for i in range(len(y_test)):\n",
    "        file = X_seq_tfidf_test.files[i]\n",
    "        X_test.append(torch.Tensor(scaler.transform(np.concatenate((X_seq_tfidf_test[file], X_seq_glove_test[file]), axis=1))))\n",
    "\n",
    "    \n",
    "    # build and train model\n",
    "    \n",
    "    model = lstm.LSTM(input_dim=400, hidden_dim=num_hidden, learning_rate=learning_rate)\n",
    "    \n",
    "    model.learn(X_train, y_train)\n",
    "    \n",
    "    # evaluate\n",
    "    return model.get_accuracy(X_test, y_test)\n",
    "\n",
    "def cross_validate(num_hidden, learning_rate, data_dir, folds = 10):\n",
    "    accuracy_sum = 0.0\n",
    "    for i in range(folds):\n",
    "        fold_dir = data_dir + str(i) + '/'\n",
    "        print('running experiment', i)\n",
    "        acc = run_experiment(num_hidden,learning_rate,fold_dir)\n",
    "        print('result', acc)\n",
    "        accuracy_sum += acc\n",
    "        \n",
    "    return accuracy_sum / folds\n"
   ],
   "metadata": {
    "collapsed": false,
    "pycharm": {
     "name": "#%%\n",
     "is_executing": false
    }
   }
  },
  {
   "cell_type": "code",
   "execution_count": null,
   "outputs": [
    {
     "name": "stdout",
     "text": [
      "starting test 1 hidden 100 learning 0.002\n",
      "running experiment 0\n",
      "epoch: 0 learning rate: [0.002]\n",
      "[1,   200] loss: 0.657\n",
      "[1,   400] loss: 0.614\n",
      "[1,   600] loss: 0.562\n",
      "[1,   800] loss: 0.503\n",
      "[1,  1000] loss: 0.483\n",
      "[1,  1200] loss: 0.519\n",
      "[1,  1400] loss: 0.506\n",
      "[1,  1600] loss: 0.536\n",
      "[1,  1800] loss: 0.501\n",
      "[1,  2000] loss: 0.490\n",
      "[1,  2200] loss: 0.456\n",
      "[1,  2400] loss: 0.533\n",
      "[1,  2600] loss: 0.446\n",
      "[1,  2800] loss: 0.541\n",
      "epoch: 1 learning rate: [0.001]\n",
      "[2,   200] loss: 0.423\n",
      "[2,   400] loss: 0.389\n",
      "[2,   600] loss: 0.391\n",
      "[2,   800] loss: 0.375\n",
      "[2,  1000] loss: 0.423\n",
      "[2,  1200] loss: 0.375\n",
      "[2,  1400] loss: 0.356\n",
      "[2,  1600] loss: 0.367\n",
      "[2,  1800] loss: 0.375\n",
      "[2,  2000] loss: 0.393\n",
      "[2,  2200] loss: 0.367\n",
      "[2,  2400] loss: 0.365\n",
      "[2,  2600] loss: 0.416\n"
     ],
     "output_type": "stream"
    }
   ],
   "source": [
    "# cross validate search for hyper-parameters\n",
    "learning_rates = [0.002, 0.0019, 0.0018, 0.0017, 0.0016, 0.0015, 0.0014,\n",
    "                  0.0013, 0.0012, 0.0011, 0.001, 0.0009, 0.0008, 0.0007, 0.0006]\n",
    "hidden_dims = [100,300,500]\n",
    "results = np.zeros((len(learning_rates), len(hidden_dims)))\n",
    "tests = 1\n",
    "for i, l in enumerate(learning_rates):\n",
    "    for j, h in enumerate(hidden_dims):\n",
    "        print('starting test', tests,'hidden', h, 'learning', l)\n",
    "        results[i,j] = cross_validate(h, l, NPY_INPUT_DIR) # TODO CHECK THESE PARAMS ARE RIGHT\n",
    "        tests += 1\n",
    "        print('test outcome', results[i,j])\n",
    "        print('************************************************************')\n",
    "        \n",
    "np.save('maria_LSTM_results.npy', results) # to save results\n",
    "print(results)\n"
   ],
   "metadata": {
    "collapsed": false,
    "pycharm": {
     "name": "#%%\n",
     "is_executing": true
    }
   }
  }
 ],
 "metadata": {
  "kernelspec": {
   "display_name": "Python 3",
   "language": "python",
   "name": "python3"
  },
  "language_info": {
   "codemirror_mode": {
    "name": "ipython",
    "version": 2
   },
   "file_extension": ".py",
   "mimetype": "text/x-python",
   "name": "python",
   "nbconvert_exporter": "python",
   "pygments_lexer": "ipython2",
   "version": "2.7.6"
  },
  "pycharm": {
   "stem_cell": {
    "cell_type": "raw",
    "source": [],
    "metadata": {
     "collapsed": false
    }
   }
  }
 },
 "nbformat": 4,
 "nbformat_minor": 0
}