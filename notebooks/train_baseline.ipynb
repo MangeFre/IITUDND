{
 "cells": [
  {
   "cell_type": "code",
   "execution_count": 1,
   "metadata": {
    "collapsed": true,
    "pycharm": {
     "is_executing": false
    }
   },
   "outputs": [],
   "source": [
    "%load_ext autoreload\n",
    "%autoreload 2\n",
    "from models import baseline_mlp\n",
    "import numpy as np\n",
    "import torch"
   ]
  },
  {
   "cell_type": "code",
   "execution_count": 2,
   "outputs": [],
   "source": [
    "GLOVE_DIR = '/Users/ianmagnusson/IITUDND/data/extracted_features/glove/harvey/'\n",
    "TFIDF_DIR = '/Users/ianmagnusson/IITUDND/data/extracted_features/TFIDF/harvey/'"
   ],
   "metadata": {
    "collapsed": false,
    "pycharm": {
     "name": "#%%\n",
     "is_executing": false
    }
   }
  },
  {
   "cell_type": "code",
   "execution_count": 10,
   "outputs": [],
   "source": [
    "# load features\n",
    "X_labeled_train_glove = np.load(GLOVE_DIR + 'X_labeled_train.npy')\n",
    "X_histories_train_glove = np.load(GLOVE_DIR + 'X_histories_train.npy')\n",
    "X_labeled_test_glove = np.load(GLOVE_DIR + 'X_labeled_test.npy')\n",
    "X_histories_test_glove = np.load(GLOVE_DIR + 'X_histories_test.npy')\n",
    "\n",
    "y_train_glove = np.load(GLOVE_DIR + 'y_train.npy')\n",
    "y_test_glove = np.load(GLOVE_DIR + 'y_test.npy')\n",
    "\n",
    "X_labeled_train_tfidf = np.load(TFIDF_DIR + 'trainTweets.npy')\n",
    "X_histories_train_tfidf = np.load(TFIDF_DIR + 'trainHistories.npy')\n",
    "X_labeled_test_tfidf = np.load(TFIDF_DIR + 'testTweets.npy')\n",
    "X_histories_test_tfidf = np.load(TFIDF_DIR + 'testHistories.npy')\n",
    "\n",
    "y_train_tfidf = np.load(TFIDF_DIR + 'trainClassifications.npy')\n",
    "y_test_tfidf = np.load(TFIDF_DIR + 'testClassifications.npy')"
   ],
   "metadata": {
    "collapsed": false,
    "pycharm": {
     "name": "#%%\n",
     "is_executing": false
    }
   }
  },
  {
   "cell_type": "code",
   "execution_count": 4,
   "outputs": [
    {
     "name": "stdout",
     "text": [
      "True\nTrue\n"
     ],
     "output_type": "stream"
    }
   ],
   "source": [
    "# check that the class labels aren't messed up\n",
    "print(np.array_equal(y_test_glove, y_test_tfidf))\n",
    "print(np.array_equal(y_train_glove, y_train_tfidf))"
   ],
   "metadata": {
    "collapsed": false,
    "pycharm": {
     "name": "#%%\n",
     "is_executing": false
    }
   }
  },
  {
   "cell_type": "code",
   "execution_count": 30,
   "outputs": [],
   "source": [
    "# merge data\n",
    "\n",
    "X_train = np.concatenate((X_labeled_train_glove, X_labeled_train_tfidf, X_histories_train_glove, X_histories_train_tfidf), axis = 1)\n",
    "X_test = np.concatenate((X_labeled_test_glove, X_labeled_test_tfidf, X_histories_test_glove, X_histories_test_tfidf), axis = 1)\n",
    "\n",
    "y_train = y_train_glove\n",
    "y_test = y_test_glove\n"
   ],
   "metadata": {
    "collapsed": false,
    "pycharm": {
     "name": "#%%\n",
     "is_executing": false
    }
   }
  },
  {
   "cell_type": "code",
   "execution_count": 31,
   "outputs": [],
   "source": [
    "%%capture\n",
    "# mutes output for this cell\n",
    "\n",
    "running_acc = 0.0\n",
    "\n",
    "for i in range(100):\n",
    "    # make model\n",
    "    baseline = baseline_mlp.MLP(X_train.shape[1], 400, 200, torch.relu)\n",
    "    \n",
    "    # train\n",
    "    baseline.learn(torch.Tensor(X_train), torch.Tensor(y_train))\n",
    "    \n",
    "    # evaluate\n",
    "    running_acc += baseline.get_accuracy(torch.Tensor(X_test), torch.Tensor(y_test))"
   ],
   "metadata": {
    "collapsed": false,
    "pycharm": {
     "name": "#%%\n",
     "is_executing": false
    }
   }
  },
  {
   "cell_type": "code",
   "execution_count": 32,
   "outputs": [
    {
     "name": "stdout",
     "text": [
      "0.8416375000000003\n"
     ],
     "output_type": "stream"
    }
   ],
   "source": [
    "print(running_acc / 100)"
   ],
   "metadata": {
    "collapsed": false,
    "pycharm": {
     "name": "#%%\n",
     "is_executing": false
    }
   }
  },
  {
   "cell_type": "markdown",
   "source": [
    "# Now without user histories"
   ],
   "metadata": {
    "collapsed": false,
    "pycharm": {
     "name": "#%% md\n"
    }
   }
  },
  {
   "cell_type": "code",
   "execution_count": 33,
   "outputs": [],
   "source": [
    "# merge data\n",
    "\n",
    "X_train = np.concatenate((X_labeled_train_glove, X_labeled_train_tfidf), axis = 1)\n",
    "X_test = np.concatenate((X_labeled_test_glove, X_labeled_test_tfidf), axis = 1)\n",
    "\n",
    "y_train = y_train_glove\n",
    "y_test = y_test_glove\n"
   ],
   "metadata": {
    "collapsed": false,
    "pycharm": {
     "name": "#%%\n",
     "is_executing": false
    }
   }
  },
  {
   "cell_type": "code",
   "execution_count": 34,
   "outputs": [],
   "source": [
    "\n",
    "%%capture\n",
    "# mutes output for this cell\n",
    "\n",
    "running_acc = 0.0\n",
    "\n",
    "for i in range(100):\n",
    "    # make model\n",
    "    baseline = baseline_mlp.MLP(X_train.shape[1], 400, 200, torch.relu)\n",
    "    \n",
    "    # train\n",
    "    baseline.learn(torch.Tensor(X_train), torch.Tensor(y_train))\n",
    "    \n",
    "    # evaluate\n",
    "    running_acc += baseline.get_accuracy(torch.Tensor(X_test), torch.Tensor(y_test))"
   ],
   "metadata": {
    "collapsed": false,
    "pycharm": {
     "name": "#%%\n",
     "is_executing": false
    }
   }
  },
  {
   "cell_type": "code",
   "execution_count": 35,
   "outputs": [
    {
     "name": "stdout",
     "text": [
      "0.8403375000000005\n"
     ],
     "output_type": "stream"
    }
   ],
   "source": [
    "print(running_acc / 100)"
   ],
   "metadata": {
    "collapsed": false,
    "pycharm": {
     "name": "#%%\n",
     "is_executing": false
    }
   }
  },
  {
   "cell_type": "markdown",
   "source": [
    "# Now with just user histories\n"
   ],
   "metadata": {
    "collapsed": false
   }
  },
  {
   "cell_type": "code",
   "execution_count": 18,
   "outputs": [],
   "source": [
    "# merge data\n",
    "\n",
    "X_train = np.concatenate(( X_histories_train_glove, X_histories_train_tfidf), axis = 1)\n",
    "X_test = np.concatenate(( X_histories_test_glove, X_histories_test_tfidf), axis = 1)\n",
    "\n",
    "y_train = y_train_glove\n",
    "y_test = y_test_glove\n"
   ],
   "metadata": {
    "collapsed": false,
    "pycharm": {
     "name": "#%%\n",
     "is_executing": false
    }
   }
  },
  {
   "cell_type": "code",
   "execution_count": 21,
   "outputs": [
    {
     "name": "stdout",
     "text": [
      "epoch: 0 learning rate: [0.1]\n",
      "[1,   200] loss: 0.569\n",
      "[1,   400] loss: 0.485\n",
      "[1,   600] loss: 0.458\n",
      "[1,   800] loss: 0.459\nepoch: 1 learning rate: [0.010000000000000002]\n",
      "[2,   200] loss: 0.401\n",
      "[2,   400] loss: 0.430\n",
      "[2,   600] loss: 0.397\n",
      "[2,   800] loss: 0.422\n",
      "accuracy: 0.82375\n"
     ],
     "output_type": "stream"
    }
   ],
   "source": [
    "# make model\n",
    "baseline = baseline_mlp.MLP(X_train.shape[1], 400, 200, torch.relu)\n",
    "\n",
    "# train\n",
    "baseline.learn(torch.Tensor(X_train), torch.Tensor(y_train))\n",
    "\n",
    "# evaluate\n",
    "acc0 = baseline.get_accuracy(torch.Tensor(X_test), torch.Tensor(y_test))\n",
    "print('accuracy:', acc0)\n"
   ],
   "metadata": {
    "collapsed": false,
    "pycharm": {
     "name": "#%%\n",
     "is_executing": false
    }
   }
  },
  {
   "cell_type": "markdown",
   "source": [
    "# Now with just tfidf"
   ],
   "metadata": {
    "collapsed": false
   }
  },
  {
   "cell_type": "code",
   "execution_count": 54,
   "outputs": [],
   "source": [
    "# merge data\n",
    "\n",
    "X_train = np.concatenate((X_labeled_train_tfidf, X_histories_train_tfidf), axis = 1)\n",
    "X_test = np.concatenate((X_labeled_test_tfidf, X_histories_test_tfidf), axis = 1)\n",
    "\n",
    "y_train = y_train_glove\n",
    "y_test = y_test_glove\n"
   ],
   "metadata": {
    "collapsed": false,
    "pycharm": {
     "name": "#%%\n",
     "is_executing": false
    }
   }
  },
  {
   "cell_type": "code",
   "execution_count": 55,
   "outputs": [
    {
     "name": "stdout",
     "text": [
      "epoch: 0 learning rate: [0.1]\n",
      "[1,   200] loss: 0.552\n",
      "[1,   400] loss: 0.562\n",
      "[1,   600] loss: 0.559\n",
      "[1,   800] loss: 0.546\nepoch: 1 learning rate: [0.010000000000000002]\n",
      "[2,   200] loss: 0.534\n",
      "[2,   400] loss: 0.521\n",
      "[2,   600] loss: 0.558\n",
      "[2,   800] loss: 0.524\n",
      "accuracy: 0.755\n"
     ],
     "output_type": "stream"
    }
   ],
   "source": [
    "# make model\n",
    "baseline = baseline_mlp.MLP(X_train.shape[1], 400, 200, torch.relu)\n",
    "\n",
    "# train\n",
    "baseline.learn(torch.Tensor(X_train), torch.Tensor(y_train))\n",
    "\n",
    "# evaluate\n",
    "acc0 = baseline.get_accuracy(torch.Tensor(X_test), torch.Tensor(y_test))\n",
    "print('accuracy:', acc0)"
   ],
   "metadata": {
    "collapsed": false,
    "pycharm": {
     "name": "#%%\n",
     "is_executing": false
    }
   }
  },
  {
   "cell_type": "markdown",
   "source": [
    "# Now with just glove"
   ],
   "metadata": {
    "collapsed": false
   }
  },
  {
   "cell_type": "code",
   "execution_count": 67,
   "outputs": [],
   "source": [
    "# merge data\n",
    "\n",
    "X_train = np.concatenate((X_labeled_train_glove, X_histories_train_glove ), axis = 1)\n",
    "X_test = np.concatenate((X_labeled_test_glove, X_histories_test_glove), axis = 1)\n",
    "\n",
    "y_train = y_train_glove\n",
    "y_test = y_test_glove\n"
   ],
   "metadata": {
    "collapsed": false,
    "pycharm": {
     "name": "#%%\n",
     "is_executing": false
    }
   }
  },
  {
   "cell_type": "code",
   "execution_count": 75,
   "outputs": [
    {
     "name": "stdout",
     "text": [
      "epoch: 0 learning rate: [0.1]\n",
      "[1,   200] loss: 0.513\n",
      "[1,   400] loss: 0.453\n",
      "[1,   600] loss: 0.408\n",
      "[1,   800] loss: 0.428\nepoch: 1 learning rate: [0.010000000000000002]\n",
      "[2,   200] loss: 0.364\n",
      "[2,   400] loss: 0.405\n",
      "[2,   600] loss: 0.352\n",
      "[2,   800] loss: 0.340\n",
      "accuracy: 0.84\n"
     ],
     "output_type": "stream"
    }
   ],
   "source": [
    "# make model\n",
    "baseline = baseline_mlp.MLP(X_train.shape[1], 400, 200, torch.relu)\n",
    "\n",
    "# train\n",
    "baseline.learn(torch.Tensor(X_train), torch.Tensor(y_train))\n",
    "\n",
    "# evaluate\n",
    "acc0 = baseline.get_accuracy(torch.Tensor(X_test), torch.Tensor(y_test))\n",
    "print('accuracy:', acc0)"
   ],
   "metadata": {
    "collapsed": false,
    "pycharm": {
     "name": "#%%\n",
     "is_executing": false
    }
   }
  },
  {
   "cell_type": "markdown",
   "source": [
    "# Now glove without histories"
   ],
   "metadata": {
    "collapsed": false
   }
  },
  {
   "cell_type": "code",
   "execution_count": 59,
   "outputs": [],
   "source": [
    "# merge data\n",
    "\n",
    "X_train = X_labeled_train_glove\n",
    "X_test = X_labeled_test_glove\n",
    "\n",
    "y_train = y_train_glove\n",
    "y_test = y_test_glove\n"
   ],
   "metadata": {
    "collapsed": false,
    "pycharm": {
     "name": "#%%\n",
     "is_executing": false
    }
   }
  },
  {
   "cell_type": "code",
   "execution_count": 66,
   "outputs": [
    {
     "name": "stdout",
     "text": [
      "epoch: 0 learning rate: [0.1]\n",
      "[1,   200] loss: 0.499\n",
      "[1,   400] loss: 0.447\n[1,   600] loss: 0.419\n",
      "[1,   800] loss: 0.435\nepoch: 1 learning rate: [0.010000000000000002]\n",
      "[2,   200] loss: 0.356\n",
      "[2,   400] loss: 0.371\n[2,   600] loss: 0.382\n",
      "[2,   800] loss: 0.354\n",
      "accuracy: 0.8425\n"
     ],
     "output_type": "stream"
    }
   ],
   "source": [
    "# make model\n",
    "baseline = baseline_mlp.MLP(X_train.shape[1], 200, 200, torch.relu)\n",
    "\n",
    "# train\n",
    "baseline.learn(torch.Tensor(X_train), torch.Tensor(y_train))\n",
    "\n",
    "# evaluate\n",
    "acc0 = baseline.get_accuracy(torch.Tensor(X_test), torch.Tensor(y_test))\n",
    "print('accuracy:', acc0)\n",
    "\n"
   ],
   "metadata": {
    "collapsed": false,
    "pycharm": {
     "name": "#%%\n",
     "is_executing": false
    }
   }
  },
  {
   "cell_type": "markdown",
   "source": [
    "# Try normalized (MINMAX)"
   ],
   "metadata": {
    "collapsed": false,
    "pycharm": {
     "name": "#%% md\n"
    }
   }
  },
  {
   "cell_type": "code",
   "execution_count": 76,
   "outputs": [],
   "source": [
    "from sklearn.preprocessing import MinMaxScaler\n",
    "scaler1 = MinMaxScaler()\n",
    "scaler2 = MinMaxScaler()\n",
    "scaler3 = MinMaxScaler()\n",
    "scaler4 = MinMaxScaler()\n",
    "\n",
    "\n",
    "            \n",
    "X_labeled_train_glove_minmax    = scaler1.fit_transform(X_labeled_train_glove)\n",
    "X_histories_train_glove_minmax  = scaler2.fit_transform(X_histories_train_glove)\n",
    "X_labeled_test_glove_minmax     = scaler3.fit_transform(X_labeled_test_glove)\n",
    "X_histories_test_glove_minmax   = scaler4.fit_transform(X_histories_test_glove)\n",
    "\n",
    "X_labeled_train_tfidf_minmax    = scaler1.transform(X_labeled_train_tfidf)\n",
    "X_histories_train_tfidf_minmax  = scaler2.transform(X_histories_train_tfidf)\n",
    "X_labeled_test_tfidf_minmax     = scaler3.transform(X_labeled_test_tfidf)\n",
    "X_histories_test_tfidf_minmax   = scaler4.transform(X_histories_test_tfidf)\n",
    "\n"
   ],
   "metadata": {
    "collapsed": false,
    "pycharm": {
     "name": "#%%\n",
     "is_executing": false
    }
   }
  },
  {
   "cell_type": "code",
   "execution_count": 77,
   "outputs": [],
   "source": [
    "# merge data\n",
    "\n",
    "X_train = np.concatenate((X_labeled_train_glove_minmax, X_labeled_train_tfidf_minmax,\n",
    "                          X_histories_train_glove_minmax, X_histories_train_tfidf_minmax),\n",
    "                         axis = 1)\n",
    "X_test = np.concatenate((X_labeled_test_glove_minmax, X_labeled_test_tfidf_minmax,\n",
    "                         X_histories_test_glove_minmax, X_histories_test_tfidf_minmax),\n",
    "                        axis = 1)\n",
    "\n",
    "y_train = y_train_glove\n",
    "y_test = y_test_glove\n"
   ],
   "metadata": {
    "collapsed": false,
    "pycharm": {
     "name": "#%%\n",
     "is_executing": false
    }
   }
  },
  {
   "cell_type": "code",
   "execution_count": 81,
   "outputs": [
    {
     "name": "stdout",
     "text": [
      "epoch: 0 learning rate: [0.1]\n",
      "[1,   200] loss: 0.529\n",
      "[1,   400] loss: 0.545\n",
      "[1,   600] loss: 0.562\n",
      "[1,   800] loss: 0.560\nepoch: 1 learning rate: [0.010000000000000002]\n",
      "[2,   200] loss: 0.483\n",
      "[2,   400] loss: 0.468\n",
      "[2,   600] loss: 0.436\n",
      "[2,   800] loss: 0.434\n",
      "accuracy: 0.82\n"
     ],
     "output_type": "stream"
    }
   ],
   "source": [
    "# make model\n",
    "baseline = baseline_mlp.MLP(X_train.shape[1], 400, 200, torch.relu)\n",
    "\n",
    "# train\n",
    "baseline.learn(torch.Tensor(X_train), torch.Tensor(y_train))\n",
    "\n",
    "# evaluate\n",
    "acc0 = baseline.get_accuracy(torch.Tensor(X_test), torch.Tensor(y_test))\n",
    "print('accuracy:', acc0)"
   ],
   "metadata": {
    "collapsed": false,
    "pycharm": {
     "name": "#%%\n",
     "is_executing": false
    }
   }
  },
  {
   "cell_type": "markdown",
   "source": [
    "# Try normalized (standard scaler)"
   ],
   "metadata": {
    "collapsed": false
   }
  },
  {
   "cell_type": "code",
   "execution_count": 22,
   "outputs": [],
   "source": [
    "from sklearn.preprocessing import StandardScaler\n",
    "scaler1 = StandardScaler()\n",
    "scaler2 = StandardScaler()\n",
    "scaler3 = StandardScaler()\n",
    "scaler4 = StandardScaler()\n",
    "\n",
    "\n",
    "# TODO FIX NAMES!           \n",
    "X_labeled_train_glove_minmax    = scaler1.fit_transform(X_labeled_train_glove)\n",
    "X_histories_train_glove_minmax  = scaler2.fit_transform(X_histories_train_glove)\n",
    "X_labeled_test_glove_minmax     = scaler3.fit_transform(X_labeled_test_glove)\n",
    "X_histories_test_glove_minmax   = scaler4.fit_transform(X_histories_test_glove)\n",
    "\n",
    "X_labeled_train_tfidf_minmax    = scaler1.transform(X_labeled_train_tfidf)\n",
    "X_histories_train_tfidf_minmax  = scaler2.transform(X_histories_train_tfidf)\n",
    "X_labeled_test_tfidf_minmax     = scaler3.transform(X_labeled_test_tfidf)\n",
    "X_histories_test_tfidf_minmax   = scaler4.transform(X_histories_test_tfidf)\n",
    "\n"
   ],
   "metadata": {
    "collapsed": false,
    "pycharm": {
     "name": "#%%\n",
     "is_executing": false
    }
   }
  },
  {
   "cell_type": "code",
   "execution_count": 23,
   "outputs": [],
   "source": [
    "# merge data\n",
    "\n",
    "X_train = np.concatenate((X_labeled_train_glove_minmax, X_labeled_train_tfidf_minmax,\n",
    "                          X_histories_train_glove_minmax, X_histories_train_tfidf_minmax),\n",
    "                         axis = 1)\n",
    "X_test = np.concatenate((X_labeled_test_glove_minmax, X_labeled_test_tfidf_minmax,\n",
    "                         X_histories_test_glove_minmax, X_histories_test_tfidf_minmax),\n",
    "                        axis = 1)\n",
    "\n",
    "y_train = y_train_glove\n",
    "y_test = y_test_glove\n"
   ],
   "metadata": {
    "collapsed": false,
    "pycharm": {
     "name": "#%%\n",
     "is_executing": false
    }
   }
  },
  {
   "cell_type": "code",
   "execution_count": 24,
   "outputs": [],
   "source": [
    "%%capture\n",
    "# mutes output for this cell\n",
    "\n",
    "running_acc1 = 0.0\n",
    "for i in range(100):\n",
    "    # make model\n",
    "    baseline = baseline_mlp.MLP(X_train.shape[1], 400, 200, torch.relu)\n",
    "    \n",
    "    # train\n",
    "    baseline.learn(torch.Tensor(X_train), torch.Tensor(y_train))\n",
    "    \n",
    "    # evaluate\n",
    "    running_acc1 += baseline.get_accuracy(torch.Tensor(X_test), torch.Tensor(y_test))"
   ],
   "metadata": {
    "collapsed": false,
    "pycharm": {
     "name": "#%%\n",
     "is_executing": false
    }
   }
  },
  {
   "cell_type": "code",
   "execution_count": 26,
   "outputs": [
    {
     "name": "stdout",
     "text": [
      "0.8449499999999998\n"
     ],
     "output_type": "stream"
    }
   ],
   "source": [
    "print(running_acc1 / 100)"
   ],
   "metadata": {
    "collapsed": false,
    "pycharm": {
     "name": "#%%\n",
     "is_executing": false
    }
   }
  },
  {
   "cell_type": "markdown",
   "source": [
    "# Without histories (standard scaler)"
   ],
   "metadata": {
    "collapsed": false
   }
  },
  {
   "cell_type": "code",
   "execution_count": 27,
   "outputs": [],
   "source": [
    "# merge data\n",
    "\n",
    "X_train = np.concatenate((X_labeled_train_glove_minmax, X_labeled_train_tfidf_minmax),\n",
    "                         axis = 1)\n",
    "X_test = np.concatenate((X_labeled_test_glove_minmax, X_labeled_test_tfidf_minmax),\n",
    "                        axis = 1)\n",
    "\n",
    "y_train = y_train_glove\n",
    "y_test = y_test_glove\n"
   ],
   "metadata": {
    "collapsed": false,
    "pycharm": {
     "name": "#%%\n",
     "is_executing": false
    }
   }
  },
  {
   "cell_type": "code",
   "execution_count": 28,
   "outputs": [],
   "source": [
    "%%capture\n",
    "# mutes output for this cell\n",
    "\n",
    "running_acc = 0.0\n",
    "\n",
    "for i in range(100):\n",
    "    # make model\n",
    "    baseline = baseline_mlp.MLP(X_train.shape[1], 400, 200, torch.relu)\n",
    "    \n",
    "    # train\n",
    "    baseline.learn(torch.Tensor(X_train), torch.Tensor(y_train))\n",
    "    \n",
    "    # evaluate\n",
    "    running_acc += baseline.get_accuracy(torch.Tensor(X_test), torch.Tensor(y_test))"
   ],
   "metadata": {
    "collapsed": false,
    "pycharm": {
     "name": "#%%\n",
     "is_executing": false
    }
   }
  },
  {
   "cell_type": "code",
   "execution_count": 29,
   "outputs": [
    {
     "name": "stdout",
     "text": [
      "0.8406625000000006\n"
     ],
     "output_type": "stream"
    }
   ],
   "source": [
    "print(running_acc / 100)\n",
    "\n"
   ],
   "metadata": {
    "collapsed": false,
    "pycharm": {
     "name": "#%%\n",
     "is_executing": false
    }
   }
  }
 ],
 "metadata": {
  "kernelspec": {
   "display_name": "Python 3",
   "language": "python",
   "name": "python3"
  },
  "language_info": {
   "codemirror_mode": {
    "name": "ipython",
    "version": 2
   },
   "file_extension": ".py",
   "mimetype": "text/x-python",
   "name": "python",
   "nbconvert_exporter": "python",
   "pygments_lexer": "ipython2",
   "version": "2.7.6"
  },
  "pycharm": {
   "stem_cell": {
    "cell_type": "raw",
    "source": [],
    "metadata": {
     "collapsed": false
    }
   }
  }
 },
 "nbformat": 4,
 "nbformat_minor": 0
}