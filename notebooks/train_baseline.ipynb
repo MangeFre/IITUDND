{
 "cells": [
  {
   "cell_type": "code",
   "execution_count": 1,
   "metadata": {
    "collapsed": true,
    "pycharm": {
     "is_executing": false
    }
   },
   "outputs": [],
   "source": [
    "from collections import defaultdict\n",
    "%load_ext autoreload\n",
    "%autoreload 2\n",
    "from models import baseline_mlp\n",
    "import numpy as np\n",
    "import torch\n",
    "from sklearn.metrics import roc_auc_score\n",
    "import statistics\n",
    "import matplotlib.pyplot as plt"
   ]
  },
  {
   "cell_type": "code",
   "execution_count": 2,
   "outputs": [],
   "source": [
    "GLOVE_DIR = '/Users/ianmagnusson/IITUDND/data/extracted_features/combined_NLP/harvey/'\n",
    "TFIDF_DIR = '/Users/ianmagnusson/IITUDND/data/extracted_features/combined_NLP/harvey/'"
   ],
   "metadata": {
    "collapsed": false,
    "pycharm": {
     "name": "#%%\n",
     "is_executing": false
    }
   }
  },
  {
   "cell_type": "code",
   "execution_count": null,
   "outputs": [],
   "source": [
    "def plot_cis(binNames, binRatios, priors):\n",
    "    '''\n",
    "    Requires a list of group str outputs and bin ratios from get_accuracy_graph - one for each run\n",
    "    Collect results of both get_accuracy_plot return values -- names and binRatios-- in an array to run this.\n",
    "    '''\n",
    "    names = [bin[0] for bin in binNames] # Establish bin names for the x labels\n",
    "    binVals = defaultdict(list)\n",
    "    for run in range(len(binRatios)):\n",
    "        for bin in range(len(binRatios[run])):\n",
    "            binVals[bin+1].append(binRatios[run][bin]) # append the ratio (accuracy) of the bin to list\n",
    "    cis = []\n",
    "    means = []\n",
    "    keys = []\n",
    "    binLabels = [name for name in binNames[0][0]]\n",
    "    for bin in binVals: # Calculate mean and CI for each bin\n",
    "        keys.append(bin)\n",
    "        mean = np.mean(binVals[bin])\n",
    "        means.append(mean)\n",
    "        standard = statistics.stdev(binVals[bin])\n",
    "        cis.append(standard)\n",
    "    plt.figure()  # initiate accuracy plot\n",
    "    plt.plot(keys, means, label=\"Mean Accuracy by Bin\")  # plot accuracy by bin\n",
    "    plt.plot(keys, priors, label=\"Naive Accuracy\")\n",
    "    plt.errorbar(keys, means, yerr=cis)\n",
    "    plt.xticks(keys, binLabels)\n",
    "    plt.suptitle('Test classification accuracy rate by user history length (CI .95)')\n",
    "    plt.xlabel('User history length (lowest to highest), sorted into bins (ascending order)')\n",
    "    plt.ylabel('Accuracy rate')\n",
    "    plt.show()\n",
    "    return\n"
   ],
   "metadata": {
    "collapsed": false,
    "pycharm": {
     "name": "#%%\n"
    }
   }
  },
  {
   "cell_type": "code",
   "execution_count": 3,
   "outputs": [],
   "source": [
    "def test_100(X_train, y_train, X_test, y_test):\n",
    "    \n",
    "    running_acc = 0.0\n",
    "    running_auc = 0.0\n",
    "    graph_results = []\n",
    "    bin_names = []\n",
    "    \n",
    "    for i in range(100):\n",
    "        # make model\n",
    "        baseline = baseline_mlp.MLP(X_train.shape[1], 1500, learning_rate=0.0007)\n",
    "        \n",
    "        # train\n",
    "        baseline.learn(torch.Tensor(X_train), torch.Tensor(y_train))\n",
    "        \n",
    "        # evaluate\n",
    "        running_acc += baseline.get_accuracy(torch.Tensor(X_test), torch.Tensor(y_test))\n",
    "        running_auc += baseline.get_auc(torch.Tensor(X_test), torch.Tensor(y_test))\n",
    "        bins, accRates = baseline.get_accuracy_graph(torch.Tensor(X_test), torch.Tensor(y_test))\n",
    "        bin_names.append(bins)\n",
    "        graph_results.append(accRates)\n",
    "    baseline.plot_CIs(bin_names, graph_results)\n",
    "    \n",
    "    return running_acc/100, running_auc/100\n",
    "\n",
    "\n",
    "\n",
    "\n",
    "def get_auc(model, X_test,y_test):\n",
    "    with torch.no_grad():\n",
    "        y_score = model(torch.Tensor(X_test))\n",
    "    \n",
    "    y_score = torch.flatten(y_score).numpy()\n",
    "    return roc_auc_score(y_test, y_score)\n"
   ],
   "metadata": {
    "collapsed": false,
    "pycharm": {
     "name": "#%%\n",
     "is_executing": false
    }
   }
  },
  {
   "cell_type": "code",
   "execution_count": 4,
   "outputs": [],
   "source": [
    "# load features\n",
    "X_labeled_train_glove = np.load(GLOVE_DIR + 'X_labeled_train.npy')\n",
    "X_histories_train_glove = np.load(GLOVE_DIR + 'X_histories_train.npy')\n",
    "X_labeled_test_glove = np.load(GLOVE_DIR + 'X_labeled_test.npy')\n",
    "X_histories_test_glove = np.load(GLOVE_DIR + 'X_histories_test.npy')\n",
    " \n",
    "y_train_glove = np.load(GLOVE_DIR + 'y_train.npy')\n",
    "y_test_glove = np.load(GLOVE_DIR + 'y_test.npy')\n",
    "\n",
    "X_labeled_train_tfidf = np.load(TFIDF_DIR + 'trainTweets.npy')\n",
    "X_histories_train_tfidf = np.load(TFIDF_DIR + 'trainHistories.npy')\n",
    "X_labeled_test_tfidf = np.load(TFIDF_DIR + 'testTweets.npy')\n",
    "X_histories_test_tfidf = np.load(TFIDF_DIR + 'testHistories.npy')\n",
    "\n",
    "y_train_tfidf = np.load(TFIDF_DIR + 'trainClassifications.npy')\n",
    "y_test_tfidf = np.load(TFIDF_DIR + 'testClassifications.npy')\n"
   ],
   "metadata": {
    "collapsed": false,
    "pycharm": {
     "name": "#%%\n",
     "is_executing": false
    }
   }
  },
  {
   "cell_type": "markdown",
   "source": [
    "# Normalized, full data"
   ],
   "metadata": {
    "collapsed": false
   }
  },
  {
   "cell_type": "code",
   "execution_count": 5,
   "outputs": [],
   "source": [
    "from sklearn.preprocessing import StandardScaler\n",
    "scaler1 = StandardScaler()\n",
    "scaler2 = StandardScaler()\n",
    "scaler3 = StandardScaler()\n",
    "scaler4 = StandardScaler()\n",
    "\n",
    "\n",
    "# TODO FIX NAMES!           \n",
    "X_labeled_train_glove_norm    = scaler1.fit_transform(X_labeled_train_glove)\n",
    "X_histories_train_glove_norm  = scaler2.fit_transform(X_histories_train_glove)\n",
    "X_labeled_test_glove_norm     = scaler1.transform(X_labeled_test_glove)\n",
    "X_histories_test_glove_norm  = scaler2.transform(X_histories_test_glove)\n",
    "\n",
    "X_labeled_train_tfidf_norm    = scaler3.fit_transform(X_labeled_train_tfidf)\n",
    "X_histories_train_tfidf_norm  = scaler4.fit_transform(X_histories_train_tfidf)\n",
    "X_labeled_test_tfidf_norm     = scaler3.transform(X_labeled_test_tfidf)\n",
    "X_histories_test_tfidf_norm   = scaler4.transform(X_histories_test_tfidf)\n",
    "\n"
   ],
   "metadata": {
    "collapsed": false,
    "pycharm": {
     "name": "#%%\n",
     "is_executing": false
    }
   }
  },
  {
   "cell_type": "code",
   "execution_count": 6,
   "outputs": [],
   "source": [
    "# merge data\n",
    "\n",
    "X_train = np.concatenate((X_labeled_train_glove_norm, X_labeled_train_tfidf_norm,\n",
    "                          X_histories_train_glove_norm, X_histories_train_tfidf_norm),\n",
    "                         axis = 1)\n",
    "X_test = np.concatenate((X_labeled_test_glove_norm, X_labeled_test_tfidf_norm,\n",
    "                         X_histories_test_glove_norm, X_histories_test_tfidf_norm),\n",
    "                        axis = 1)\n",
    "\n",
    "y_train = y_train_glove\n",
    "y_test = y_test_glove\n"
   ],
   "metadata": {
    "collapsed": false,
    "pycharm": {
     "name": "#%%\n",
     "is_executing": false
    }
   }
  },
  {
   "cell_type": "code",
   "execution_count": 7,
   "outputs": [],
   "source": [
    "%%capture\n",
    "# mutes output for this cell\n",
    "\n",
    "acc, auc = test_100(X_train,y_train,X_test,y_test)"
   ],
   "metadata": {
    "collapsed": false,
    "pycharm": {
     "name": "#%%\n",
     "is_executing": false
    }
   }
  },
  {
   "cell_type": "code",
   "execution_count": 8,
   "outputs": [
    {
     "name": "stdout",
     "text": [
      "0.8337875\n",
      "0.8345018330179752\n"
     ],
     "output_type": "stream"
    }
   ],
   "source": [
    "print(acc)\n",
    "print(auc)"
   ],
   "metadata": {
    "collapsed": false,
    "pycharm": {
     "name": "#%%\n",
     "is_executing": false
    }
   }
  },
  {
   "cell_type": "markdown",
   "source": [
    "# Normalized, without histories"
   ],
   "metadata": {
    "collapsed": false
   }
  },
  {
   "cell_type": "code",
   "execution_count": 9,
   "outputs": [],
   "source": [
    "# merge data\n",
    "\n",
    "X_train = np.concatenate((X_labeled_train_glove_norm, X_labeled_train_tfidf_norm),\n",
    "                         axis = 1)\n",
    "X_test = np.concatenate((X_labeled_test_glove_norm, X_labeled_test_tfidf_norm),\n",
    "                        axis = 1)\n",
    "\n",
    "y_train = y_train_glove\n",
    "y_test = y_test_glove"
   ],
   "metadata": {
    "collapsed": false,
    "pycharm": {
     "name": "#%%\n",
     "is_executing": false
    }
   }
  },
  {
   "cell_type": "code",
   "execution_count": 10,
   "outputs": [],
   "source": [
    "%%capture\n",
    "# mutes output for this cell\n",
    "\n",
    "acc, auc = test_100(X_train,y_train,X_test,y_test)"
   ],
   "metadata": {
    "collapsed": false,
    "pycharm": {
     "name": "#%%\n",
     "is_executing": false
    }
   }
  },
  {
   "cell_type": "code",
   "execution_count": 11,
   "outputs": [
    {
     "name": "stdout",
     "text": [
      "0.8351250000000006\n",
      "0.8217592749020138\n"
     ],
     "output_type": "stream"
    }
   ],
   "source": [
    "print(acc)\n",
    "print(auc)\n"
   ],
   "metadata": {
    "collapsed": false,
    "pycharm": {
     "name": "#%%\n",
     "is_executing": false
    }
   }
  },
  {
   "cell_type": "markdown",
   "source": [
    "# MISC TESTS *************************************************************\n"
   ],
   "metadata": {
    "collapsed": false,
    "pycharm": {
     "name": "#%% md\n"
    }
   }
  },
  {
   "cell_type": "raw",
   "source": [
    "\n",
    "# check that the class labels aren't messed up\n",
    "print(np.array_equal(y_test_glove, y_test_tfidf))\n",
    "print(np.array_equal(y_train_glove, y_train_tfidf))\n"
   ],
   "metadata": {
    "collapsed": false,
    "pycharm": {
     "name": "#%% raw\n"
    }
   }
  },
  {
   "cell_type": "markdown",
   "source": [
    "# Unnormalized, full data NOTE THESE HAVE TO GO BEFORE NORMALIZATION\n",
    " "
   ],
   "metadata": {
    "collapsed": false
   }
  },
  {
   "cell_type": "raw",
   "source": [
    "\n",
    "# merge data\n",
    "\n",
    "X_train = np.concatenate((X_labeled_train_glove, X_labeled_train_tfidf, X_histories_train_glove, X_histories_train_tfidf), axis = 1)\n",
    "X_test = np.concatenate((X_labeled_test_glove, X_labeled_test_tfidf, X_histories_test_glove, X_histories_test_tfidf), axis = 1)\n",
    "\n",
    "y_train = y_train_glove\n",
    "y_test = y_test_glove\n",
    "\n"
   ],
   "metadata": {
    "collapsed": false,
    "pycharm": {
     "name": "#%% raw\n"
    }
   }
  },
  {
   "cell_type": "raw",
   "source": [
    "\n",
    "%%capture\n",
    "# mutes output for this cell\n",
    "\n",
    "acc, auc = test_100(X_train,y_train,X_test,y_test)\n"
   ],
   "metadata": {
    "collapsed": false,
    "pycharm": {
     "name": "#%% raw\n"
    }
   }
  },
  {
   "cell_type": "raw",
   "source": [
    "\n",
    "print(acc)\n",
    "print(auc)\n",
    "\n"
   ],
   "metadata": {
    "collapsed": false,
    "pycharm": {
     "name": "#%% raw\n"
    }
   }
  },
  {
   "cell_type": "markdown",
   "source": [
    "# Unnormalized, without user histories"
   ],
   "metadata": {
    "collapsed": false
   }
  },
  {
   "cell_type": "raw",
   "source": [
    "\n",
    "# merge data\n",
    "\n",
    "X_train = np.concatenate((X_labeled_train_glove, X_labeled_train_tfidf), axis = 1)\n",
    "X_test = np.concatenate((X_labeled_test_glove, X_labeled_test_tfidf), axis = 1)\n",
    "\n",
    "y_train = y_train_glove\n",
    "y_test = y_test_glove\n",
    "\n"
   ],
   "metadata": {
    "collapsed": false,
    "pycharm": {
     "name": "#%% raw\n"
    }
   }
  },
  {
   "cell_type": "raw",
   "source": [
    "\n",
    "%%capture\n",
    "# mutes output for this cell\n",
    "\n",
    "acc, auc = test_100(X_train,y_train,X_test,y_test)\n"
   ],
   "metadata": {
    "collapsed": false,
    "pycharm": {
     "name": "#%% raw\n"
    }
   }
  },
  {
   "cell_type": "raw",
   "source": [
    "\n",
    "print(acc)\n",
    "print(auc)\n",
    "\n",
    "\n"
   ],
   "metadata": {
    "collapsed": false,
    "pycharm": {
     "name": "#%% raw\n"
    }
   }
  },
  {
   "cell_type": "markdown",
   "source": [
    "# Now with just user histories\n"
   ],
   "metadata": {
    "collapsed": false
   }
  },
  {
   "cell_type": "raw",
   "source": [
    "\n",
    "# merge data\n",
    "\n",
    "X_train = np.concatenate(( X_histories_train_glove, X_histories_train_tfidf), axis = 1)\n",
    "X_test = np.concatenate(( X_histories_test_glove, X_histories_test_tfidf), axis = 1)\n",
    "\n",
    "y_train = y_train_glove\n",
    "y_test = y_test_glove\n",
    "\n"
   ],
   "metadata": {
    "collapsed": false,
    "pycharm": {
     "name": "#%% raw\n",
     "is_executing": false
    }
   }
  },
  {
   "cell_type": "raw",
   "source": [
    "\n",
    "# make model\n",
    "baseline = baseline_mlp.MLP(X_train.shape[1], 400, 200, torch.relu)\n",
    "\n",
    "# train\n",
    "baseline.learn(torch.Tensor(X_train), torch.Tensor(y_train))\n",
    "\n",
    "# evaluate\n",
    "acc0 = baseline.get_accuracy(torch.Tensor(X_test), torch.Tensor(y_test))\n",
    "print('accuracy:', acc0)\n"
   ],
   "metadata": {
    "collapsed": false,
    "pycharm": {
     "name": "#%% raw\n",
     "is_executing": false
    }
   }
  },
  {
   "cell_type": "markdown",
   "source": [
    "# Now with just tfidf"
   ],
   "metadata": {
    "collapsed": false
   }
  },
  {
   "cell_type": "raw",
   "source": [
    "\n",
    "# merge data\n",
    "\n",
    "X_train = np.concatenate((X_labeled_train_tfidf, X_histories_train_tfidf), axis = 1)\n",
    "X_test = np.concatenate((X_labeled_test_tfidf, X_histories_test_tfidf), axis = 1)\n",
    "\n",
    "y_train = y_train_glove\n",
    "y_test = y_test_glove\n",
    "\n"
   ],
   "metadata": {
    "collapsed": false,
    "pycharm": {
     "name": "#%% raw\n",
     "is_executing": false
    }
   }
  },
  {
   "cell_type": "raw",
   "source": [
    "\n",
    "# make model\n",
    "baseline = baseline_mlp.MLP(X_train.shape[1], 400, 200, torch.relu)\n",
    "\n",
    "# train\n",
    "baseline.learn(torch.Tensor(X_train), torch.Tensor(y_train))\n",
    "\n",
    "# evaluate\n",
    "acc0 = baseline.get_accuracy(torch.Tensor(X_test), torch.Tensor(y_test))\n",
    "print('accuracy:', acc0)\n"
   ],
   "metadata": {
    "collapsed": false,
    "pycharm": {
     "name": "#%% raw\n",
     "is_executing": false
    }
   }
  },
  {
   "cell_type": "markdown",
   "source": [
    "# Now with just glove"
   ],
   "metadata": {
    "collapsed": false
   }
  },
  {
   "cell_type": "raw",
   "source": [
    "\n",
    "# merge data\n",
    "\n",
    "X_train = np.concatenate((X_labeled_train_glove, X_histories_train_glove ), axis = 1)\n",
    "X_test = np.concatenate((X_labeled_test_glove, X_histories_test_glove), axis = 1)\n",
    "\n",
    "y_train = y_train_glove\n",
    "y_test = y_test_glove\n",
    "\n"
   ],
   "metadata": {
    "collapsed": false,
    "pycharm": {
     "name": "#%% raw\n",
     "is_executing": false
    }
   }
  },
  {
   "cell_type": "raw",
   "source": [
    "\n",
    "# make model\n",
    "baseline = baseline_mlp.MLP(X_train.shape[1], 400, 200, torch.relu)\n",
    "\n",
    "# train\n",
    "baseline.learn(torch.Tensor(X_train), torch.Tensor(y_train))\n",
    "\n",
    "# evaluate\n",
    "acc0 = baseline.get_accuracy(torch.Tensor(X_test), torch.Tensor(y_test))\n",
    "print('accuracy:', acc0)\n"
   ],
   "metadata": {
    "collapsed": false,
    "pycharm": {
     "name": "#%% raw\n",
     "is_executing": false
    }
   }
  },
  {
   "cell_type": "markdown",
   "source": [
    "# Now glove without histories"
   ],
   "metadata": {
    "collapsed": false
   }
  },
  {
   "cell_type": "raw",
   "source": [
    "\n",
    "# merge data\n",
    "\n",
    "X_train = X_labeled_train_glove\n",
    "X_test = X_labeled_test_glove\n",
    "\n",
    "y_train = y_train_glove\n",
    "y_test = y_test_glove\n",
    "\n"
   ],
   "metadata": {
    "collapsed": false,
    "pycharm": {
     "name": "#%% raw\n",
     "is_executing": false
    }
   }
  },
  {
   "cell_type": "raw",
   "source": [
    "\n",
    "# make model\n",
    "baseline = baseline_mlp.MLP(X_train.shape[1], 200, 200, torch.relu)\n",
    "\n",
    "# train\n",
    "baseline.learn(torch.Tensor(X_train), torch.Tensor(y_train))\n",
    "\n",
    "# evaluate\n",
    "acc0 = baseline.get_accuracy(torch.Tensor(X_test), torch.Tensor(y_test))\n",
    "print('accuracy:', acc0)\n",
    "\n",
    "\n"
   ],
   "metadata": {
    "collapsed": false,
    "pycharm": {
     "name": "#%% raw\n",
     "is_executing": false
    }
   }
  },
  {
   "cell_type": "raw",
   "source": [
    "\n",
    "with torch.no_grad():\n",
    "    y_score = baseline(torch.Tensor(X_test))\n",
    "\n",
    "y_score = torch.flatten(y_score).numpy()\n",
    "roc_auc_score(y_test, y_score)\n",
    "\n"
   ],
   "metadata": {
    "collapsed": false,
    "pycharm": {
     "name": "#%% raw\n",
     "is_executing": false
    }
   }
  },
  {
   "cell_type": "raw",
   "source": [
    "\n",
    "print(__doc__)\n",
    "import numpy as np\n",
    "import matplotlib.pyplot as plt\n",
    "from itertools import cycle\n",
    "\n",
    "from sklearn import svm, datasets\n",
    "from sklearn.metrics import roc_curve, auc\n",
    "from sklearn.model_selection import train_test_split\n",
    "from sklearn.preprocessing import label_binarize\n",
    "from sklearn.multiclass import OneVsRestClassifier\n",
    "from scipy import interp\n",
    "\n",
    "fpr, tpr, _ = roc_curve(y_test, y_score)\n",
    "roc_auc = auc(fpr, tpr)\n",
    "\n",
    "plt.figure()\n",
    "lw = 2\n",
    "plt.plot(fpr, tpr, color='darkorange',\n",
    "         lw=lw, label='ROC curve (area = %0.2f)' % roc_auc)\n",
    "plt.plot([0, 1], [0, 1], color='navy', lw=lw, linestyle='--')\n",
    "plt.xlim([0.0, 1.0])\n",
    "plt.ylim([0.0, 1.05])\n",
    "plt.xlabel('False Positive Rate')\n",
    "plt.ylabel('True Positive Rate')\n",
    "plt.title('Receiver operating characteristic example')\n",
    "plt.legend(loc=\"lower right\")\n",
    "plt.show()\n",
    "\n",
    "\n"
   ],
   "metadata": {
    "collapsed": false,
    "pycharm": {
     "name": "#%% raw\n",
     "is_executing": false
    }
   }
  },
  {
   "cell_type": "markdown",
   "source": [
    "# Try normalized (MINMAX)"
   ],
   "metadata": {
    "collapsed": false
   }
  },
  {
   "cell_type": "raw",
   "source": [
    "\n",
    "from sklearn.preprocessing import MinMaxScaler\n",
    "scaler1 = MinMaxScaler()\n",
    "scaler2 = MinMaxScaler()\n",
    "scaler3 = MinMaxScaler()\n",
    "scaler4 = MinMaxScaler()\n",
    "\n",
    "\n",
    "# HAS BUGS!\n",
    "\n",
    "            \n",
    "'''X_labeled_train_glove_minmax    = scaler1.fit_transform(X_labeled_train_glove)\n",
    "X_histories_train_glove_minmax  = scaler2.fit_transform(X_histories_train_glove)\n",
    "X_labeled_test_glove_minmax     = scaler3.fit_transform(X_labeled_test_glove)\n",
    "X_histories_test_glove_minmax   = scaler4.fit_transform(X_histories_test_glove)\n",
    "\n",
    "X_labeled_train_tfidf_minmax    = scaler1.transform(X_labeled_train_tfidf)\n",
    "X_histories_train_tfidf_minmax  = scaler2.transform(X_histories_train_tfidf)\n",
    "X_labeled_test_tfidf_minmax     = scaler3.transform(X_labeled_test_tfidf)\n",
    "X_histories_test_tfidf_minmax   = scaler4.transform(X_histories_test_tfidf)'''\n",
    "\n",
    "\n"
   ],
   "metadata": {
    "collapsed": false,
    "pycharm": {
     "name": "#%% raw\n",
     "is_executing": false
    }
   }
  },
  {
   "cell_type": "raw",
   "source": [
    "\n",
    "# merge data\n",
    "\n",
    "X_train = np.concatenate((X_labeled_train_glove_minmax, X_labeled_train_tfidf_minmax,\n",
    "                          X_histories_train_glove_minmax, X_histories_train_tfidf_minmax),\n",
    "                         axis = 1)\n",
    "X_test = np.concatenate((X_labeled_test_glove_minmax, X_labeled_test_tfidf_minmax,\n",
    "                         X_histories_test_glove_minmax, X_histories_test_tfidf_minmax),\n",
    "                        axis = 1)\n",
    "\n",
    "y_train = y_train_glove\n",
    "y_test = y_test_glove\n",
    "\n"
   ],
   "metadata": {
    "collapsed": false,
    "pycharm": {
     "name": "#%% raw\n",
     "is_executing": false
    }
   }
  },
  {
   "cell_type": "raw",
   "source": [
    "\n",
    "%%capture\n",
    "# mutes output for this cell\n",
    "\n",
    "acc, auc = test_100(X_train,y_train,X_test,y_test)\n"
   ],
   "metadata": {
    "collapsed": false,
    "pycharm": {
     "name": "#%% raw\n",
     "is_executing": false
    }
   }
  },
  {
   "cell_type": "raw",
   "source": [
    "\n",
    "print(acc)\n",
    "print(auc)\n",
    "\n"
   ],
   "metadata": {
    "collapsed": false,
    "pycharm": {
     "name": "#%% raw\n",
     "is_executing": false
    }
   }
  }
 ],
 "metadata": {
  "kernelspec": {
   "display_name": "Python 3",
   "language": "python",
   "name": "python3"
  },
  "language_info": {
   "codemirror_mode": {
    "name": "ipython",
    "version": 2
   },
   "file_extension": ".py",
   "mimetype": "text/x-python",
   "name": "python",
   "nbconvert_exporter": "python",
   "pygments_lexer": "ipython2",
   "version": "2.7.6"
  },
  "pycharm": {
   "stem_cell": {
    "cell_type": "raw",
    "source": [],
    "metadata": {
     "collapsed": false
    }
   }
  }
 },
 "nbformat": 4,
 "nbformat_minor": 0
}