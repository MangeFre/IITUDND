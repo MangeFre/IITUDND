{
 "cells": [
  {
   "cell_type": "code",
   "execution_count": 22,
   "metadata": {
    "collapsed": true,
    "pycharm": {
     "is_executing": false
    }
   },
   "outputs": [],
   "source": [
    "%load_ext autoreload\n",
    "%autoreload 2\n",
    "from models import baseline_mlp\n",
    "import numpy as np\n",
    "import torch"
   ]
  },
  {
   "cell_type": "code",
   "execution_count": 14,
   "outputs": [],
   "source": [
    "GLOVE_DIR = '/Users/ianmagnusson/IITUDND/data/extracted_features/glove/harvey/'\n",
    "TFIDF_DIR = '/Users/ianmagnusson/IITUDND/data/extracted_features/TFIDF/harvey/'"
   ],
   "metadata": {
    "collapsed": false,
    "pycharm": {
     "name": "#%%\n",
     "is_executing": false
    }
   }
  },
  {
   "cell_type": "code",
   "execution_count": 15,
   "outputs": [],
   "source": [
    "# load features\n",
    "X_labeled_train_glove = np.load(GLOVE_DIR + 'X_labeled_train.npy')\n",
    "X_histories_train_glove = np.load(GLOVE_DIR + 'X_histories_train.npy')\n",
    "X_labeled_test_glove = np.load(GLOVE_DIR + 'X_labeled_test.npy')\n",
    "X_histories_test_glove = np.load(GLOVE_DIR + 'X_histories_test.npy')\n",
    "\n",
    "y_train_glove = np.load(GLOVE_DIR + 'y_train.npy')\n",
    "y_test_glove = np.load(GLOVE_DIR + 'y_test.npy')\n",
    "\n",
    "X_labeled_train_tfidf = np.load(TFIDF_DIR + 'trainHistories.npy')\n",
    "X_histories_train_tfidf = np.load(TFIDF_DIR + 'trainTweets.npy')\n",
    "X_labeled_test_tfidf = np.load(TFIDF_DIR + 'testHistories.npy')\n",
    "X_histories_test_tfidf = np.load(TFIDF_DIR + 'testTweets.npy')\n",
    "\n",
    "y_train_tfidf = np.load(TFIDF_DIR + 'trainClassifications.npy')\n",
    "y_test_tfidf = np.load(TFIDF_DIR + 'testClassifications.npy')"
   ],
   "metadata": {
    "collapsed": false,
    "pycharm": {
     "name": "#%%\n",
     "is_executing": false
    }
   }
  },
  {
   "cell_type": "code",
   "execution_count": 16,
   "outputs": [
    {
     "name": "stdout",
     "text": [
      "True\nTrue\n"
     ],
     "output_type": "stream"
    }
   ],
   "source": [
    "# check that the class labels aren't messed up\n",
    "print(np.array_equal(y_test_glove, y_test_tfidf))\n",
    "print(np.array_equal(y_train_glove, y_train_tfidf))"
   ],
   "metadata": {
    "collapsed": false,
    "pycharm": {
     "name": "#%%\n",
     "is_executing": false
    }
   }
  },
  {
   "cell_type": "code",
   "execution_count": 43,
   "outputs": [],
   "source": [
    "# merge data\n",
    "\n",
    "X_train = np.concatenate((X_labeled_train_glove, X_labeled_train_tfidf, X_histories_train_glove, X_histories_train_tfidf), axis = 1)\n",
    "X_test = np.concatenate((X_labeled_test_glove, X_labeled_test_tfidf, X_histories_test_glove, X_histories_test_tfidf), axis = 1)\n",
    "\n",
    "y_train = y_train_glove\n",
    "y_test = y_test_glove\n"
   ],
   "metadata": {
    "collapsed": false,
    "pycharm": {
     "name": "#%%\n",
     "is_executing": false
    }
   }
  },
  {
   "cell_type": "code",
   "execution_count": 48,
   "outputs": [
    {
     "name": "stdout",
     "text": [
      "epoch: 0 learning rate: [0.1]\n",
      "[1,   200] loss: 0.500\n",
      "[1,   400] loss: 0.469\n",
      "[1,   600] loss: 0.391\n",
      "[1,   800] loss: 0.456\nepoch: 1 learning rate: [0.010000000000000002]\n",
      "[2,   200] loss: 0.357\n",
      "[2,   400] loss: 0.347\n",
      "[2,   600] loss: 0.389\n",
      "[2,   800] loss: 0.362\n",
      "accuracy: 0.83625\n"
     ],
     "output_type": "stream"
    }
   ],
   "source": [
    "# make model\n",
    "baseline = baseline_mlp.MLP(X_train.shape[1], 400, 200, torch.relu)\n",
    "\n",
    "# train\n",
    "baseline.learn(torch.Tensor(X_train), torch.Tensor(y_train))\n",
    "\n",
    "# evaluate\n",
    "acc0 = baseline.get_accuracy(torch.Tensor(X_test), torch.Tensor(y_test))\n",
    "print('accuracy:', acc0)"
   ],
   "metadata": {
    "collapsed": false,
    "pycharm": {
     "name": "#%%\n",
     "is_executing": false
    }
   }
  },
  {
   "cell_type": "markdown",
   "source": [
    "# Now without user histories"
   ],
   "metadata": {
    "collapsed": false,
    "pycharm": {
     "name": "#%% md\n"
    }
   }
  },
  {
   "cell_type": "code",
   "execution_count": 49,
   "outputs": [],
   "source": [
    "# merge data\n",
    "\n",
    "X_train = np.concatenate((X_labeled_train_glove, X_labeled_train_tfidf), axis = 1)\n",
    "X_test = np.concatenate((X_labeled_test_glove, X_labeled_test_tfidf), axis = 1)\n",
    "\n",
    "y_train = y_train_glove\n",
    "y_test = y_test_glove\n"
   ],
   "metadata": {
    "collapsed": false,
    "pycharm": {
     "name": "#%%\n",
     "is_executing": false
    }
   }
  },
  {
   "cell_type": "code",
   "execution_count": 51,
   "outputs": [
    {
     "name": "stdout",
     "text": [
      "epoch: 0 learning rate: [0.1]\n",
      "[1,   200] loss: 0.506\n",
      "[1,   400] loss: 0.471\n",
      "[1,   600] loss: 0.444\n",
      "[1,   800] loss: 0.410\nepoch: 1 learning rate: [0.010000000000000002]\n",
      "[2,   200] loss: 0.351\n",
      "[2,   400] loss: 0.379\n",
      "[2,   600] loss: 0.349\n",
      "[2,   800] loss: 0.364\n",
      "accuracy: 0.84\n"
     ],
     "output_type": "stream"
    }
   ],
   "source": [
    "# make model\n",
    "baseline = baseline_mlp.MLP(X_train.shape[1], 400, 200, torch.relu)\n",
    "\n",
    "# train\n",
    "baseline.learn(torch.Tensor(X_train), torch.Tensor(y_train))\n",
    "\n",
    "# evaluate\n",
    "acc0 = baseline.get_accuracy(torch.Tensor(X_test), torch.Tensor(y_test))\n",
    "print('accuracy:', acc0)"
   ],
   "metadata": {
    "collapsed": false,
    "pycharm": {
     "name": "#%%\n",
     "is_executing": false
    }
   }
  }
 ],
 "metadata": {
  "kernelspec": {
   "display_name": "Python 3",
   "language": "python",
   "name": "python3"
  },
  "language_info": {
   "codemirror_mode": {
    "name": "ipython",
    "version": 2
   },
   "file_extension": ".py",
   "mimetype": "text/x-python",
   "name": "python",
   "nbconvert_exporter": "python",
   "pygments_lexer": "ipython2",
   "version": "2.7.6"
  },
  "pycharm": {
   "stem_cell": {
    "cell_type": "raw",
    "source": [],
    "metadata": {
     "collapsed": false
    }
   }
  }
 },
 "nbformat": 4,
 "nbformat_minor": 0
}