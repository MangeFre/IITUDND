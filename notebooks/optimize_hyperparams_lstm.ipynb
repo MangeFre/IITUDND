{
 "cells": [
  {
   "cell_type": "code",
   "execution_count": 1,
   "metadata": {
    "collapsed": true,
    "pycharm": {
     "is_executing": false
    }
   },
   "outputs": [],
   "source": [
    "%reload_ext autoreload\n",
    "\n",
    "%autoreload 2\n",
    "import numpy as np\n",
    "from models import lstm\n",
    "import torch"
   ]
  },
  {
   "cell_type": "code",
   "execution_count": 15,
   "outputs": [],
   "source": [
    "# FILES TO CHANGE (This is where your sequence_nlp_harvey.zip etc is) \n",
    "\n",
    "NPY_INPUT_DIR = '/Users/ianmagnusson/IITUDND/data/extracted_features/combined_NLP/harvey/kfold'"
   ],
   "metadata": {
    "collapsed": false,
    "pycharm": {
     "name": "#%%\n",
     "is_executing": false
    }
   }
  },
  {
   "cell_type": "code",
   "execution_count": 16,
   "outputs": [],
   "source": [
    "def run_experiment(num_hidden, learning_rate, data_dir):\n",
    "    \n",
    "    # load data from files\n",
    "    \n",
    "    X_seq_tfidf_train = np.load(data_dir + 'X_seq_tfidf_train.npz')\n",
    "    X_seq_tfidf_test = np.load(data_dir + 'X_seq_tfidf_test.npz')\n",
    "    \n",
    "    \n",
    "    X_seq_glove_train = np.load(data_dir + 'X_seq_glove_train.npz')\n",
    "    X_seq_glove_test = np.load(data_dir + 'X_seq_glove_test.npz')\n",
    "    \n",
    "    y_train = torch.Tensor(np.load(data_dir + 'y_train.npy'))\n",
    "    y_test = torch.Tensor(np.load(data_dir + 'y_test.npy'))\n",
    "    \n",
    "    # build lists with features concatenated\n",
    "    \n",
    "    X_train = []\n",
    "    for i in range(len(y_train)):\n",
    "        file = X_seq_tfidf_train.files[i]\n",
    "        X_train.append(torch.Tensor(np.concatenate((X_seq_tfidf_train[file], X_seq_glove_train[file]), axis=1)))\n",
    "        \n",
    "    X_test = []\n",
    "    for i in range(len(y_test)):\n",
    "        file = X_seq_tfidf_test.files[i]\n",
    "        X_test.append(torch.Tensor(np.concatenate((X_seq_tfidf_test[file], X_seq_glove_test[file]), axis=1)))\n",
    "    \n",
    "    # build and train model\n",
    "    \n",
    "    model = lstm.LSTM(input_dim=400, hidden_dim=400)\n",
    "    \n",
    "    model.learn(X_train, y_train)\n",
    "    \n",
    "    # evaluate\n",
    "    return model.get_accuracy(X_test, y_test)\n",
    "\n",
    "def cross_validate(num_hidden, learning_rate, data_dir, folds = 10):\n",
    "    accuracy_sum = 0.0\n",
    "    for i in range(folds):\n",
    "        fold_dir = data_dir + str(i) + '/'\n",
    "        accuracy_sum += run_experiment(num_hidden,learning_rate,data_dir)\n",
    "        \n",
    "    return accuracy_sum / folds\n"
   ],
   "metadata": {
    "collapsed": false,
    "pycharm": {
     "name": "#%%\n",
     "is_executing": false
    }
   }
  },
  {
   "cell_type": "code",
   "execution_count": null,
   "outputs": [],
   "source": [
    "# cross validate search for hyper-parameters\n",
    "learning_rates = [0.1, 0.01, 0.001]\n",
    "hidden_dims = [128,256,512]\n",
    "results0 = np.zeros((len(learning_rates), len(hidden_dims)))\n",
    "for i, f in enumerate(learning_rates):\n",
    "    for j, h in enumerate(hidden_dims):\n",
    "        results0[i,j] = cross_validate(f, h, NPY_INPUT_DIR) # TODO CHECK THESE PARAMS ARE RIGHT\n",
    "        \n",
    "np.save('results0.npy', results0) # to save results\n",
    "print(results0)\n",
    "\n"
   ],
   "metadata": {
    "collapsed": false,
    "pycharm": {
     "name": "#%%\n"
    }
   }
  }
 ],
 "metadata": {
  "kernelspec": {
   "display_name": "Python 3",
   "language": "python",
   "name": "python3"
  },
  "language_info": {
   "codemirror_mode": {
    "name": "ipython",
    "version": 2
   },
   "file_extension": ".py",
   "mimetype": "text/x-python",
   "name": "python",
   "nbconvert_exporter": "python",
   "pygments_lexer": "ipython2",
   "version": "2.7.6"
  },
  "pycharm": {
   "stem_cell": {
    "cell_type": "raw",
    "source": [],
    "metadata": {
     "collapsed": false
    }
   }
  }
 },
 "nbformat": 4,
 "nbformat_minor": 0
}