{
 "cells": [
  {
   "cell_type": "code",
   "execution_count": null,
   "metadata": {},
   "outputs": [],
   "source": [
    "import math\n",
    "from collections import defaultdict\n",
    "import json\n",
    "import csv\n",
    "import nltk"
   ]
  },
  {
   "cell_type": "code",
   "execution_count": null,
   "metadata": {},
   "outputs": [],
   "source": [
    "userTweets = defaultdict(list)\n",
    "# Read in the data\n",
    "with open(\"/Users/chloelarkin/Desktop/maria_extras.json\") as fin:\n",
    "    for line in fin:\n",
    "        json_data = json.loads(line)\n",
    "        user = json_data['user']['id'] # Get the user ID\n",
    "        tweet_id = json_data['text'] # Get the text of the tweet\n",
    "        userTweets[user].append(tweet_id)\n",
    "vocabulary = defaultdict(int)\n",
    "documents = defaultdict(list)"
   ]
  },
  {
   "cell_type": "code",
   "execution_count": null,
   "metadata": {},
   "outputs": [],
   "source": [
    "# Build global vocabulary and frequency tallies\n",
    "for user in userTweets.keys(): # Build global vocabulary from all tweets\n",
    "    for tweet in userTweets[user]:\n",
    "        words = nltk.word_tokenize(tweet)\n",
    "        for word in words:\n",
    "            word = word.lower()\n",
    "            vocabulary[word] += 1 # Build a global frequency tally for unigrams\n",
    "print(len(vocabulary))"
   ]
  },
  {
   "cell_type": "code",
   "execution_count": null,
   "metadata": {},
   "outputs": [],
   "source": [
    "# Start dictionaries for IDF feature vector and a dictionary of dictionaries of TF feature vectors (one per user)\n",
    "idf_vals = dict.fromkeys(vocabulary.keys(), [])\n",
    "all_tf_vals = defaultdict(list)"
   ]
  },
  {
   "cell_type": "code",
   "execution_count": null,
   "metadata": {},
   "outputs": [],
   "source": [
    "# Calculate TF values for all individual users and extract info for IDF\n",
    "for user in userTweets.keys(): # Now, build vocabulary for each user's doc (all tweets --> one doc here)\n",
    "    userDocFreq = defaultdict(int)\n",
    "    for key in vocabulary.keys():\n",
    "        userDocFreq[key] = 0\n",
    "    tf_vals = userDocFreq\n",
    "    for tweet in userTweets[user]: #TODO: if we are filtering by date (before the labeled tweet), add that line here\n",
    "        words = nltk.word_tokenize(tweet) # Tokenize all words in the tweet\n",
    "        for word in words:\n",
    "            word = word.lower() # Standardize word case (lowercase)\n",
    "            userDocFreq[word] += 1\n",
    "    documents[user] = userDocFreq\n",
    "    for word in userDocFreq.copy():\n",
    "        tf_vals[word] = (userDocFreq[word] / len(userDocFreq))\n",
    "    all_tf_vals[user] = tf_vals"
   ]
  },
  {
   "cell_type": "code",
   "execution_count": null,
   "metadata": {},
   "outputs": [],
   "source": [
    "# Calculate IDF values\n",
    "idf_vals = defaultdict(int)\n",
    "for key in vocabulary.keys():\n",
    "    idf_vals[key] = 0\n",
    "for word in vocabulary.copy(): # The IDF calculation:\n",
    "    denom = 0\n",
    "    for doc in documents: # Calculating the denominator for IDF. Clunky but hey, it works!\n",
    "        if documents[doc][word] > 0:\n",
    "            denom += 1\n",
    "    idf_vals[word] = math.log(len(documents) / denom) # verify this?"
   ]
  },
  {
   "cell_type": "code",
   "execution_count": null,
   "metadata": {},
   "outputs": [],
   "source": [
    "# Some sanity tests for the IDF value of common words:\n",
    "print(idf_vals['rt'])\n",
    "print(idf_vals['maria'])\n",
    "\n",
    "# ...And not so common words:\n",
    "print(idf_vals['elephant'])\n",
    "print(idf_vals['joyful'])"
   ]
  },
  {
   "cell_type": "code",
   "execution_count": null,
   "metadata": {},
   "outputs": [],
   "source": [
    "#TODO: part 2 - match up the extracted user histories with annotations\n",
    "\n",
    "# Establish dicts of annotated scores for each tweet ID\n",
    "# Keys = tweet IDs; Values = scores. Need to match these up with the user IDs. \n",
    "text_informative = defaultdict(str) #4000 scores\n",
    "text_humanitarian = defaultdict(str) # 4000 scores\n",
    "image_informative = defaultdict(str) # 4000 scores\n",
    "image_humanitarian = defaultdict(str) # 4000 scores\n",
    "\n",
    "# Read in the annotated remarks - Haven't integrated this yet\n",
    "with open(\"/Users/chloelarkin/Desktop/hurricane_maria_final_data.tsv\") as fin:\n",
    "    reader = csv.DictReader(fin, dialect='excel-tab')\n",
    "    print(reader.fieldnames)\n",
    "    for line in reader:\n",
    "        text_informative[line['tweet_id']]= line['text_info']\n",
    "        text_humanitarian[line['tweet_id']]=line['text_human']\n",
    "        image_informative[line['tweet_id']]=line['image_info']\n",
    "        image_humanitarian[line['tweet_id']]=line['image_human']\n"
   ]
  }
 ],
 "metadata": {
  "kernelspec": {
   "display_name": "Python 3",
   "language": "python",
   "name": "python3"
  },
  "language_info": {
   "codemirror_mode": {
    "name": "ipython",
    "version": 3
   },
   "file_extension": ".py",
   "mimetype": "text/x-python",
   "name": "python",
   "nbconvert_exporter": "python",
   "pygments_lexer": "ipython3",
   "version": "3.6.4"
  }
 },
 "nbformat": 4,
 "nbformat_minor": 2
}
