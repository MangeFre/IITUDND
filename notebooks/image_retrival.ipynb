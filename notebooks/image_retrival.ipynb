{
 "cells": [
  {
   "cell_type": "code",
   "execution_count": 106,
   "metadata": {
    "pycharm": {
     "is_executing": false
    }
   },
   "outputs": [
    {
     "name": "stdout",
     "output_type": "stream",
     "text": [
      "The autoreload extension is already loaded. To reload it, use:\n",
      "  %reload_ext autoreload\n"
     ]
    }
   ],
   "source": [
    "%load_ext autoreload\n",
    "%autoreload 2\n",
    "import time\n",
    "from tweepy import TweepError\n",
    "from requests.exceptions import Timeout, ConnectionError\n",
    "import os\n",
    "import tweepy\n",
    "import json\n",
    "import requests\n",
    "import shutil"
   ]
  },
  {
   "cell_type": "markdown",
   "metadata": {
    "pycharm": {
     "name": "#%% md\n"
    }
   },
   "source": [
    "# THE CELL BELOW CONTAINS THE FILENAME CONSTANTS THAT NEED TO BE CHANGED"
   ]
  },
  {
   "cell_type": "code",
   "execution_count": 107,
   "metadata": {
    "pycharm": {
     "name": "#%%\n"
    }
   },
   "outputs": [],
   "source": [
    "'''\n",
    "    SOME QUICK HOW TO!\n",
    "    \n",
    "    T\n",
    "'''\n",
    "\n",
    "\n",
    "\n",
    "# This file should be the one with the tweets as jsons in it.\n",
    "TWEET_ID_FILE = \"C:/Users/mfren/Desktop/test.json\"\n",
    "\n",
    "# The downloaded images should go into a folder.\n",
    "OUTPUT_DIR = \"C:/Users/mfren/Desktop/test_images/\""
   ]
  },
  {
   "cell_type": "code",
   "execution_count": 108,
   "metadata": {
    "pycharm": {
     "is_executing": false,
     "name": "#%%\n"
    }
   },
   "outputs": [],
   "source": [
    "# setup tweepy\n",
    "consumer_key = \"PQSsqSxGft69D53XGknXya8cL\"\n",
    "consumer_secret = \"dlh6EFLADanVNvdl9Q9Lz9Iv3yQQyHY9vxKTS9BN2skflGd45d\"\n",
    "access_token = \"1187382763432771584-rwZbZc9lcOcaVdgxcIgqqCPqoQMo3I\"\n",
    "access_token_secret = \"nvnIFiZD9L1u6tZwntl24BtsLhKmkBntJ4dpko82fYKg8\"\n",
    "\n",
    "auth = tweepy.OAuthHandler(consumer_key, consumer_secret)\n",
    "auth.set_access_token(access_token, access_token_secret)\n",
    "\n",
    "api = tweepy.API(auth, wait_on_rate_limit=True) # this param makes it not have issues with API limits\n"
   ]
  },
  {
   "cell_type": "code",
   "execution_count": 109,
   "metadata": {},
   "outputs": [],
   "source": [
    "def exists(path):\n",
    "  r = requests.head(path)\n",
    "  return r.status_code == requests.codes.ok"
   ]
  },
  {
   "cell_type": "code",
   "execution_count": 110,
   "metadata": {
    "pycharm": {
     "is_executing": false,
     "name": "#%%\n"
    }
   },
   "outputs": [],
   "source": [
    "with open(TWEET_ID_FILE) as f:\n",
    "    all_content_as_string = f.read()"
   ]
  },
  {
   "cell_type": "code",
   "execution_count": 111,
   "metadata": {
    "scrolled": true
   },
   "outputs": [],
   "source": [
    "# split the file into a list of strings.\n",
    "list_of_dicts = all_content_as_string.splitlines()\n",
    "\n",
    "# turn each string into a json object\n",
    "list_of_jsons = [json.loads(string) for string in list_of_dicts]"
   ]
  },
  {
   "cell_type": "code",
   "execution_count": 112,
   "metadata": {},
   "outputs": [],
   "source": [
    "# Go through the whole list of tweets and download the images.\n",
    "\n",
    "for i in range(0, len(list_of_jsons)):\n",
    "    temp = dict(list_of_jsons[i])\n",
    "    url = temp['entities']['media'][0]['media_url_https']\n",
    "\n",
    "    if(exists(url)):\n",
    "        url_raw = requests.get(url, stream=True)\n",
    "        url_raw.raw.decode_content = True\n",
    "        \n",
    "        with open(OUTPUT_DIR + str(temp['id']) + '_' + str(temp['user']['id']) + '_' + str(i) + \".jpg\", 'wb') as fin:\n",
    "            shutil.copyfileobj(url_raw.raw, fin)\n",
    "        \n",
    "        # Remove the image url response object - because you should.\n",
    "        del url_raw\n",
    "    else:\n",
    "        continue\n",
    "        \n",
    "# So you know once it is done.\n",
    "print(\"DONE!\")"
   ]
  }
 ],
 "metadata": {
  "kernelspec": {
   "display_name": "Python 3",
   "language": "python",
   "name": "python3"
  },
  "language_info": {
   "codemirror_mode": {
    "name": "ipython",
    "version": 3
   },
   "file_extension": ".py",
   "mimetype": "text/x-python",
   "name": "python",
   "nbconvert_exporter": "python",
   "pygments_lexer": "ipython3",
   "version": "3.7.4"
  },
  "pycharm": {
   "stem_cell": {
    "cell_type": "raw",
    "metadata": {
     "collapsed": false
    },
    "source": []
   }
  }
 },
 "nbformat": 4,
 "nbformat_minor": 1
}
