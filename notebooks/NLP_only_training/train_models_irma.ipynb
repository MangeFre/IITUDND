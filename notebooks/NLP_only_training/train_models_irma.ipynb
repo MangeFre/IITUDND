{
 "cells": [
  {
   "cell_type": "code",
   "execution_count": 5,
   "metadata": {
    "pycharm": {
     "is_executing": false,
     "name": "#%%\n"
    }
   },
   "outputs": [],
   "source": [
    "import sys\n",
    "sys.path.append('..')\n",
    "import statistics\n",
    "from collections import defaultdict\n",
    "%reload_ext autoreload\n",
    "\n",
    "%autoreload 2\n",
    "import numpy as np\n",
    "from models import lstm\n",
    "import torch\n",
    "from collections import defaultdict\n",
    "import scipy.stats as st\n",
    "import matplotlib.pyplot as plt\n"
   ]
  },
  {
   "cell_type": "code",
   "execution_count": 6,
   "metadata": {
    "pycharm": {
     "is_executing": false,
     "name": "#%%\n"
    }
   },
   "outputs": [],
   "source": [
    "# FILES TO CHANGE (This is where your sequence_nlp_harvey.zip etc is) \n",
    "\n",
    "NPY_INPUT_DIR = '../data/extracted_features/combined_NLP/irma/'\n",
    "\n",
    "NUM_TESTS = 100\n",
    "\n",
    "HIDDEN_DIM0 = 84\n",
    "NUM_LAYERS0 = 1\n",
    "BIDIRECTIONAL = True\n",
    "LEARNING_RATE0 =  0.012299062522117071\n",
    "MOMENTUM0= 0.48958379148316544\n",
    "DECAY_FACTOR0 = 0.8731070777804946\n",
    "EPOCH0 = 1\n",
    "\n",
    "HIDDEN_DIM1 = 410\n",
    "NUM_LAYERS1 = 1\n",
    "ACTIVATION1 = torch.tanh\n",
    "LEARNING_RATE1 =  0.009853003325686935\n",
    "MOMENTUM1= 0.29468037625505683\n",
    "DECAY_FACTOR1 = 0.6987128587522341\n",
    "EPOCH1 = 1\n",
    "\n",
    "HIDDEN_DIM2 = 431\n",
    "NUM_LAYERS2 = 1\n",
    "ACTIVATION2 = torch.sigmoid\n",
    "LEARNING_RATE2 =  0.058529866163076795\n",
    "MOMENTUM2= 0.7007725759237742\n",
    "DECAY_FACTOR2 = 0.16441954145805537\n",
    "EPOCH2 = 4"
   ]
  },
  {
   "cell_type": "markdown",
   "metadata": {},
   "source": [
    "# LSTM -------------------------------------------------------------------*"
   ]
  },
  {
   "cell_type": "code",
   "execution_count": 7,
   "metadata": {
    "pycharm": {
     "is_executing": false,
     "name": "#%%\n"
    }
   },
   "outputs": [],
   "source": [
    "\n",
    "def plot_cis(binNames, binRatios, priors):\n",
    "    '''\n",
    "    Requires a list of group str outputs and bin ratios from get_accuracy_graph - one for each run\n",
    "    Collect results of both get_accuracy_plot return values -- names and binRatios-- in an array to run this.\n",
    "    '''\n",
    "    priors = np.array(priors[0])\n",
    "    binVals = defaultdict(list)\n",
    "    for run in range(len(binRatios)):\n",
    "        for bin in range(len(binRatios[run])):\n",
    "            binVals[bin+1].append(binRatios[run][bin]) # append the ratio (accuracy) of the bin to list\n",
    "    cis = []\n",
    "    means = []\n",
    "    keys = []\n",
    "    binLabels = [name for name in binNames[0]]\n",
    "    for bin in binVals: # Calculate mean and CI for each bin\n",
    "        keys.append(bin)\n",
    "        mean = np.mean(binVals[bin])\n",
    "        means.append(mean)\n",
    "        standard = statistics.stdev(binVals[bin])\n",
    "        cis.append(standard)\n",
    "    plt.figure()  # initiate accuracy plot\n",
    "    plt.plot(keys, means, label=\"Mean Accuracy by Bin\")  # plot accuracy by bin\n",
    "    plt.plot(keys, priors, label=\"Naive Accuracy\")\n",
    "    plt.errorbar(keys, means, yerr=cis)\n",
    "    plt.xticks(keys, binLabels)\n",
    "    plt.suptitle('Test classification accuracy rate by user history length (CI .95)')\n",
    "    plt.xlabel('User history length (lowest to highest), sorted into bins (ascending order)')\n",
    "    plt.ylabel('Accuracy rate')\n",
    "    plt.show()\n",
    "    return\n",
    "\n",
    "\n",
    "def test_100(X_train, y_train, X_test, y_test):\n",
    "    running_acc = 0.0\n",
    "    running_auc = 0.0\n",
    "    graph_results = []\n",
    "    bin_names = []\n",
    "    priors_list = []\n",
    "    \n",
    "    HIDDEN_DIM0 = 364\n",
    "\n",
    "    for i in range(NUM_TESTS):\n",
    "        model = lstm.LSTM(input_dim = 400, hidden_dim = HIDDEN_DIM0, num_layers = NUM_LAYERS0,\n",
    "                          bidirectional = BIDIRECTIONAL, learning_rate = LEARNING_RATE0,\n",
    "                          momentum = MOMENTUM0, decay_factor = DECAY_FACTOR0)\n",
    "        model.learn(X_train, y_train, epochs=EPOCH0)\n",
    "        \n",
    "        # evaluate\n",
    "        running_acc += model.get_accuracy(X_test, y_test)\n",
    "        running_auc += model.get_auc(X_test, y_test)\n",
    "        bins, accRates, priors = model.get_accuracy_graph(X_test, y_test)\n",
    "        bin_names.append(bins)\n",
    "        graph_results.append(accRates)\n",
    "        priors_list.append(priors)\n",
    "    #model.plot_CIs(bin_names, graph_results)\n",
    "    \n",
    "    return running_acc/NUM_TESTS, running_auc/NUM_TESTS, bin_names, graph_results, priors_list"
   ]
  },
  {
   "cell_type": "code",
   "execution_count": 8,
   "metadata": {
    "pycharm": {
     "is_executing": false,
     "name": "#%%\n"
    }
   },
   "outputs": [],
   "source": [
    "# load data from files\n",
    "\n",
    "X_seq_tfidf_train = np.load(NPY_INPUT_DIR + 'X_seq_tfidf_train.npz')\n",
    "X_seq_tfidf_test = np.load(NPY_INPUT_DIR + 'X_seq_tfidf_test.npz')\n",
    "\n",
    "\n",
    "X_seq_glove_train = np.load(NPY_INPUT_DIR + 'X_seq_glove_train.npz')\n",
    "X_seq_glove_test = np.load(NPY_INPUT_DIR + 'X_seq_glove_test.npz')\n",
    "\n",
    "y_train = torch.Tensor(np.load(NPY_INPUT_DIR + 'y_train.npy'))\n",
    "y_test = torch.Tensor(np.load(NPY_INPUT_DIR + 'y_test.npy'))\n",
    "\n",
    "# format npz objects as lists of arrays again\n",
    "X_tfidf_train = [ torch.Tensor(X_seq_tfidf_train[file]) for file in X_seq_tfidf_train.files]\n",
    "X_tfidf_test = [ torch.Tensor(X_seq_tfidf_test[file]) for file in X_seq_tfidf_test.files]\n",
    "\n",
    "X_glove_train = [ torch.Tensor(X_seq_glove_train[file]) for file in X_seq_glove_train.files]\n",
    "X_glove_test = [ torch.Tensor(X_seq_glove_test[file]) for file in X_seq_glove_test.files]\n",
    "\n",
    "\n",
    "# build lists with features concatenated\n",
    "\n",
    "from sklearn.preprocessing import StandardScaler\n",
    "\n",
    "X_raw_train = []\n",
    "for i in range(len(y_train)):\n",
    "    file = X_seq_tfidf_train.files[i]\n",
    "    X_raw_train.append(np.concatenate((X_seq_tfidf_train[file], X_seq_glove_train[file]), axis=1))\n",
    "\n",
    "scaler = StandardScaler()\n",
    "X_fit_train = np.concatenate(X_raw_train)\n",
    "scaler.fit(X_fit_train)\n",
    "\n",
    "X_train = [torch.Tensor(scaler.transform(X_i)) for X_i in X_raw_train]\n",
    "\n",
    "X_test = []\n",
    "for i in range(len(y_test)):\n",
    "    file = X_seq_tfidf_test.files[i]\n",
    "    X_test.append(torch.Tensor(scaler.transform(np.concatenate((X_seq_tfidf_test[file], X_seq_glove_test[file]), axis=1))))\n"
   ]
  },
  {
   "cell_type": "code",
   "execution_count": 9,
   "metadata": {
    "pycharm": {
     "is_executing": true,
     "name": "#%%\n"
    }
   },
   "outputs": [],
   "source": [
    "%%capture\n",
    "# mutes output for this cell\n",
    "\n",
    "acc, auc, bin_names, graph_results, priors_list = test_100(X_train,y_train,X_test,y_test)"
   ]
  },
  {
   "cell_type": "code",
   "execution_count": 10,
   "metadata": {
    "pycharm": {
     "is_executing": true,
     "name": "#%%\n"
    }
   },
   "outputs": [
    {
     "name": "stdout",
     "output_type": "stream",
     "text": [
      "0.8269801980198019\n",
      "0.7755147318233594\n"
     ]
    },
    {
     "data": {
      "image/png": "[encoded data removed]",
      "text/plain": [
       "<Figure size 432x288 with 1 Axes>"
      ]
     },
     "metadata": {
      "needs_background": "light"
     },
     "output_type": "display_data"
    }
   ],
   "source": [
    "print(acc)\n",
    "print(auc)\n",
    "plot_cis(bin_names, graph_results, priors_list)"
   ]
  },
  {
   "cell_type": "markdown",
   "metadata": {
    "pycharm": {
     "name": "#%% md\n"
    }
   },
   "source": [
    "# BASELINE -------------------------------------------------------------------*"
   ]
  },
  {
   "cell_type": "code",
   "execution_count": 11,
   "metadata": {
    "pycharm": {
     "is_executing": true,
     "name": "#%%\n"
    }
   },
   "outputs": [],
   "source": [
    "from collections import defaultdict\n",
    "from models import baseline_mlp\n",
    "import numpy as np\n",
    "import torch\n",
    "from sklearn.metrics import roc_auc_score\n",
    "import statistics\n",
    "import matplotlib.pyplot as plt\n",
    "\n",
    "GLOVE_DIR = NPY_INPUT_DIR\n",
    "TFIDF_DIR = NPY_INPUT_DIR"
   ]
  },
  {
   "cell_type": "markdown",
   "metadata": {},
   "source": [
    "# with histories"
   ]
  },
  {
   "cell_type": "code",
   "execution_count": 12,
   "metadata": {
    "pycharm": {
     "is_executing": true,
     "name": "#%%\n"
    }
   },
   "outputs": [],
   "source": [
    "def test_100(X_train, y_train, X_test, y_test, X_hist_len_test):\n",
    "    running_acc = 0.0\n",
    "    running_auc = 0.0\n",
    "    graph_results = []\n",
    "    bin_names = []\n",
    "    priors_list = []\n",
    "    \n",
    "    for i in range(NUM_TESTS):\n",
    "        # make model\n",
    "        baseline = baseline_mlp.MLP(X_train.shape[1], hidden_dim = HIDDEN_DIM1, num_layers= NUM_LAYERS1,\n",
    "                                    activation_function = ACTIVATION1, learning_rate =  LEARNING_RATE1,\n",
    "                                    momentum = MOMENTUM1, decay_factor = DECAY_FACTOR1)\n",
    "        \n",
    "        # train\n",
    "        baseline.learn(torch.Tensor(X_train), torch.Tensor(y_train), epochs = EPOCH1)\n",
    "        \n",
    "        # evaluate\n",
    "        running_acc += baseline.get_accuracy(torch.Tensor(X_test), torch.Tensor(y_test))\n",
    "        running_auc += baseline.get_auc(torch.Tensor(X_test), torch.Tensor(y_test))\n",
    "        bins, accRates, priors = baseline.get_accuracy_graph(torch.Tensor(X_test), torch.Tensor(y_test), X_hist_len_test)\n",
    "        bin_names.append(bins)\n",
    "        graph_results.append(accRates)\n",
    "        priors_list.append(priors)\n",
    "    #baseline.plot_cis(bin_names, graph_results)\n",
    "    \n",
    "    return running_acc/NUM_TESTS, running_auc/NUM_TESTS, bin_names, graph_results, priors_list"
   ]
  },
  {
   "cell_type": "code",
   "execution_count": 13,
   "metadata": {
    "pycharm": {
     "is_executing": true,
     "name": "#%%\n"
    }
   },
   "outputs": [],
   "source": [
    "# retieve test data history sequence lengths from LSTM data\n",
    "X_seq_tfidf_test = np.load(TFIDF_DIR + 'X_seq_tfidf_test.npz')\n",
    "X_hist_len_test = [ torch.Tensor(X_seq_tfidf_test[file]).shape[0] for file in X_seq_tfidf_test.files]\n",
    "\n",
    "\n",
    "# load features\n",
    "X_labeled_train_glove = np.load(GLOVE_DIR + 'X_labeled_train.npy')\n",
    "X_histories_train_glove = np.load(GLOVE_DIR + 'X_histories_train.npy')\n",
    "X_labeled_test_glove = np.load(GLOVE_DIR + 'X_labeled_test.npy')\n",
    "X_histories_test_glove = np.load(GLOVE_DIR + 'X_histories_test.npy')\n",
    " \n",
    "y_train_glove = np.load(GLOVE_DIR + 'y_train.npy')\n",
    "y_test_glove = np.load(GLOVE_DIR + 'y_test.npy')\n",
    "\n",
    "X_labeled_train_tfidf = np.load(TFIDF_DIR + 'trainTweets.npy')\n",
    "X_histories_train_tfidf = np.load(TFIDF_DIR + 'trainHistories.npy')\n",
    "X_labeled_test_tfidf = np.load(TFIDF_DIR + 'testTweets.npy')\n",
    "X_histories_test_tfidf = np.load(TFIDF_DIR + 'testHistories.npy')\n",
    "\n",
    "y_train_tfidf = np.load(TFIDF_DIR + 'trainClassifications.npy')\n",
    "y_test_tfidf = np.load(TFIDF_DIR + 'testClassifications.npy')\n",
    "\n",
    "\n",
    "# Normalized\n",
    "\n",
    "from sklearn.preprocessing import StandardScaler\n",
    "scaler1 = StandardScaler()\n",
    "scaler2 = StandardScaler()\n",
    "scaler3 = StandardScaler()\n",
    "scaler4 = StandardScaler()\n",
    "\n",
    "\n",
    "# TODO FIX NAMES!           \n",
    "X_labeled_train_glove_norm    = scaler1.fit_transform(X_labeled_train_glove)\n",
    "X_histories_train_glove_norm  = scaler2.fit_transform(X_histories_train_glove)\n",
    "X_labeled_test_glove_norm     = scaler1.transform(X_labeled_test_glove)\n",
    "X_histories_test_glove_norm  = scaler2.transform(X_histories_test_glove)\n",
    "\n",
    "X_labeled_train_tfidf_norm    = scaler3.fit_transform(X_labeled_train_tfidf)\n",
    "X_histories_train_tfidf_norm  = scaler4.fit_transform(X_histories_train_tfidf)\n",
    "X_labeled_test_tfidf_norm     = scaler3.transform(X_labeled_test_tfidf)\n",
    "X_histories_test_tfidf_norm   = scaler4.transform(X_histories_test_tfidf)\n",
    "\n",
    "# merge data\n",
    "\n",
    "X_train = np.concatenate((X_labeled_train_glove_norm, X_labeled_train_tfidf_norm,\n",
    "                          X_histories_train_glove_norm, X_histories_train_tfidf_norm),\n",
    "                         axis = 1)\n",
    "X_test = np.concatenate((X_labeled_test_glove_norm, X_labeled_test_tfidf_norm,\n",
    "                         X_histories_test_glove_norm, X_histories_test_tfidf_norm),\n",
    "                        axis = 1)\n",
    "\n",
    "y_train = y_train_glove\n",
    "y_test = y_test_glove\n"
   ]
  },
  {
   "cell_type": "code",
   "execution_count": 14,
   "metadata": {
    "pycharm": {
     "is_executing": true,
     "name": "#%%\n"
    }
   },
   "outputs": [],
   "source": [
    "%%capture\n",
    "# mutes output for this cell\n",
    "\n",
    "acc, auc, bin_names, graph_results, priors_list= test_100(X_train,y_train,X_test,y_test, X_hist_len_test)"
   ]
  },
  {
   "cell_type": "code",
   "execution_count": 15,
   "metadata": {
    "pycharm": {
     "is_executing": true,
     "name": "#%%\n"
    }
   },
   "outputs": [
    {
     "name": "stdout",
     "output_type": "stream",
     "text": [
      "0.8209158415841585\n",
      "0.7630531615712601\n"
     ]
    },
    {
     "data": {
      "image/png": "[encoded data removed]",
      "text/plain": [
       "<Figure size 432x288 with 1 Axes>"
      ]
     },
     "metadata": {
      "needs_background": "light"
     },
     "output_type": "display_data"
    }
   ],
   "source": [
    "print(acc)\n",
    "print(auc)\n",
    "plot_cis(bin_names, graph_results, priors_list)"
   ]
  },
  {
   "cell_type": "markdown",
   "metadata": {},
   "source": [
    "# without histories"
   ]
  },
  {
   "cell_type": "code",
   "execution_count": 16,
   "metadata": {
    "pycharm": {
     "is_executing": true,
     "name": "#%%\n"
    }
   },
   "outputs": [],
   "source": [
    "def test_100(X_train, y_train, X_test, y_test, X_hist_len_test):\n",
    "    running_acc = 0.0\n",
    "    running_auc = 0.0\n",
    "    graph_results = []\n",
    "    bin_names = []\n",
    "    priors_list = []\n",
    "    \n",
    "    for i in range(NUM_TESTS):\n",
    "        # make model\n",
    "        baseline = baseline_mlp.MLP(X_train.shape[1], hidden_dim = HIDDEN_DIM2, num_layers= NUM_LAYERS2,\n",
    "                                    activation_function = ACTIVATION2, learning_rate =  LEARNING_RATE2,\n",
    "                                    momentum = MOMENTUM2, decay_factor = DECAY_FACTOR2)\n",
    "        \n",
    "        # train\n",
    "        baseline.learn(torch.Tensor(X_train), torch.Tensor(y_train), epochs = EPOCH2)\n",
    "        \n",
    "        # evaluate\n",
    "        running_acc += baseline.get_accuracy(torch.Tensor(X_test), torch.Tensor(y_test))\n",
    "        running_auc += baseline.get_auc(torch.Tensor(X_test), torch.Tensor(y_test))\n",
    "        bins, accRates, priors = baseline.get_accuracy_graph(torch.Tensor(X_test), torch.Tensor(y_test), X_hist_len_test)\n",
    "        bin_names.append(bins)\n",
    "        graph_results.append(accRates)\n",
    "        priors_list.append(priors)\n",
    "    #baseline.plot_cis(bin_names, graph_results)\n",
    "    \n",
    "    return running_acc/NUM_TESTS, running_auc/NUM_TESTS, bin_names, graph_results, priors_list"
   ]
  },
  {
   "cell_type": "code",
   "execution_count": 17,
   "metadata": {
    "pycharm": {
     "is_executing": true,
     "name": "#%%\n"
    }
   },
   "outputs": [],
   "source": [
    "# merge data\n",
    "\n",
    "X_train = np.concatenate((X_labeled_train_glove_norm, X_labeled_train_tfidf_norm),\n",
    "                         axis = 1)\n",
    "X_test = np.concatenate((X_labeled_test_glove_norm, X_labeled_test_tfidf_norm),\n",
    "                        axis = 1)\n",
    "\n",
    "y_train = y_train_glove\n",
    "y_test = y_test_glove"
   ]
  },
  {
   "cell_type": "code",
   "execution_count": 18,
   "metadata": {
    "pycharm": {
     "is_executing": true,
     "name": "#%%\n"
    }
   },
   "outputs": [],
   "source": [
    "%%capture\n",
    "# mutes output for this cell\n",
    "\n",
    "acc, auc, bin_names, graph_results, priors_list = test_100(X_train,y_train,X_test,y_test, X_hist_len_test)"
   ]
  },
  {
   "cell_type": "code",
   "execution_count": 19,
   "metadata": {
    "pycharm": {
     "is_executing": true,
     "name": "#%%\n"
    }
   },
   "outputs": [
    {
     "name": "stdout",
     "output_type": "stream",
     "text": [
      "0.8218069306930693\n",
      "0.7571654217948333\n"
     ]
    },
    {
     "data": {
      "image/png": "[encoded data removed]",
      "text/plain": [
       "<Figure size 432x288 with 1 Axes>"
      ]
     },
     "metadata": {
      "needs_background": "light"
     },
     "output_type": "display_data"
    }
   ],
   "source": [
    "print(acc)\n",
    "print(auc)\n",
    "plot_cis(bin_names, graph_results, priors_list)\n",
    "\n"
   ]
  }
 ],
 "metadata": {
  "kernelspec": {
   "display_name": "Python 3",
   "language": "python",
   "name": "python3"
  },
  "language_info": {
   "codemirror_mode": {
    "name": "ipython",
    "version": 3
   },
   "file_extension": ".py",
   "mimetype": "text/x-python",
   "name": "python",
   "nbconvert_exporter": "python",
   "pygments_lexer": "ipython3",
   "version": "3.7.3"
  },
  "pycharm": {
   "stem_cell": {
    "cell_type": "raw",
    "metadata": {
     "collapsed": false
    },
    "source": []
   }
  }
 },
 "nbformat": 4,
 "nbformat_minor": 1
}
