{
 "cells": [
  {
   "cell_type": "code",
   "execution_count": 65,
   "metadata": {
    "collapsed": true,
    "pycharm": {
     "is_executing": false
    }
   },
   "outputs": [],
   "source": [
    "%reload_ext autoreload\n",
    "\n",
    "%autoreload 2\n",
    "import numpy as np\n",
    "from models import lstm\n",
    "import torch\n",
    "from sklearn.preprocessing import StandardScaler\n",
    "import random\n",
    "import pickle"
   ]
  },
  {
   "cell_type": "code",
   "execution_count": 66,
   "outputs": [],
   "source": [
    "# FILES TO CHANGE (This is where your sequence_nlp_harvey.zip etc is) test\n",
    "\n",
    "NPY_INPUT_DIR = '/Users/ianmagnusson/IITUDND/data/extracted_features/combined_NLP/harvey/kfold/'\n",
    "\n",
    "OUT_FILE = '/Users/ianmagnusson/IITUDND/notebooks/harvey_random_LSTM_results.npy'\n",
    "\n",
    "NUM_EXPERIMENTS = 10000000000000000"
   ],
   "metadata": {
    "collapsed": false,
    "pycharm": {
     "name": "#%%\n",
     "is_executing": false
    }
   }
  },
  {
   "cell_type": "code",
   "execution_count": 67,
   "outputs": [],
   "source": [
    "def run_experiment(input_dim, hidden_dim, num_layers, bidirectional,  learning_rate, momentum, decay_factor, epochs, data_dir):\n",
    "    \n",
    "    # load data from files\n",
    "    \n",
    "    X_seq_tfidf_train = np.load(data_dir + 'X_seq_tfidf_train.npz')\n",
    "    X_seq_tfidf_test = np.load(data_dir + 'X_seq_tfidf_test.npz')\n",
    "    \n",
    "    \n",
    "    X_seq_glove_train = np.load(data_dir + 'X_seq_glove_train.npz')\n",
    "    X_seq_glove_test = np.load(data_dir + 'X_seq_glove_test.npz')\n",
    "    \n",
    "    y_train = torch.Tensor(np.load(data_dir + 'y_train.npy'))\n",
    "    y_test = torch.Tensor(np.load(data_dir + 'y_test.npy'))\n",
    "    \n",
    "    # build lists with features concatenated\n",
    "    \n",
    "    X_raw_train = []\n",
    "    for i in range(len(y_train)):\n",
    "        file = X_seq_tfidf_train.files[i]\n",
    "        X_raw_train.append(np.concatenate((X_seq_tfidf_train[file], X_seq_glove_train[file]), axis=1))\n",
    "    \n",
    "    scaler = StandardScaler()\n",
    "    X_fit_train = np.concatenate(X_raw_train)\n",
    "    scaler.fit(X_fit_train)\n",
    "    \n",
    "    X_train = [torch.Tensor(scaler.transform(X_i)) for X_i in X_raw_train]\n",
    "    \n",
    "    X_test = []\n",
    "    for i in range(len(y_test)):\n",
    "        file = X_seq_tfidf_test.files[i]\n",
    "        X_test.append(torch.Tensor(scaler.transform(np.concatenate((X_seq_tfidf_test[file], X_seq_glove_test[file]), axis=1))))\n",
    "\n",
    "    \n",
    "    # build and train model\n",
    "    model = lstm.LSTM(input_dim=input_dim, hidden_dim=hidden_dim, num_layers = num_layers, bidirectional = bidirectional,\n",
    "                      learning_rate=learning_rate, momentum = momentum, decay_factor = decay_factor)\n",
    "    \n",
    "    model.learn(X_train, y_train, epochs = epochs)\n",
    "    \n",
    "    # evaluate\n",
    "    return model.get_accuracy(X_test, y_test)\n",
    "\n",
    "def cross_validate(input_dim, hidden_dim, num_layers, bidirectional,  learning_rate, momentum, decay_factor, epochs,\n",
    "                   data_dir, folds = 10):\n",
    "    accuracy_sum = 0.0\n",
    "    x = 0\n",
    "    for i in range(folds):\n",
    "        fold_dir = data_dir + str(i) + '/'\n",
    "        print('running fold', i)\n",
    "        acc = run_experiment(input_dim, hidden_dim, num_layers, bidirectional,\n",
    "                             learning_rate, momentum, decay_factor,epochs,fold_dir)\n",
    "        print('fold result', acc)\n",
    "        accuracy_sum += acc\n",
    "        \n",
    "    return accuracy_sum / folds\n"
   ],
   "metadata": {
    "collapsed": false,
    "pycharm": {
     "name": "#%%\n",
     "is_executing": false
    }
   }
  },
  {
   "cell_type": "code",
   "execution_count": 68,
   "outputs": [],
   "source": [
    "def get_random_params(range_hd, range_nl, range_lr, range_mo, range_dr, range_ep):\n",
    "    hidden_dim = random.randint(*range_hd)\n",
    "    num_layers = random.randint(*range_nl)\n",
    "    bidirectional = bool(random.getrandbits(1))\n",
    "    learning_rate = random.uniform(*range_lr)\n",
    "    momentum = random.uniform(*range_mo)\n",
    "    decay_factor = random.uniform(*range_dr)\n",
    "    epochs = random.randint(*range_ep)\n",
    "    \n",
    "    return hidden_dim, num_layers, bidirectional,  learning_rate, momentum, decay_factor, epochs"
   ],
   "metadata": {
    "collapsed": false,
    "pycharm": {
     "name": "#%%\n",
     "is_executing": false
    }
   }
  },
  {
   "cell_type": "code",
   "execution_count": null,
   "outputs": [
    {
     "name": "stdout",
     "text": [
      "starting test 0 params: (1315, 4, True, 0.05126334703809319, 0.0066123569921588965, 0.5964792048201312, 1)\n",
      "running fold 0\n",
      "epoch: 0 learning rate: [0.05126334703809319]\n"
     ],
     "output_type": "stream"
    }
   ],
   "source": [
    "range_hd = (50,1500)\n",
    "range_nl = (1, 4)\n",
    "range_lr = (.1, .0001)\n",
    "range_mo = (0,1)\n",
    "range_dr = (.1,1)\n",
    "range_ep = (1,10)\n",
    "\n",
    "# run this instead for first time\n",
    "#results = []\n",
    "\n",
    "# cross validate search for hyper-parameters\n",
    "with open(OUT_FILE, 'rb') as fin:\n",
    "    results = pickle.load(fin)\n",
    "    \n",
    "for i in range(NUM_EXPERIMENTS):\n",
    "    hyperparams = get_random_params(range_hd, range_nl, range_lr, range_mo, range_dr, range_ep)\n",
    "    print('starting test', i,'params:', hyperparams)\n",
    "    mean_acc = cross_validate(400, *hyperparams, NPY_INPUT_DIR)\n",
    "    print('test outcome', mean_acc)\n",
    "    print('************************************************************')\n",
    "    results.append((mean_acc, hyperparams))\n",
    "    results = sorted(results, key=lambda x: x[0], reverse=True)\n",
    "    print('top so far')\n",
    "    print(results[:1])\n",
    "    print('************************************************************')\n",
    "    \n",
    "    # backup results\n",
    "    with open(OUT_FILE, 'wb') as fout:\n",
    "        pickle.dump(results, fout)\n",
    "\n"
   ],
   "metadata": {
    "collapsed": false,
    "pycharm": {
     "name": "#%%\n",
     "is_executing": true
    }
   }
  },
  {
   "cell_type": "code",
   "execution_count": null,
   "outputs": [],
   "source": [
    "results = sorted(results, key=lambda x: x[0], reverse=True)\n",
    "\n",
    "print(results[:3])\n",
    "\n",
    "\n",
    "# RUN THIS CELL AFTER YOU HAVE INTERUPTED OR FINISHED A SEARCH TO UPDATE!!!!!!\n",
    "\n",
    "with open(OUT_FILE, 'wb') as fout:\n",
    "    pickle.dump(results, fout)\n"
   ],
   "metadata": {
    "collapsed": false,
    "pycharm": {
     "name": "#%%\n",
     "is_executing": true
    }
   }
  }
 ],
 "metadata": {
  "kernelspec": {
   "display_name": "Python 3",
   "language": "python",
   "name": "python3"
  },
  "language_info": {
   "codemirror_mode": {
    "name": "ipython",
    "version": 2
   },
   "file_extension": ".py",
   "mimetype": "text/x-python",
   "name": "python",
   "nbconvert_exporter": "python",
   "pygments_lexer": "ipython2",
   "version": "2.7.6"
  },
  "pycharm": {
   "stem_cell": {
    "cell_type": "raw",
    "source": [],
    "metadata": {
     "collapsed": false
    }
   }
  }
 },
 "nbformat": 4,
 "nbformat_minor": 0
}