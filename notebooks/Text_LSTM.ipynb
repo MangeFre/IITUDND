{
 "cells": [
  {
   "cell_type": "code",
   "execution_count": null,
   "metadata": {},
   "outputs": [],
   "source": [
    "import pandas as pd\n",
    "import nltk\n",
    "import keras\n",
    "from keras import layers\n",
    "from keras import callbacks\n",
    "from sklearn.model_selection import train_test_split\n",
    "\n",
    "\n",
    "#TODO: Text cleaning\n",
    "# For this dummy script, the target label will just be 'target'\n",
    "tweets=[['text1', 'label1'], ['text2', 'label2']] # Import our labeled tweets here\n",
    "df = pd.DataFrame(tweets)\n",
    "\n",
    "for tweet in df[:, 0]: # Text column of the pd df\n",
    "    tweet = nltk.word_tokenize(tweet) # Tokenize each labeled tweet\n",
    "    # (in the sample script they just clean rather than tokenizing but I think it would be easier to tokenize)\n",
    "    tweet = ' '.join(tweet) # Convert the tokenized tweet back into a string (we can debate whether to do this)\n",
    "\n",
    "targets = pd.get_dummies(df['targets'].values) # Convert the labels into integers, if they aren't already integers\n",
    "\n",
    "#TODO: Split the data into train and test data\n",
    "X = [] # Extract the tweet text from the pd df (this is circular, we can amend)\n",
    "Y=[] # Extract the target values from the pd df\n",
    "X_train, X_test, Y_train, Y_test = train_test_split(X,Y, test_size = 0.10, random_state = 42)\n",
    "\n",
    "\n",
    "#TODO: Decide on MAX_NB_WORDS (the vocabulary size - most frequent words) and EMBEDDING_DIM (# layers)\n",
    "MAX_NB_WORDS = 50000\n",
    "EMBEDDING_DIM = 100\n",
    "\n",
    "\n",
    "#TODO: This is where the model begins:\n",
    "model = keras.Sequential()\n",
    "model.add(layers.Embedding(MAX_NB_WORDS, EMBEDDING_DIM, input_length=X.shape[1]))\n",
    "model.add(layers.SpatialDropout1D(0.2))\n",
    "model.add(layers.LSTM(100, dropout=0.2, recurrent_dropout=0.2))\n",
    "model.add(layers.Dense(13, activation='softmax'))\n",
    "model.compile(loss='categorical_crossentropy', optimizer='adam', metrics=['accuracy'])\n",
    "\n",
    "epochs = 5\n",
    "batch_size = 64\n",
    "\n",
    "history = model.fit(X_train, Y_train, epochs=epochs, batch_size=batch_size,\n",
    "                    validation_split=0.1,callbacks=[callbacks.EarlyStopping(monitor='val_loss', patience=3, min_delta=0.0001)])\n",
    "\n",
    "# Evaluate accuracy of the model\n",
    "accr = model.evaluate(X_test,Y_test)\n",
    "print('Test set\\n  Loss: {:0.3f}\\n  Accuracy: {:0.3f}'.format(accr[0],accr[1]))"
   ]
  }
 ],
 "metadata": {
  "kernelspec": {
   "display_name": "Python 3",
   "language": "python",
   "name": "python3"
  },
  "language_info": {
   "codemirror_mode": {
    "name": "ipython",
    "version": 3
   },
   "file_extension": ".py",
   "mimetype": "text/x-python",
   "name": "python",
   "nbconvert_exporter": "python",
   "pygments_lexer": "ipython3",
   "version": "3.6.7"
  }
 },
 "nbformat": 4,
 "nbformat_minor": 2
}
