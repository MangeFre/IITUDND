{
 "cells": [
  {
   "cell_type": "code",
   "execution_count": 38,
   "metadata": {
    "pycharm": {
     "is_executing": false,
     "name": "#%%\n"
    }
   },
   "outputs": [],
   "source": [
    "%reload_ext autoreload\n",
    "%autoreload 2\n",
    "from gensim.models import KeyedVectors\n",
    "from gensim.scripts.glove2word2vec import glove2word2vec\n",
    "from utilities import data_handler\n",
    "import numpy as np\n",
    "from sklearn.feature_extraction.stop_words import ENGLISH_STOP_WORDS\n",
    "from sklearn.feature_extraction.text import CountVectorizer # for tokenization only\n",
    "\n",
    "\n",
    "\n",
    "from sklearn.feature_extraction.text import TfidfVectorizer\n",
    "from sklearn.decomposition import TruncatedSVD"
   ]
  },
  {
   "cell_type": "markdown",
   "metadata": {},
   "source": [
    "# THE CELL BELLOW CONTAINS THE FILENAMES TO CHANGE"
   ]
  },
  {
   "cell_type": "code",
   "execution_count": 39,
   "metadata": {
    "pycharm": {
     "is_executing": false,
     "name": "#%%\n"
    }
   },
   "outputs": [],
   "source": [
    "IMAGE_FEAT_DIR = '/Users/ianmagnusson/IITUDND/data/extracted_features/resnet/maria/'\n",
    "UNLABLED_DATA = '/Users/ianmagnusson/IITUDND/data/retrieved_data/tweets/maria_extras.json'\n",
    "LABLED_DATA = '/Users/ianmagnusson/IITUDND/data/CrisisMMD_v1.0/json/hurricane_maria_final_data.json'\n",
    "CLASS_DATA = '/Users/ianmagnusson/IITUDND/data/CrisisMMD_v1.0/annotations/hurricane_maria_final_data.tsv'\n",
    "NPY_OUTPUT_DIR = '/Users/ianmagnusson/IITUDND/data/extracted_features/combined_NLP/maria/kfold/'"
   ]
  },
  {
   "cell_type": "markdown",
   "metadata": {
    "pycharm": {
     "name": "#%% md\n"
    }
   },
   "source": [
    "# get tweets from file and split into test/train"
   ]
  },
  {
   "cell_type": "code",
   "execution_count": 40,
   "metadata": {
    "pycharm": {
     "is_executing": false,
     "name": "#%%\n"
    }
   },
   "outputs": [
    {
     "traceback": [
      "\u001b[0;31m---------------------------------------------------------------------------\u001b[0m",
      "\u001b[0;31mFileNotFoundError\u001b[0m                         Traceback (most recent call last)",
      "\u001b[0;32m<ipython-input-40-11455ac9f36f>\u001b[0m in \u001b[0;36m<module>\u001b[0;34m\u001b[0m\n\u001b[0;32m----> 1\u001b[0;31m \u001b[0mdata\u001b[0m \u001b[0;34m=\u001b[0m \u001b[0mdata_handler\u001b[0m\u001b[0;34m.\u001b[0m\u001b[0mDataHandler\u001b[0m\u001b[0;34m(\u001b[0m\u001b[0mUNLABLED_DATA\u001b[0m\u001b[0;34m,\u001b[0m\u001b[0mLABLED_DATA\u001b[0m\u001b[0;34m,\u001b[0m\u001b[0mCLASS_DATA\u001b[0m\u001b[0;34m)\u001b[0m\u001b[0;34m\u001b[0m\u001b[0;34m\u001b[0m\u001b[0m\n\u001b[0m\u001b[1;32m      2\u001b[0m \u001b[0;34m\u001b[0m\u001b[0m\n\u001b[1;32m      3\u001b[0m \u001b[0m_\u001b[0m\u001b[0;34m,\u001b[0m \u001b[0mvalidation_sets\u001b[0m \u001b[0;34m=\u001b[0m \u001b[0mdata\u001b[0m\u001b[0;34m.\u001b[0m\u001b[0mget_k_fold_split\u001b[0m\u001b[0;34m(\u001b[0m\u001b[0;36m10\u001b[0m\u001b[0;34m)\u001b[0m\u001b[0;34m\u001b[0m\u001b[0;34m\u001b[0m\u001b[0m\n\u001b[1;32m      4\u001b[0m \u001b[0;34m\u001b[0m\u001b[0m\n\u001b[1;32m      5\u001b[0m  \u001b[0;31m#test_labeled, test_histories, test_histories_by_target, train_merged, train_classes, test_classes = data.get_train_test_split()\u001b[0m\u001b[0;34m\u001b[0m\u001b[0;34m\u001b[0m\u001b[0;34m\u001b[0m\u001b[0m\n",
      "\u001b[0;32m~/IITUDND/utilities/data_handler.py\u001b[0m in \u001b[0;36m__init__\u001b[0;34m(self, unlabeled_data_filename, labeled_data_filename, classifications_filename)\u001b[0m\n\u001b[1;32m     25\u001b[0m \u001b[0;34m\u001b[0m\u001b[0m\n\u001b[1;32m     26\u001b[0m         \u001b[0;31m# CHANGE FILEPATH — Read in the classifications of each tweet\u001b[0m\u001b[0;34m\u001b[0m\u001b[0;34m\u001b[0m\u001b[0;34m\u001b[0m\u001b[0m\n\u001b[0;32m---> 27\u001b[0;31m         \u001b[0;32mwith\u001b[0m \u001b[0mopen\u001b[0m\u001b[0;34m(\u001b[0m\u001b[0mclassifications_filename\u001b[0m\u001b[0;34m)\u001b[0m \u001b[0;32mas\u001b[0m \u001b[0mfin\u001b[0m\u001b[0;34m:\u001b[0m\u001b[0;34m\u001b[0m\u001b[0;34m\u001b[0m\u001b[0m\n\u001b[0m\u001b[1;32m     28\u001b[0m             \u001b[0mreader\u001b[0m \u001b[0;34m=\u001b[0m \u001b[0mcsv\u001b[0m\u001b[0;34m.\u001b[0m\u001b[0mDictReader\u001b[0m\u001b[0;34m(\u001b[0m\u001b[0mfin\u001b[0m\u001b[0;34m,\u001b[0m \u001b[0mdialect\u001b[0m\u001b[0;34m=\u001b[0m\u001b[0;34m'excel-tab'\u001b[0m\u001b[0;34m)\u001b[0m\u001b[0;34m\u001b[0m\u001b[0;34m\u001b[0m\u001b[0m\n\u001b[1;32m     29\u001b[0m             \u001b[0;32mfor\u001b[0m \u001b[0mline\u001b[0m \u001b[0;32min\u001b[0m \u001b[0mreader\u001b[0m\u001b[0;34m:\u001b[0m\u001b[0;34m\u001b[0m\u001b[0;34m\u001b[0m\u001b[0m\n",
      "\u001b[0;31mFileNotFoundError\u001b[0m: [Errno 2] No such file or directory: '/Users/ianmagnusson/IITUDND/data/CrisisMMD_v1.0/annotations/hurricane_maria_final_data.tsv'"
     ],
     "ename": "FileNotFoundError",
     "evalue": "[Errno 2] No such file or directory: '/Users/ianmagnusson/IITUDND/data/CrisisMMD_v1.0/annotations/hurricane_maria_final_data.tsv'",
     "output_type": "error"
    }
   ],
   "source": [
    "data = data_handler.DataHandler(UNLABLED_DATA,LABLED_DATA,CLASS_DATA)\n",
    "\n",
    "_, validation_sets = data.get_k_fold_split(10)\n",
    "\n",
    " #test_labeled, test_histories, test_histories_by_target, train_merged, train_classes, test_classes = data.get_train_test_split()\n"
   ]
  },
  {
   "cell_type": "code",
   "execution_count": null,
   "outputs": [],
   "source": [
    "# get img data; only enters overlapping img once\n",
    "labeled_npz = np.load(IMAGE_FEAT_DIR + 'labeled.npz')\n",
    "unlabeled_npz = np.load(IMAGE_FEAT_DIR + 'unlabeled.npz')\n",
    "\n",
    "image_features = {}\n",
    "for file in labeled_npz.files:\n",
    "    image_features[file] = labeled_npz[file]\n",
    "for file in unlabeled_npz.files:\n",
    "    parse = file.split('_')\n",
    "    file_edit = parse[0] + '_' + parse[2] # cut out username\n",
    "    image_features[file_edit] = unlabeled_npz[file]\n",
    "\n"
   ],
   "metadata": {
    "collapsed": false,
    "pycharm": {
     "name": "#%%\n",
     "is_executing": false
    }
   }
  },
  {
   "cell_type": "markdown",
   "metadata": {},
   "source": [
    "## Set up glove"
   ]
  },
  {
   "cell_type": "code",
   "execution_count": null,
   "metadata": {
    "pycharm": {
     "is_executing": false,
     "name": "#%%\n"
    }
   },
   "outputs": [],
   "source": [
    "conversion_file = '../models/gensim_glove.txt'\n",
    "# convert glove format to work with gensim. tutorial here https://radimrehurek.com/gensim/scripts/glove2word2vec.html\n",
    "# _ = glove2word2vec('/Users/ianmagnusson/IITUDND/models/glove.twitter.27B.200d.txt', conversion_file)"
   ]
  },
  {
   "cell_type": "code",
   "execution_count": null,
   "metadata": {
    "pycharm": {
     "is_executing": false,
     "name": "#%%\n"
    }
   },
   "outputs": [],
   "source": [
    "# load model, NOTE this is very slow!\n",
    "glove = KeyedVectors.load_word2vec_format(conversion_file)"
   ]
  },
  {
   "cell_type": "markdown",
   "metadata": {},
   "source": [
    "# Extract features\n"
   ]
  },
  {
   "cell_type": "code",
   "execution_count": null,
   "metadata": {
    "pycharm": {
     "is_executing": false,
     "name": "#%%\n"
    }
   },
   "outputs": [],
   "source": [
    "# CODE FOR EXTRACTIONS\n",
    "\n",
    "EMBED_DIM = 200\n",
    "\n",
    "def embed_tweets(tweet_jsons):\n",
    "    X_embedded = np.zeros((len(tweet_jsons),EMBED_DIM))\n",
    "    tokenizer = CountVectorizer().build_tokenizer()\n",
    "    for i, tweet_json in enumerate(tweet_jsons):\n",
    "        text = tweet_json['text'].lower()\n",
    "        tokens = [token for token in tokenizer(text) if token not in ENGLISH_STOP_WORDS]\n",
    "        num_in_vocab = 0\n",
    "        for token in tokens:\n",
    "            if token in glove:\n",
    "                X_embedded[i] += glove[token]\n",
    "                num_in_vocab += 1\n",
    "        X_embedded[i] = X_embedded[i] / num_in_vocab\n",
    "    return X_embedded\n",
    "\n",
    "def embed_histories(histories):\n",
    "    X_embedded = np.zeros((len(histories),EMBED_DIM))\n",
    "    tokenizer = CountVectorizer().build_tokenizer()\n",
    "    for i, history in enumerate(histories):\n",
    "        text = ' '.join([tweet_json['text'].lower() for tweet_json in history])\n",
    "        tokens = [token for token in tokenizer(text) if token not in ENGLISH_STOP_WORDS]\n",
    "        num_in_vocab = 0\n",
    "        for token in tokens:\n",
    "            if token in glove:\n",
    "                X_embedded[i] += glove[token]\n",
    "                num_in_vocab += 1\n",
    "        X_embedded[i] = X_embedded[i] / num_in_vocab\n",
    "    return X_embedded\n",
    "\n",
    "def proccess_seq(histories_by_target):\n",
    "    X_seq = [] # a list of 2d tensors of shape (len(seq), embed_dim)\n",
    "    for history in histories_by_target:\n",
    "        X_seq.append(embed_tweets(history))\n",
    "    \n",
    "    return X_seq\n",
    "\n",
    "SVD_COMPONENTS = 200\n",
    "IMG_SVD_COMPONENTS = 400\n",
    "\n",
    "def construct_vectorizer_and_SVD(merged):\n",
    "    allTweets = []\n",
    "    for i, tweet_json in enumerate(merged):\n",
    "        text = tweet_json['text'].lower()\n",
    "        allTweets.append(text)\n",
    "    vectorizer = TfidfVectorizer(stop_words='english')\n",
    "    tfidf_merged = vectorizer.fit_transform(allTweets)\n",
    "    svd = TruncatedSVD(n_components=SVD_COMPONENTS, n_iter=7, random_state=42)\n",
    "    svd.fit(tfidf_merged)\n",
    "    return vectorizer, svd\n",
    "\n",
    "\n",
    "def construct_image_svd(image_features, train_merged):\n",
    "    '''\n",
    "    Fits image SVD on all images from train_merged\n",
    "    '''\n",
    "    image_features_error = 0\n",
    "    lookup_error = 0\n",
    "    X_img_seq = [] # create n images by (SVD length) matrix - stores one vector per image\n",
    "    for tweet in train_merged: # specific tweet history for each item in merged\n",
    "        if 'extended_entities' in tweet.keys():\n",
    "            for i in range(len(tweet['extended_entities']['media'])):\n",
    "                imageID = (str(tweet['id']) +'_'+str(i)+'.jpg')\n",
    "                try:\n",
    "                    # Extract the image ID for each image, and look up the image_features corresponding vec\n",
    "                    X_img_seq.append(image_features[imageID])\n",
    "                except KeyError:\n",
    "                    image_features_error += 1          \n",
    "        else:\n",
    "            lookup_error += 1\n",
    "    print(X_img_seq[0])\n",
    "    print(image_features_error, \"cant-find-vector errors and \", lookup_error, \"lookup errors for extended entities\")\n",
    "    X_img_seq = np.stack(X_img_seq, axis=0)\n",
    "    print(\"Shape of SVD input:\", X_img_seq.shape)\n",
    "    svd = TruncatedSVD(n_components=IMG_SVD_COMPONENTS, n_iter=7, random_state=42)\n",
    "    svd.fit(X_img_seq)\n",
    "    return svd\n",
    "\n",
    "def vectorize_labeledimgs(ImgSVD, train_labeled, test_labeled):\n",
    "    train_svds = []\n",
    "    test_svds = []\n",
    "    noKeyMatch = 0\n",
    "    noEntities = 0\n",
    "    for tweet in train_labeled:\n",
    "        images = [] # Iterate through each image in each labeled tweet\n",
    "        if 'extended_entities' in tweet.keys():\n",
    "            count = 0\n",
    "            for j in range(len(tweet['extended_entities']['media'])):\n",
    "                try:\n",
    "                    images.append(image_features[str(tweet['id'])+'_'+str(count)+'.jpg'])\n",
    "                    count += 1\n",
    "                except KeyError:\n",
    "                    noKeyMatch += 1\n",
    "            # if images were found, aggregate into matrix and SVD it\n",
    "            if count > 0:\n",
    "                images = np.stack(images, axis=0) # stack img vectors into matrix\n",
    "                images = ImgSVD.transform(images) # transform img vectors\n",
    "                train_svds.append(images) # add img matrix to the target's hist list\n",
    "            else:\n",
    "                zeroArray = np.zeros(400)\n",
    "                zeroArray = zeroArray.reshape(1, -1)\n",
    "                train_svds.append([zeroArray])\n",
    "                \n",
    "                #train_svds.append([0] * 400) # otherwise, append an empty matrix to make sure order\n",
    "                # is preserved\n",
    "        else:\n",
    "            noEntities += 1\n",
    "            zeroArray = np.zeros(400)\n",
    "            zeroArray = zeroArray.reshape(1, -1)\n",
    "            train_svds.append([zeroArray])\n",
    "            #train_svds.append([0] * 400)\n",
    "    print(\"SVDs composed for labeled train tweets with\", noEntities, \"cases without images and\",\n",
    "          noKeyMatch, \"failed image matches\")\n",
    "    noKeyMatch = 0\n",
    "    noEntities = 0\n",
    "    for tweet in test_labeled:\n",
    "        images = [] # start list of images in the historic tweet\n",
    "        if 'extended_entities' in tweet.keys():\n",
    "            count = 0\n",
    "            for j in range(len(tweet['extended_entities']['media'])):\n",
    "                try:\n",
    "                    images.append(image_features[str(tweet['id'])+'_'+str(count)+'.jpg'])\n",
    "                    count += 1\n",
    "                except KeyError:\n",
    "                    noKeyMatch += 1\n",
    "            # If images were found, aggregate into SVD and append it\n",
    "            if count > 0:\n",
    "                images = np.stack(images, axis=0) # stack img vectors into matrix\n",
    "                images = ImgSVD.transform(images) # transform img vectors\n",
    "                test_svds.append(images) # add img matrix to the target's hist list\n",
    "            else:\n",
    "                zeroArray = np.zeros(400)\n",
    "                zeroArray = zeroArray.reshape(1, -1)\n",
    "                test_svds.append([zeroArray])\n",
    "                #test_svds.append([0] * 400) # append a null value to make sure values still align\n",
    "        else:\n",
    "            noEntities += 1\n",
    "            zeroArray = np.zeros(400)\n",
    "            zeroArray = zeroArray.reshape(1, -1)\n",
    "            test_svds.append([zeroArray])\n",
    "            # test_svds.append([0] * 400)\n",
    "    print(\"SVDs composed for labeled test tweets with\", noEntities, \"cases without images and\",\n",
    "          noKeyMatch, \"failed image matches\")\n",
    "    return train_svds, test_svds # Each returned array should be of same length as train/test.\n",
    "\n",
    "def vectorize_images(image_features, histories_by_target, ImgSVD):\n",
    "    lstmHistories = [] # first output: for the LSTMs\n",
    "    nMatrices = [] # second output: list of matrices of all images for each of n tweets\n",
    "    nVectors = [] # third output: matrix of average img vector for each of n tweets\n",
    "    noEntities = 0 \n",
    "    noKeyMatch = 0\n",
    "    for target in histories_by_target: # specific tweet history from keys:TweetID, vals=vectors\n",
    "        allTargetTweets = []\n",
    "        historyTweets = []\n",
    "        for historicTweet in target: # iterate through each tweet in history\n",
    "            historicTweetImages = [] # start list of images in the historic tweet\n",
    "            if 'extended_entities' in historicTweet.keys():\n",
    "                count = 0\n",
    "                for j in range(len(historicTweet['extended_entities']['media'])):\n",
    "                    try:\n",
    "                        # locate the feature vector for LSTM output\n",
    "                        historicTweetImages.append(image_features[str(historicTweet['id'])+'_'+str(count)+'.jpg'])\n",
    "                        # for MLP output\n",
    "                        allTargetTweets.append(image_features[str(historicTweet['id'])+'_'+str(count)+'.jpg'])\n",
    "                        count += 1\n",
    "                    except KeyError:\n",
    "                        noKeyMatch += 1\n",
    "                # if historic tweets were found, aggregate into matrix and SVD it\n",
    "                if count > 0:\n",
    "                    historicTweetImages = np.stack(historicTweetImages, axis=0) # stack img vectors into matrix\n",
    "                    historicTweetImages = ImgSVD.transform(historicTweetImages) # transform img vectors\n",
    "                    historyTweets.append(historicTweetImages) # add img matrix to the target's hist list\n",
    "            else:\n",
    "                noEntities += 1\n",
    "        if len(allTargetTweets) > 0: # see how many images you collected\n",
    "            \n",
    "            # extract mean img vector for that target\n",
    "            nVectors.append(np.mean(allTargetTweets, axis=0))\n",
    "            allTargetTweets = np.stack(allTargetTweets, axis=0)\n",
    "            allTargetTweets = ImgSVD.transform(allTargetTweets)\n",
    "            nMatrices.append(allTargetTweets)\n",
    "        else:\n",
    "            zeroArray = np.zeros(400)\n",
    "            zeroArray = zeroArray.reshape(1, -1)\n",
    "            nMatrices.append([zeroArray])\n",
    "            nVectors.append([0] * 2048)\n",
    "        if len(historyTweets) > 0:\n",
    "            lstmHistories.append(historyTweets)\n",
    "        else:\n",
    "            zeroArray = np.zeros(400)\n",
    "            zeroArray = zeroArray.reshape(1, -1)\n",
    "            lstmHistories.append([zeroArray])\n",
    "        \n",
    "    # stack up the mean image vectors\n",
    "    nVectors = np.stack(nVectors, axis=0)\n",
    "    nVectors = ImgSVD.transform(nVectors)\n",
    "    return lstmHistories, nMatrices, nVectors\n",
    "    # lstmHistories contains output for LSTM \n",
    "    # nMatrices contains: list of n matrices of (#imgs, 200) for each tweet in history\n",
    "    # nVectors: is one matrix with one row per target representing mean image vector\n",
    "\n",
    "\n",
    "def vectorize_histories(histories, vectorizer, svd):\n",
    "    rawHistories = [] # Will be in order\n",
    "    for i, history in enumerate(histories):\n",
    "        text = ' '.join([tweet_json['text'].lower() for tweet_json in history])\n",
    "        rawHistories.append(text)\n",
    "    histArr = vectorizer.transform(rawHistories)\n",
    "    histFeatureArr = svd.transform(histArr)\n",
    "    return histFeatureArr\n",
    "\n",
    "\n",
    "def vectorize_tweets(tweets, vectorizer, svd):\n",
    "    labeledTweets = []  # Will be in order\n",
    "    for i, tweet_json in enumerate(tweets):\n",
    "        text = tweet_json['text'].lower()\n",
    "        labeledTweets.append(text)\n",
    "    tweetArr = vectorizer.transform(labeledTweets)\n",
    "    tweetFeatureArr = svd.transform(tweetArr)\n",
    "    return tweetFeatureArr\n",
    "\n",
    "def proccess_seq_tfidf(histories_by_target, vectorizer, svd):\n",
    "    X_seq = [] # a list of 2d tensors of shape (len(seq), SVD_COMPONENTS)\n",
    "    for history in histories_by_target:\n",
    "        X_seq.append(vectorize_tweets(history, vectorizer, svd))\n",
    "    return X_seq"
   ]
  },
  {
   "cell_type": "code",
   "execution_count": null,
   "metadata": {
    "pycharm": {
     "is_executing": false,
     "name": "#%%\n"
    }
   },
   "outputs": [],
   "source": [
    "for i, val_set in enumerate(validation_sets):\n",
    "    print(i)\n",
    "    \n",
    "    out_dir = NPY_OUTPUT_DIR + str(i) + '/'\n",
    "    train_labeled, train_histories, train_histories_by_target, train_classes, train_merged = val_set[0]\n",
    "    test_labeled, test_histories, test_histories_by_target, test_classes, _ = val_set[1]\n",
    "    \n",
    "    \n",
    "    # New image methods\n",
    "    imageSVD = construct_image_svd(image_features, train_merged) # fit SVD on merged\n",
    "    trainMatrix_LSTM, trainMatrix_AllImgsMLP, trainMatrix_MeanImgMLP = vectorize_images(image_features, train_histories, imageSVD)  # Get image vectors for train\n",
    "    testMatrix_LSTM, testMatrix_AllImgsMLP, testMatrix_MeanImgMLP = vectorize_images(image_features, test_histories, imageSVD) # Get image vectors for test\n",
    "    \n",
    "    # get data\n",
    "    # classes:\n",
    "    y_train = np.array(train_classes)\n",
    "    y_test = np.array(test_classes)\n",
    "    \n",
    "    # glove baseline: \n",
    "    X_labeled_train = embed_tweets(train_labeled)\n",
    "    X_histories_train = embed_histories(train_histories)\n",
    "    X_labeled_test = embed_tweets(test_labeled)\n",
    "    X_histories_test = embed_histories(test_histories)\n",
    "    \n",
    "    # glove sequence features\n",
    "    X_seq_train = proccess_seq(train_histories_by_target)\n",
    "    X_seq_test = proccess_seq(test_histories_by_target)\n",
    "    \n",
    "    # tfidf baseline\n",
    "    vectorizer, svd = construct_vectorizer_and_SVD(train_merged)\n",
    "    trainHistories = vectorize_histories(train_histories, vectorizer, svd)\n",
    "    trainTweets = vectorize_tweets(train_labeled, vectorizer, svd)\n",
    "    testHistories = vectorize_histories(test_histories, vectorizer, svd)\n",
    "    testTweets = vectorize_tweets(test_labeled, vectorizer, svd)\n",
    "    \n",
    "    # tfidf sequence features\n",
    "    X_seq_tfidf_train = proccess_seq_tfidf(train_histories_by_target, vectorizer, svd)\n",
    "    X_seq_tfidf_test = proccess_seq_tfidf(test_histories_by_target, vectorizer, svd)\n",
    "    \n",
    "    \n",
    "    # save data\n",
    "    np.save(out_dir + 'y_train.npy', y_train)\n",
    "    np.save(out_dir + 'y_test.npy', y_test)\n",
    "    \n",
    "    np.save(out_dir + 'X_labeled_train.npy', X_labeled_train)\n",
    "    np.save(out_dir + 'X_histories_train.npy', X_histories_train)\n",
    "    np.save(out_dir + 'X_labeled_test.npy', X_labeled_test)\n",
    "    np.save(out_dir + 'X_histories_test.npy', X_histories_test)\n",
    "\n",
    "    np.savez(out_dir + 'X_seq_glove_train.npz', *X_seq_train)\n",
    "    np.savez(out_dir + 'X_seq_glove_test.npz', *X_seq_test)\n",
    "    \n",
    "    np.save(out_dir + 'trainHistories.npy', trainHistories)\n",
    "    np.save(out_dir + 'trainTweets.npy', trainTweets)\n",
    "    np.save(out_dir + 'testHistories.npy', testHistories)\n",
    "    np.save(out_dir + 'testTweets.npy', testTweets)\n",
    "    np.save(out_dir + 'trainClassifications.npy', train_classes)\n",
    "    np.save(out_dir + 'testClassifications.npy', test_classes)\n",
    "    \n",
    "    np.savez(out_dir + 'X_seq_tfidf_train.npz', *X_seq_tfidf_train)\n",
    "    np.savez(out_dir + 'X_seq_tfidf_test.npz', *X_seq_tfidf_test)\n",
    "    \n",
    "    np.savez(out_dir + 'images_lstm_train.npz', *trainMatrix_LSTM)\n",
    "    np.savez(out_dir + 'images_lstm_test.npz', *testMatrix_LSTM)\n",
    "    np.save(out_dir + 'images_matrixlists_train.npy', trainMatrix_AllImgsMLP)\n",
    "    np.save(out_dir + 'images_matrixlists_test.npy', testMatrix_AllImgsMLP)\n",
    "    np.savez(out_dir + 'images_meanvecs_train.npz', *trainMatrix_MeanImgMLP)\n",
    "    np.savez(out_dir + 'images_meanvecs_test.npz', *testMatrix_MeanImgMLP)\n",
    "\n",
    "\n",
    "\n",
    "\n"
   ]
  }
 ],
 "metadata": {
  "kernelspec": {
   "display_name": "Python 3",
   "language": "python",
   "name": "python3"
  },
  "language_info": {
   "codemirror_mode": {
    "name": "ipython",
    "version": 3
   },
   "file_extension": ".py",
   "mimetype": "text/x-python",
   "name": "python",
   "nbconvert_exporter": "python",
   "pygments_lexer": "ipython3",
   "version": "3.7.3"
  },
  "pycharm": {
   "stem_cell": {
    "cell_type": "raw",
    "source": [],
    "metadata": {
     "collapsed": false
    }
   }
  }
 },
 "nbformat": 4,
 "nbformat_minor": 1
}