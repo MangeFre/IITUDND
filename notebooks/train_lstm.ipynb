{
 "cells": [
  {
   "cell_type": "code",
   "execution_count": 1,
   "metadata": {
    "collapsed": true,
    "pycharm": {
     "is_executing": false
    }
   },
   "outputs": [],
   "source": [
    "%reload_ext autoreload\n",
    "%autoreload 2\n",
    "import numpy as np\n",
    "from models import lstm\n",
    "import torch"
   ]
  },
  {
   "cell_type": "code",
   "execution_count": 2,
   "outputs": [],
   "source": [
    "NPY_INPUT_DIR = '/Users/ianmagnusson/IITUDND/data/extracted_features/combined_NLP/harvey/'"
   ],
   "metadata": {
    "collapsed": false,
    "pycharm": {
     "name": "#%%\n",
     "is_executing": false
    }
   }
  },
  {
   "cell_type": "code",
   "execution_count": 3,
   "outputs": [],
   "source": [
    "X_seq_tfidf_train = np.load(NPY_INPUT_DIR + 'X_seq_tfidf_train.npz')\n",
    "X_seq_tfidf_test = np.load(NPY_INPUT_DIR + 'X_seq_tfidf_test.npz')\n",
    "\n",
    "\n",
    "X_seq_glove_train = np.load(NPY_INPUT_DIR + 'X_seq_glove_train.npz')\n",
    "X_seq_glove_test = np.load(NPY_INPUT_DIR + 'X_seq_glove_test.npz')\n",
    "\n",
    "y_train = torch.Tensor(np.load(NPY_INPUT_DIR + 'y_train.npy'))\n",
    "y_test = torch.Tensor(np.load(NPY_INPUT_DIR + 'y_test.npy'))"
   ],
   "metadata": {
    "collapsed": false,
    "pycharm": {
     "name": "#%%\n",
     "is_executing": false
    }
   }
  },
  {
   "cell_type": "code",
   "execution_count": 4,
   "outputs": [],
   "source": [
    "X_tfidf_train = [ torch.Tensor(X_seq_tfidf_train[file]) for file in X_seq_tfidf_train.files]\n",
    "X_tfidf_test = [ torch.Tensor(X_seq_tfidf_test[file]) for file in X_seq_tfidf_test.files]\n",
    "\n",
    "X_glove_train = [ torch.Tensor(X_seq_glove_train[file]) for file in X_seq_glove_train.files]\n",
    "X_glove_test = [ torch.Tensor(X_seq_glove_test[file]) for file in X_seq_glove_test.files]"
   ],
   "metadata": {
    "collapsed": false,
    "pycharm": {
     "name": "#%%\n",
     "is_executing": false
    }
   }
  },
  {
   "cell_type": "code",
   "execution_count": 5,
   "outputs": [],
   "source": [
    "X_train = []\n",
    "for i in range(len(y_train)):\n",
    "    file = X_seq_tfidf_train.files[i]\n",
    "    X_train.append(torch.Tensor(np.concatenate((X_seq_tfidf_train[file], X_seq_glove_train[file]), axis=1)))\n",
    "    \n",
    "X_test = []\n",
    "for i in range(len(y_test)):\n",
    "    file = X_seq_tfidf_test.files[i]\n",
    "    X_test.append(torch.Tensor(np.concatenate((X_seq_tfidf_test[file], X_seq_glove_test[file]), axis=1)))\n"
   ],
   "metadata": {
    "collapsed": false,
    "pycharm": {
     "name": "#%%\n",
     "is_executing": false
    }
   }
  },
  {
   "cell_type": "code",
   "execution_count": 6,
   "outputs": [
    {
     "name": "stdout",
     "text": [
      "epoch: 0 learning rate: [0.01]\n",
      "[1,   200] loss: 0.496\n",
      "[1,   400] loss: 0.533\n",
      "[1,   600] loss: 0.509\n",
      "[1,   800] loss: 0.553\n",
      "[1,  1000] loss: 0.440\n",
      "[1,  1200] loss: 0.483\n",
      "[1,  1400] loss: 0.442\n",
      "[1,  1600] loss: 0.456\n",
      "[1,  1800] loss: 0.472\n",
      "[1,  2000] loss: 0.395\n",
      "[1,  2200] loss: 0.464\n",
      "[1,  2400] loss: 0.436\n",
      "[1,  2600] loss: 0.472\n",
      "[1,  2800] loss: 0.308\n",
      "[1,  3000] loss: 0.411\n",
      "[1,  3200] loss: 0.396\nepoch: 1 learning rate: [0.005]\n",
      "[2,   200] loss: 0.435\n",
      "[2,   400] loss: 0.396\n",
      "[2,   600] loss: 0.288\n",
      "[2,   800] loss: 0.417\n",
      "[2,  1000] loss: 0.417\n",
      "[2,  1200] loss: 0.350\n",
      "[2,  1400] loss: 0.422\n",
      "[2,  1600] loss: 0.416\n",
      "[2,  1800] loss: 0.336\n",
      "[2,  2000] loss: 0.293\n",
      "[2,  2200] loss: 0.394\n",
      "[2,  2400] loss: 0.388\n",
      "[2,  2600] loss: 0.335\n",
      "[2,  2800] loss: 0.367\n",
      "[2,  3000] loss: 0.382\n",
      "[2,  3200] loss: 0.396\n"
     ],
     "output_type": "stream"
    }
   ],
   "source": [
    "model = lstm.LSTM(400, 400)\n",
    "\n",
    "model.learn(X_train, y_train)"
   ],
   "metadata": {
    "collapsed": false,
    "pycharm": {
     "name": "#%%\n",
     "is_executing": false
    }
   }
  },
  {
   "cell_type": "code",
   "execution_count": 7,
   "outputs": [
    {
     "data": {
      "text/plain": "0.83875"
     },
     "metadata": {},
     "output_type": "execute_result",
     "execution_count": 7
    }
   ],
   "source": [
    "model.get_accuracy(X_test, y_test)"
   ],
   "metadata": {
    "collapsed": false,
    "pycharm": {
     "name": "#%%\n",
     "is_executing": false
    }
   }
  },
  {
   "cell_type": "code",
   "execution_count": 8,
   "outputs": [
    {
     "data": {
      "text/plain": "\"\\nprint('here')\\ny_bootstrapped = []\\n       \\nwith torch.no_grad():\\n    for i, X_i in enumerate(X_train):\\n        if i % 200 == 199:\\n            print(i)\\n        predictions = torch.round(model(X_i)).reshape(-1)\\n        y_bootstrapped.append(predictions)\\n            \\n            '''\\n        y_bootstrapped.append(np.zeros(len(X_i), dtype=np.int_))\\n        for j in range(len(X_i)):\\n            outputs = model(X_i[:j + 1])\\n            predictions = torch.round(outputs).reshape(-1).item()\\n            y_bootstrapped[i][j] = int(predictions)\\n            '''\\n\""
     },
     "metadata": {},
     "output_type": "execute_result",
     "execution_count": 8
    }
   ],
   "source": [
    "\"\"\"\n",
    "print('here')\n",
    "y_bootstrapped = []\n",
    "       \n",
    "with torch.no_grad():\n",
    "    for i, X_i in enumerate(X_train):\n",
    "        if i % 200 == 199:\n",
    "            print(i)\n",
    "        predictions = torch.round(model(X_i)).reshape(-1)\n",
    "        y_bootstrapped.append(predictions)\n",
    "            \n",
    "            '''\n",
    "        y_bootstrapped.append(np.zeros(len(X_i), dtype=np.int_))\n",
    "        for j in range(len(X_i)):\n",
    "            outputs = model(X_i[:j + 1])\n",
    "            predictions = torch.round(outputs).reshape(-1).item()\n",
    "            y_bootstrapped[i][j] = int(predictions)\n",
    "            '''\n",
    "\"\"\""
   ],
   "metadata": {
    "collapsed": false,
    "pycharm": {
     "name": "#%%\n",
     "is_executing": false
    }
   }
  }
 ],
 "metadata": {
  "kernelspec": {
   "display_name": "Python 3",
   "language": "python",
   "name": "python3"
  },
  "language_info": {
   "codemirror_mode": {
    "name": "ipython",
    "version": 2
   },
   "file_extension": ".py",
   "mimetype": "text/x-python",
   "name": "python",
   "nbconvert_exporter": "python",
   "pygments_lexer": "ipython2",
   "version": "2.7.6"
  },
  "pycharm": {
   "stem_cell": {
    "cell_type": "raw",
    "source": [],
    "metadata": {
     "collapsed": false
    }
   }
  }
 },
 "nbformat": 4,
 "nbformat_minor": 0
}