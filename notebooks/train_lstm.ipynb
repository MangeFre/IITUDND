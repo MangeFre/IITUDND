{
 "cells": [
  {
   "cell_type": "code",
   "execution_count": 64,
   "metadata": {
    "collapsed": true,
    "pycharm": {
     "is_executing": false
    }
   },
   "outputs": [],
   "source": [
    "%reload_ext autoreload\n",
    "\n",
    "%autoreload 2\n",
    "import numpy as np\n",
    "from models import lstm\n",
    "import torch"
   ]
  },
  {
   "cell_type": "code",
   "execution_count": 65,
   "outputs": [],
   "source": [
    "# FILES TO CHANGE (This is where your sequence_nlp_harvey.zip etc is) \n",
    "\n",
    "NPY_INPUT_DIR = '/Users/ianmagnusson/IITUDND/data/extracted_features/combined_NLP/harvey/'"
   ],
   "metadata": {
    "collapsed": false,
    "pycharm": {
     "name": "#%%\n",
     "is_executing": false
    }
   }
  },
  {
   "cell_type": "code",
   "execution_count": 66,
   "outputs": [],
   "source": [
    "# load data from files\n",
    "\n",
    "X_seq_tfidf_train = np.load(NPY_INPUT_DIR + 'X_seq_tfidf_train.npz')\n",
    "X_seq_tfidf_test = np.load(NPY_INPUT_DIR + 'X_seq_tfidf_test.npz')\n",
    "\n",
    "\n",
    "X_seq_glove_train = np.load(NPY_INPUT_DIR + 'X_seq_glove_train.npz')\n",
    "X_seq_glove_test = np.load(NPY_INPUT_DIR + 'X_seq_glove_test.npz')\n",
    "\n",
    "y_train = torch.Tensor(np.load(NPY_INPUT_DIR + 'y_train.npy'))\n",
    "y_test = torch.Tensor(np.load(NPY_INPUT_DIR + 'y_test.npy'))"
   ],
   "metadata": {
    "collapsed": false,
    "pycharm": {
     "name": "#%%\n",
     "is_executing": false
    }
   }
  },
  {
   "cell_type": "code",
   "execution_count": 67,
   "outputs": [],
   "source": [
    "# format npz objects as lists of arrays again\n",
    "X_tfidf_train = [ torch.Tensor(X_seq_tfidf_train[file]) for file in X_seq_tfidf_train.files]\n",
    "X_tfidf_test = [ torch.Tensor(X_seq_tfidf_test[file]) for file in X_seq_tfidf_test.files]\n",
    "\n",
    "X_glove_train = [ torch.Tensor(X_seq_glove_train[file]) for file in X_seq_glove_train.files]\n",
    "X_glove_test = [ torch.Tensor(X_seq_glove_test[file]) for file in X_seq_glove_test.files]"
   ],
   "metadata": {
    "collapsed": false,
    "pycharm": {
     "name": "#%%\n",
     "is_executing": false
    }
   }
  },
  {
   "cell_type": "code",
   "execution_count": 68,
   "outputs": [],
   "source": [
    "# build lists with features concatenated\n",
    "\n",
    "from sklearn.preprocessing import StandardScaler\n",
    "\n",
    "X_raw_train = []\n",
    "for i in range(len(y_train)):\n",
    "    file = X_seq_tfidf_train.files[i]\n",
    "    X_raw_train.append(np.concatenate((X_seq_tfidf_train[file], X_seq_glove_train[file]), axis=1))\n",
    "\n",
    "scaler = StandardScaler()\n",
    "X_fit_train = np.concatenate(X_raw_train)\n",
    "scaler.fit(X_fit_train)\n",
    "\n",
    "X_train = [torch.Tensor(scaler.transform(X_i)) for X_i in X_raw_train]\n",
    "\n",
    "X_test = []\n",
    "for i in range(len(y_test)):\n",
    "    file = X_seq_tfidf_test.files[i]\n",
    "    X_test.append(torch.Tensor(scaler.transform(np.concatenate((X_seq_tfidf_test[file], X_seq_glove_test[file]), axis=1))))\n"
   ],
   "metadata": {
    "collapsed": false,
    "pycharm": {
     "name": "#%%\n",
     "is_executing": false
    }
   }
  },
  {
   "cell_type": "code",
   "execution_count": 69,
   "outputs": [
    {
     "data": {
      "text/plain": "<All keys matched successfully>"
     },
     "metadata": {},
     "output_type": "execute_result",
     "execution_count": 69
    }
   ],
   "source": [
    "# build and train model\n",
    "\n",
    "model = lstm.LSTM(input_dim=400, hidden_dim=128)\n",
    "\n",
    "#model.learn(X_train, y_train)\n",
    "#torch.save(model.state_dict(), 'norm_harvey_lstm.pt')\n",
    "\n",
    "model.load_state_dict(torch.load('norm_harvey_lstm.pt'))\n",
    "#model.eval()\n"
   ],
   "metadata": {
    "collapsed": false,
    "pycharm": {
     "name": "#%%\n",
     "is_executing": false
    }
   }
  },
  {
   "cell_type": "code",
   "execution_count": 70,
   "outputs": [
    {
     "data": {
      "text/plain": "0.83125"
     },
     "metadata": {},
     "output_type": "execute_result",
     "execution_count": 70
    }
   ],
   "source": [
    "# evaluate\n",
    "model.get_accuracy(X_test, y_test)"
   ],
   "metadata": {
    "collapsed": false,
    "pycharm": {
     "name": "#%%\n",
     "is_executing": false
    }
   }
  },
  {
   "cell_type": "code",
   "execution_count": 71,
   "outputs": [
    {
     "name": "stdout",
     "text": [
      "R2 score for bin 0 = 0.10645994832041361\nR2 score for bin 1 = -0.05428796223446075\nR2 score for bin 2 = 0.10904255319148937\nR2 score for bin 3 = 0.11551155115511558\nR2 score for bin 4 = -0.28352490421455956\nR2 score for bin 5 = 0.31948051948051936\nTrue proportion of + scores in bin 0 = 0.6766917293233082\nTrue proportion of + scores in bin 1 = 0.6940298507462687\nTrue proportion of + scores in bin 2 = 0.7014925373134329\nTrue proportion of + scores in bin 3 = 0.753731343283582\nTrue proportion of + scores in bin 4 = 0.8656716417910447\nTrue proportion of + scores in bin 5 = 0.8396946564885496\n"
     ],
     "output_type": "stream"
    },
    {
     "data": {
      "text/plain": "<Figure size 432x288 with 1 Axes>",
      "image/png": "[encoded data removed]"
     },
     "metadata": {
      "needs_background": "light"
     },
     "output_type": "display_data"
    },
    {
     "data": {
      "text/plain": "[0.8045112781954887,\n 0.7761194029850746,\n 0.8134328358208955,\n 0.835820895522388,\n 0.8507462686567164,\n 0.9083969465648855]"
     },
     "metadata": {},
     "output_type": "execute_result",
     "execution_count": 71
    }
   ],
   "source": [
    "model.get_accuracy_graph(X_test, y_test)"
   ],
   "metadata": {
    "collapsed": false,
    "pycharm": {
     "name": "#%%\n",
     "is_executing": false
    }
   }
  },
  {
   "cell_type": "code",
   "execution_count": 72,
   "outputs": [
    {
     "data": {
      "text/plain": "0.8288620083795109"
     },
     "metadata": {},
     "output_type": "execute_result",
     "execution_count": 72
    }
   ],
   "source": [
    "model.get_auc(X_test, y_test)\n"
   ],
   "metadata": {
    "collapsed": false,
    "pycharm": {
     "name": "#%%\n",
     "is_executing": false
    }
   }
  }
 ],
 "metadata": {
  "kernelspec": {
   "display_name": "Python 3",
   "language": "python",
   "name": "python3"
  },
  "language_info": {
   "codemirror_mode": {
    "name": "ipython",
    "version": 2
   },
   "file_extension": ".py",
   "mimetype": "text/x-python",
   "name": "python",
   "nbconvert_exporter": "python",
   "pygments_lexer": "ipython2",
   "version": "2.7.6"
  },
  "pycharm": {
   "stem_cell": {
    "cell_type": "raw",
    "source": [],
    "metadata": {
     "collapsed": false
    }
   }
  }
 },
 "nbformat": 4,
 "nbformat_minor": 0
}