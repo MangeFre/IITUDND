{
 "cells": [
  {
   "cell_type": "code",
   "execution_count": 4,
   "metadata": {
    "collapsed": true,
    "pycharm": {
     "is_executing": false
    }
   },
   "outputs": [],
   "source": [
    "import statistics\n",
    "from collections import defaultdict\n",
    "%reload_ext autoreload\n",
    "\n",
    "%autoreload 2\n",
    "import numpy as np\n",
    "from models import lstm\n",
    "import torch\n",
    "from collections import defaultdict\n",
    "import scipy.stats as st\n",
    "import matplotlib.pyplot as plt\n"
   ]
  },
  {
   "cell_type": "code",
   "execution_count": 2,
   "outputs": [],
   "source": [
    "# FILES TO CHANGE (This is where your sequence_nlp_harvey.zip etc is) \n",
    "\n",
    "NPY_INPUT_DIR = '/Users/ianmagnusson/IITUDND/data/extracted_features/combined_NLP/irma/'\n"
   ],
   "metadata": {
    "collapsed": false,
    "pycharm": {
     "name": "#%%\n",
     "is_executing": false
    }
   }
  },
  {
   "cell_type": "code",
   "execution_count": 15,
   "outputs": [],
   "source": [
    "def plot_cis(binNames, binRatios):\n",
    "    '''\n",
    "    Requires a list of group str outputs and bin ratios from get_accuracy_graph - one for each run\n",
    "    Collect results of both get_accuracy_plot return values -- names and binRatios-- in an array to run this.\n",
    "    '''\n",
    "    names = [bin[0] for bin in binNames] # Establish bin names for the x labels\n",
    "    binVals = defaultdict(list)\n",
    "    for run in range(len(binRatios)):\n",
    "        for bin in range(len(binRatios[run])):\n",
    "            binVals[bin+1].append(binRatios[run][bin]) # append the ratio (accuracy) of the bin to list\n",
    "    cis = []\n",
    "    means = []\n",
    "    keys = []\n",
    "    binLabels = [name for name in binNames[0][0]]\n",
    "    for bin in binVals: # Calculate mean and CI for each bin\n",
    "        keys.append(bin)\n",
    "        mean = np.mean(binVals[bin])\n",
    "        means.append(mean)\n",
    "        standard = statistics.stdev(binVals[bin])\n",
    "        cis.append(standard)\n",
    "    plt.figure()  # initiate accuracy plot\n",
    "    plt.plot(keys, means, label=\"Mean Accuracy by Bin\")  # plot accuracy by bin\n",
    "    plt.errorbar(keys, means, yerr=cis)\n",
    "    plt.xticks(keys, binLabels)\n",
    "    plt.suptitle('Test classification accuracy rate by user history length (CI .95)')\n",
    "    plt.xlabel('User history length (lowest to highest), sorted into bins (ascending order)')\n",
    "    plt.ylabel('Accuracy rate')\n",
    "    plt.show()\n",
    "    return\n",
    "\n"
   ],
   "metadata": {
    "collapsed": false,
    "pycharm": {
     "name": "#%%\n",
     "is_executing": false
    }
   }
  },
  {
   "cell_type": "code",
   "execution_count": 3,
   "outputs": [],
   "source": [
    "def test_100(X_train, y_train, X_test, y_test):\n",
    "    running_acc = 0.0\n",
    "    running_auc = 0.0\n",
    "    graph_results = []\n",
    "    bin_names = []\n",
    "    \n",
    "    \n",
    "    for i in range(100):\n",
    "        model = lstm.LSTM(input_dim = 400, hidden_dim = 135, num_layers = 1, bidirectional = True,\n",
    "                  learning_rate = 0.03151218903790648, momentum = 0.048646448029555533, decay_factor = 0.12137002758543824)\n",
    "        model.learn(X_train, y_train, epochs=2)\n",
    "        \n",
    "        # evaluate\n",
    "        running_acc += model.get_accuracy(torch.Tensor(X_test), torch.Tensor(y_test))\n",
    "        running_auc += model.get_auc(torch.Tensor(X_test), torch.Tensor(y_test))\n",
    "        bins, accRates = model.get_accuracy_graph(torch.Tensor(X_test), torch.Tensor(y_test))\n",
    "        bin_names.append(bins)\n",
    "        graph_results.append(accRates)\n",
    "    model.plot_CIs(bin_names, graph_results)\n",
    "    \n",
    "    return running_acc/100, running_auc/100"
   ],
   "metadata": {
    "collapsed": false,
    "pycharm": {
     "name": "#%%\n",
     "is_executing": false
    }
   }
  },
  {
   "cell_type": "code",
   "execution_count": 4,
   "outputs": [
    {
     "traceback": [
      "\u001b[0;31m---------------------------------------------------------------------------\u001b[0m",
      "\u001b[0;31mFileNotFoundError\u001b[0m                         Traceback (most recent call last)",
      "\u001b[0;32m<ipython-input-4-6fd89af148d5>\u001b[0m in \u001b[0;36m<module>\u001b[0;34m\u001b[0m\n\u001b[1;32m      1\u001b[0m \u001b[0;31m# load data from files\u001b[0m\u001b[0;34m\u001b[0m\u001b[0;34m\u001b[0m\u001b[0;34m\u001b[0m\u001b[0m\n\u001b[1;32m      2\u001b[0m \u001b[0;34m\u001b[0m\u001b[0m\n\u001b[0;32m----> 3\u001b[0;31m \u001b[0mX_seq_tfidf_train\u001b[0m \u001b[0;34m=\u001b[0m \u001b[0mnp\u001b[0m\u001b[0;34m.\u001b[0m\u001b[0mload\u001b[0m\u001b[0;34m(\u001b[0m\u001b[0mNPY_INPUT_DIR\u001b[0m \u001b[0;34m+\u001b[0m \u001b[0;34m'X_seq_tfidf_train.npz'\u001b[0m\u001b[0;34m)\u001b[0m\u001b[0;34m\u001b[0m\u001b[0;34m\u001b[0m\u001b[0m\n\u001b[0m\u001b[1;32m      4\u001b[0m \u001b[0mX_seq_tfidf_test\u001b[0m \u001b[0;34m=\u001b[0m \u001b[0mnp\u001b[0m\u001b[0;34m.\u001b[0m\u001b[0mload\u001b[0m\u001b[0;34m(\u001b[0m\u001b[0mNPY_INPUT_DIR\u001b[0m \u001b[0;34m+\u001b[0m \u001b[0;34m'X_seq_tfidf_test.npz'\u001b[0m\u001b[0;34m)\u001b[0m\u001b[0;34m\u001b[0m\u001b[0;34m\u001b[0m\u001b[0m\n\u001b[1;32m      5\u001b[0m \u001b[0;34m\u001b[0m\u001b[0m\n",
      "\u001b[0;32m/usr/local/lib/python3.7/site-packages/numpy/lib/npyio.py\u001b[0m in \u001b[0;36mload\u001b[0;34m(file, mmap_mode, allow_pickle, fix_imports, encoding)\u001b[0m\n\u001b[1;32m    426\u001b[0m         \u001b[0mown_fid\u001b[0m \u001b[0;34m=\u001b[0m \u001b[0;32mFalse\u001b[0m\u001b[0;34m\u001b[0m\u001b[0;34m\u001b[0m\u001b[0m\n\u001b[1;32m    427\u001b[0m     \u001b[0;32melse\u001b[0m\u001b[0;34m:\u001b[0m\u001b[0;34m\u001b[0m\u001b[0;34m\u001b[0m\u001b[0m\n\u001b[0;32m--> 428\u001b[0;31m         \u001b[0mfid\u001b[0m \u001b[0;34m=\u001b[0m \u001b[0mopen\u001b[0m\u001b[0;34m(\u001b[0m\u001b[0mos_fspath\u001b[0m\u001b[0;34m(\u001b[0m\u001b[0mfile\u001b[0m\u001b[0;34m)\u001b[0m\u001b[0;34m,\u001b[0m \u001b[0;34m\"rb\"\u001b[0m\u001b[0;34m)\u001b[0m\u001b[0;34m\u001b[0m\u001b[0;34m\u001b[0m\u001b[0m\n\u001b[0m\u001b[1;32m    429\u001b[0m         \u001b[0mown_fid\u001b[0m \u001b[0;34m=\u001b[0m \u001b[0;32mTrue\u001b[0m\u001b[0;34m\u001b[0m\u001b[0;34m\u001b[0m\u001b[0m\n\u001b[1;32m    430\u001b[0m \u001b[0;34m\u001b[0m\u001b[0m\n",
      "\u001b[0;31mFileNotFoundError\u001b[0m: [Errno 2] No such file or directory: '/Users/ianmagnusson/IITUDND/data/extracted_features/combined_NLP/irma/X_seq_tfidf_train.npz'"
     ],
     "ename": "FileNotFoundError",
     "evalue": "[Errno 2] No such file or directory: '/Users/ianmagnusson/IITUDND/data/extracted_features/combined_NLP/irma/X_seq_tfidf_train.npz'",
     "output_type": "error"
    }
   ],
   "source": [
    "# load data from files\n",
    "\n",
    "X_seq_tfidf_train = np.load(NPY_INPUT_DIR + 'X_seq_tfidf_train.npz')\n",
    "X_seq_tfidf_test = np.load(NPY_INPUT_DIR + 'X_seq_tfidf_test.npz')\n",
    "\n",
    "\n",
    "X_seq_glove_train = np.load(NPY_INPUT_DIR + 'X_seq_glove_train.npz')\n",
    "X_seq_glove_test = np.load(NPY_INPUT_DIR + 'X_seq_glove_test.npz')\n",
    "\n",
    "y_train = torch.Tensor(np.load(NPY_INPUT_DIR + 'y_train.npy'))\n",
    "y_test = torch.Tensor(np.load(NPY_INPUT_DIR + 'y_test.npy'))"
   ],
   "metadata": {
    "collapsed": false,
    "pycharm": {
     "name": "#%%\n",
     "is_executing": false
    }
   }
  },
  {
   "cell_type": "code",
   "execution_count": null,
   "outputs": [],
   "source": [
    "# format npz objects as lists of arrays again\n",
    "X_tfidf_train = [ torch.Tensor(X_seq_tfidf_train[file]) for file in X_seq_tfidf_train.files]\n",
    "X_tfidf_test = [ torch.Tensor(X_seq_tfidf_test[file]) for file in X_seq_tfidf_test.files]\n",
    "\n",
    "X_glove_train = [ torch.Tensor(X_seq_glove_train[file]) for file in X_seq_glove_train.files]\n",
    "X_glove_test = [ torch.Tensor(X_seq_glove_test[file]) for file in X_seq_glove_test.files]"
   ],
   "metadata": {
    "collapsed": false,
    "pycharm": {
     "name": "#%%\n",
     "is_executing": false
    }
   }
  },
  {
   "cell_type": "code",
   "execution_count": null,
   "outputs": [],
   "source": [
    "# build lists with features concatenated\n",
    "\n",
    "from sklearn.preprocessing import StandardScaler\n",
    "\n",
    "X_raw_train = []\n",
    "for i in range(len(y_train)):\n",
    "    file = X_seq_tfidf_train.files[i]\n",
    "    X_raw_train.append(np.concatenate((X_seq_tfidf_train[file], X_seq_glove_train[file]), axis=1))\n",
    "\n",
    "scaler = StandardScaler()\n",
    "X_fit_train = np.concatenate(X_raw_train)\n",
    "scaler.fit(X_fit_train)\n",
    "\n",
    "X_train = [torch.Tensor(scaler.transform(X_i)) for X_i in X_raw_train]\n",
    "\n",
    "X_test = []\n",
    "for i in range(len(y_test)):\n",
    "    file = X_seq_tfidf_test.files[i]\n",
    "    X_test.append(torch.Tensor(scaler.transform(np.concatenate((X_seq_tfidf_test[file], X_seq_glove_test[file]), axis=1))))\n"
   ],
   "metadata": {
    "collapsed": false,
    "pycharm": {
     "name": "#%%\n",
     "is_executing": false
    }
   }
  },
  {
   "cell_type": "code",
   "execution_count": null,
   "outputs": [],
   "source": [
    "%%capture\n",
    "# mutes output for this cell\n",
    "\n",
    "acc, auc = test_100(X_train,y_train,X_test,y_test)"
   ],
   "metadata": {
    "collapsed": false,
    "pycharm": {
     "name": "#%%\n",
     "is_executing": false
    }
   }
  },
  {
   "cell_type": "code",
   "execution_count": null,
   "outputs": [],
   "source": [
    "print(acc)\n",
    "print(auc)\n"
   ],
   "metadata": {
    "collapsed": false,
    "pycharm": {
     "name": "#%%\n",
     "is_executing": false
    }
   }
  },
  {
   "cell_type": "code",
   "execution_count": 16,
   "outputs": [
    {
     "data": {
      "text/plain": "<Figure size 432x288 with 1 Axes>",
      "image/png": "[encoded data removed]"
     },
     "metadata": {
      "needs_background": "light"
     },
     "output_type": "display_data"
    }
   ],
   "source": [
    "import pickle\n",
    "with open('/Users/chloelarkin/Desktop/bin_names.p', 'rb') as fin:\n",
    "    bin_names = pickle.load(fin)\n",
    "with open('/Users/chloelarkin/Desktop/graph_results.p', 'rb') as fin:\n",
    "    graph_results = pickle.load(fin)\n",
    "\n",
    "plot_cis(bin_names, graph_results)"
   ],
   "metadata": {
    "collapsed": false,
    "pycharm": {
     "name": "#%%\n",
     "is_executing": false
    }
   }
  }
 ],
 "metadata": {
  "kernelspec": {
   "display_name": "Python 3",
   "language": "python",
   "name": "python3"
  },
  "language_info": {
   "codemirror_mode": {
    "name": "ipython",
    "version": 2
   },
   "file_extension": ".py",
   "mimetype": "text/x-python",
   "name": "python",
   "nbconvert_exporter": "python",
   "pygments_lexer": "ipython2",
   "version": "2.7.6"
  },
  "pycharm": {
   "stem_cell": {
    "cell_type": "raw",
    "source": [],
    "metadata": {
     "collapsed": false
    }
   }
  }
 },
 "nbformat": 4,
 "nbformat_minor": 0
}