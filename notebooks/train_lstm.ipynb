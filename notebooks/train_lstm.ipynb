{
 "cells": [
  {
   "cell_type": "code",
   "execution_count": 1,
   "metadata": {
    "collapsed": true,
    "pycharm": {
     "is_executing": false
    }
   },
   "outputs": [],
   "source": [
    "%reload_ext autoreload\n",
    "\n",
    "%autoreload 2\n",
    "import numpy as np\n",
    "from models import lstm\n",
    "from models import stacked_lstm\n",
    "import torch"
   ]
  },
  {
   "cell_type": "code",
   "execution_count": 2,
   "outputs": [],
   "source": [
    "# FILES TO CHANGE (This is where your sequence_nlp_harvey.zip etc is) \n",
    "\n",
    "NPY_INPUT_DIR = '/Users/ianmagnusson/IITUDND/data/extracted_features/combined_NLP/harvey/'"
   ],
   "metadata": {
    "collapsed": false,
    "pycharm": {
     "name": "#%%\n",
     "is_executing": false
    }
   }
  },
  {
   "cell_type": "code",
   "execution_count": 3,
   "outputs": [],
   "source": [
    "# load data from files\n",
    "\n",
    "X_seq_tfidf_train = np.load(NPY_INPUT_DIR + 'X_seq_tfidf_train.npz')\n",
    "X_seq_tfidf_test = np.load(NPY_INPUT_DIR + 'X_seq_tfidf_test.npz')\n",
    "\n",
    "\n",
    "X_seq_glove_train = np.load(NPY_INPUT_DIR + 'X_seq_glove_train.npz')\n",
    "X_seq_glove_test = np.load(NPY_INPUT_DIR + 'X_seq_glove_test.npz')\n",
    "\n",
    "y_train = torch.Tensor(np.load(NPY_INPUT_DIR + 'y_train.npy'))\n",
    "y_test = torch.Tensor(np.load(NPY_INPUT_DIR + 'y_test.npy'))"
   ],
   "metadata": {
    "collapsed": false,
    "pycharm": {
     "name": "#%%\n",
     "is_executing": false
    }
   }
  },
  {
   "cell_type": "code",
   "execution_count": 4,
   "outputs": [],
   "source": [
    "# format npz objects as lists of arrays again\n",
    "X_tfidf_train = [ torch.Tensor(X_seq_tfidf_train[file]) for file in X_seq_tfidf_train.files]\n",
    "X_tfidf_test = [ torch.Tensor(X_seq_tfidf_test[file]) for file in X_seq_tfidf_test.files]\n",
    "\n",
    "X_glove_train = [ torch.Tensor(X_seq_glove_train[file]) for file in X_seq_glove_train.files]\n",
    "X_glove_test = [ torch.Tensor(X_seq_glove_test[file]) for file in X_seq_glove_test.files]"
   ],
   "metadata": {
    "collapsed": false,
    "pycharm": {
     "name": "#%%\n",
     "is_executing": false
    }
   }
  },
  {
   "cell_type": "code",
   "execution_count": 5,
   "outputs": [],
   "source": [
    "# build lists with features concatenated\n",
    "\n",
    "from sklearn.preprocessing import StandardScaler\n",
    "\n",
    "X_raw_train = []\n",
    "for i in range(len(y_train)):\n",
    "    file = X_seq_tfidf_train.files[i]\n",
    "    X_raw_train.append(np.concatenate((X_seq_tfidf_train[file], X_seq_glove_train[file]), axis=1))\n",
    "\n",
    "scaler = StandardScaler()\n",
    "X_fit_train = np.concatenate(X_raw_train)\n",
    "scaler.fit(X_fit_train)\n",
    "\n",
    "X_train = [torch.Tensor(scaler.transform(X_i)) for X_i in X_raw_train]\n",
    "\n",
    "X_test = []\n",
    "for i in range(len(y_test)):\n",
    "    file = X_seq_tfidf_test.files[i]\n",
    "    X_test.append(torch.Tensor(scaler.transform(np.concatenate((X_seq_tfidf_test[file], X_seq_glove_test[file]), axis=1))))\n"
   ],
   "metadata": {
    "collapsed": false,
    "pycharm": {
     "name": "#%%\n",
     "is_executing": false
    }
   }
  },
  {
   "cell_type": "code",
   "execution_count": 6,
   "outputs": [
    {
     "name": "stdout",
     "text": [
      "epoch: 0 learning rate: [0.01]\n",
      "[1,   200] loss: 0.502\n",
      "[1,   400] loss: 0.479\n",
      "[1,   600] loss: 0.380\n",
      "[1,   800] loss: 0.463\n",
      "[1,  1000] loss: 0.383\n",
      "[1,  1200] loss: 0.421\n",
      "[1,  1400] loss: 0.397\n",
      "[1,  1600] loss: 0.424\n",
      "[1,  1800] loss: 0.428\n",
      "[1,  2000] loss: 0.356\n",
      "[1,  2200] loss: 0.451\n",
      "[1,  2400] loss: 0.392\n",
      "[1,  2600] loss: 0.457\n",
      "[1,  2800] loss: 0.275\n",
      "[1,  3000] loss: 0.389\n",
      "[1,  3200] loss: 0.337\n",
      "epoch: 1 learning rate: [0.005]\n",
      "[2,   200] loss: 0.288\n",
      "[2,   400] loss: 0.285\n",
      "[2,   600] loss: 0.214\n",
      "[2,   800] loss: 0.274\n",
      "[2,  1000] loss: 0.300\n",
      "[2,  1200] loss: 0.250\n",
      "[2,  1400] loss: 0.271\n",
      "[2,  1600] loss: 0.290\n",
      "[2,  1800] loss: 0.281\n",
      "[2,  2000] loss: 0.196\n",
      "[2,  2200] loss: 0.245\n",
      "[2,  2400] loss: 0.280\n",
      "[2,  2600] loss: 0.246\n",
      "[2,  2800] loss: 0.283\n",
      "[2,  3000] loss: 0.274\n",
      "[2,  3200] loss: 0.315\n",
      "epoch: 2 learning rate: [0.0025]\n",
      "[3,   200] loss: 0.199\n",
      "[3,   400] loss: 0.174\n",
      "[3,   600] loss: 0.103\n",
      "[3,   800] loss: 0.115\n",
      "[3,  1000] loss: 0.131\n",
      "[3,  1200] loss: 0.162\n",
      "[3,  1400] loss: 0.165\n",
      "[3,  1600] loss: 0.118\n",
      "[3,  1800] loss: 0.152\n",
      "[3,  2000] loss: 0.168\n",
      "[3,  2200] loss: 0.093\n",
      "[3,  2400] loss: 0.116\n",
      "[3,  2600] loss: 0.124\n",
      "[3,  2800] loss: 0.107\n",
      "[3,  3000] loss: 0.091\n",
      "[3,  3200] loss: 0.211\n"
     ],
     "output_type": "stream"
    }
   ],
   "source": [
    "# build and train model\n",
    "\n",
    "model = lstm.LSTM(input_dim=400, hidden_dim=200, num_layers=2, bidirectional=True, learning_rate=0.01)\n",
    "\n",
    "model.learn(X_train, y_train)\n",
    "#torch.save(model.state_dict(), 'norm_harvey_lstm.pt')\n",
    "\n",
    "#model.load_state_dict(torch.load('norm_harvey_lstm.pt'))\n",
    "#model.eval()\n"
   ],
   "metadata": {
    "collapsed": false,
    "pycharm": {
     "name": "#%%\n",
     "is_executing": false
    }
   }
  },
  {
   "cell_type": "code",
   "execution_count": 7,
   "outputs": [
    {
     "data": {
      "text/plain": "0.83375"
     },
     "metadata": {},
     "output_type": "execute_result",
     "execution_count": 7
    }
   ],
   "source": [
    "# evaluate\n",
    "model.get_accuracy(X_test, y_test)"
   ],
   "metadata": {
    "collapsed": false,
    "pycharm": {
     "name": "#%%\n",
     "is_executing": false
    }
   }
  },
  {
   "cell_type": "code",
   "execution_count": 8,
   "outputs": [
    {
     "name": "stdout",
     "text": [
      "R2 score for bin 0 = 0.10645994832041361\n",
      "R2 score for bin 1 = 0.015997901914503232\n",
      "R2 score for bin 2 = -0.06914893617021267\n",
      "R2 score for bin 3 = 0.3165316531653166\n",
      "R2 score for bin 4 = -0.2193486590038316\n",
      "R2 score for bin 5 = 0.26277056277056265\n",
      "True proportion of + scores in bin 0 = 0.6766917293233082\n",
      "True proportion of + scores in bin 1 = 0.6940298507462687\n",
      "True proportion of + scores in bin 2 = 0.7014925373134329\n",
      "True proportion of + scores in bin 3 = 0.753731343283582\n",
      "True proportion of + scores in bin 4 = 0.8656716417910447\n",
      "True proportion of + scores in bin 5 = 0.8396946564885496\n"
     ],
     "output_type": "stream"
    },
    {
     "data": {
      "text/plain": "<Figure size 432x288 with 1 Axes>",
      "image/png": "[encoded data removed]"
     },
     "metadata": {
      "needs_background": "light"
     },
     "output_type": "display_data"
    },
    {
     "data": {
      "text/plain": "[0.8045112781954887,\n 0.7910447761194029,\n 0.7761194029850746,\n 0.8731343283582089,\n 0.8582089552238806,\n 0.9007633587786259]"
     },
     "metadata": {},
     "output_type": "execute_result",
     "execution_count": 8
    }
   ],
   "source": [
    "model.get_accuracy_graph(X_test, y_test)"
   ],
   "metadata": {
    "collapsed": false,
    "pycharm": {
     "name": "#%%\n",
     "is_executing": false
    }
   }
  },
  {
   "cell_type": "code",
   "execution_count": 9,
   "outputs": [
    {
     "data": {
      "text/plain": "0.8194857413163941"
     },
     "metadata": {},
     "output_type": "execute_result",
     "execution_count": 9
    }
   ],
   "source": [
    "model.get_auc(X_test, y_test)\n"
   ],
   "metadata": {
    "collapsed": false,
    "pycharm": {
     "name": "#%%\n",
     "is_executing": false
    }
   }
  }
 ],
 "metadata": {
  "kernelspec": {
   "display_name": "Python 3",
   "language": "python",
   "name": "python3"
  },
  "language_info": {
   "codemirror_mode": {
    "name": "ipython",
    "version": 2
   },
   "file_extension": ".py",
   "mimetype": "text/x-python",
   "name": "python",
   "nbconvert_exporter": "python",
   "pygments_lexer": "ipython2",
   "version": "2.7.6"
  },
  "pycharm": {
   "stem_cell": {
    "cell_type": "raw",
    "source": [],
    "metadata": {
     "collapsed": false
    }
   }
  }
 },
 "nbformat": 4,
 "nbformat_minor": 0
}