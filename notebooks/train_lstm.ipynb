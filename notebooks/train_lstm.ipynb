{
 "cells": [
  {
   "cell_type": "code",
   "execution_count": 1,
   "metadata": {
    "collapsed": true,
    "pycharm": {
     "is_executing": false
    }
   },
   "outputs": [],
   "source": [
    "%reload_ext autoreload\n",
    "%autoreload 2\n",
    "import numpy as np\n",
    "from models import lstm\n",
    "import torch"
   ]
  },
  {
   "cell_type": "code",
   "execution_count": 2,
   "outputs": [],
   "source": [
    "# FILES TO CHANGE (This is where your sequence_nlp_harvey.zip etc is) \n",
    "\n",
    "NPY_INPUT_DIR = '/Users/ianmagnusson/IITUDND/data/extracted_features/combined_NLP/harvey/'"
   ],
   "metadata": {
    "collapsed": false,
    "pycharm": {
     "name": "#%%\n",
     "is_executing": false
    }
   }
  },
  {
   "cell_type": "code",
   "execution_count": 3,
   "outputs": [],
   "source": [
    "# load data from files\n",
    "\n",
    "X_seq_tfidf_train = np.load(NPY_INPUT_DIR + 'X_seq_tfidf_train.npz')\n",
    "X_seq_tfidf_test = np.load(NPY_INPUT_DIR + 'X_seq_tfidf_test.npz')\n",
    "\n",
    "\n",
    "X_seq_glove_train = np.load(NPY_INPUT_DIR + 'X_seq_glove_train.npz')\n",
    "X_seq_glove_test = np.load(NPY_INPUT_DIR + 'X_seq_glove_test.npz')\n",
    "\n",
    "y_train = torch.Tensor(np.load(NPY_INPUT_DIR + 'y_train.npy'))\n",
    "y_test = torch.Tensor(np.load(NPY_INPUT_DIR + 'y_test.npy'))"
   ],
   "metadata": {
    "collapsed": false,
    "pycharm": {
     "name": "#%%\n",
     "is_executing": false
    }
   }
  },
  {
   "cell_type": "code",
   "execution_count": 4,
   "outputs": [],
   "source": [
    "# format npz objects as lists of arrays again\n",
    "X_tfidf_train = [ torch.Tensor(X_seq_tfidf_train[file]) for file in X_seq_tfidf_train.files]\n",
    "X_tfidf_test = [ torch.Tensor(X_seq_tfidf_test[file]) for file in X_seq_tfidf_test.files]\n",
    "\n",
    "X_glove_train = [ torch.Tensor(X_seq_glove_train[file]) for file in X_seq_glove_train.files]\n",
    "X_glove_test = [ torch.Tensor(X_seq_glove_test[file]) for file in X_seq_glove_test.files]"
   ],
   "metadata": {
    "collapsed": false,
    "pycharm": {
     "name": "#%%\n",
     "is_executing": false
    }
   }
  },
  {
   "cell_type": "code",
   "execution_count": 5,
   "outputs": [],
   "source": [
    "# build lists with features concatenated\n",
    "\n",
    "X_train = []\n",
    "for i in range(len(y_train)):\n",
    "    file = X_seq_tfidf_train.files[i]\n",
    "    X_train.append(torch.Tensor(np.concatenate((X_seq_tfidf_train[file], X_seq_glove_train[file]), axis=1)))\n",
    "    \n",
    "X_test = []\n",
    "for i in range(len(y_test)):\n",
    "    file = X_seq_tfidf_test.files[i]\n",
    "    X_test.append(torch.Tensor(np.concatenate((X_seq_tfidf_test[file], X_seq_glove_test[file]), axis=1)))\n"
   ],
   "metadata": {
    "collapsed": false,
    "pycharm": {
     "name": "#%%\n",
     "is_executing": false
    }
   }
  },
  {
   "cell_type": "code",
   "execution_count": 6,
   "outputs": [
    {
     "name": "stdout",
     "text": [
      "epoch: 0 learning rate: [0.01]\n",
      "[1,   200] loss: 0.495\n",
      "[1,   400] loss: 0.533\n",
      "[1,   600] loss: 0.511\n",
      "[1,   800] loss: 0.554\n",
      "[1,  1000] loss: 0.442\n",
      "[1,  1200] loss: 0.484\n",
      "[1,  1400] loss: 0.441\n",
      "[1,  1600] loss: 0.458\n",
      "[1,  1800] loss: 0.471\n",
      "[1,  2000] loss: 0.395\n",
      "[1,  2200] loss: 0.463\n",
      "[1,  2400] loss: 0.436\n",
      "[1,  2600] loss: 0.473\n",
      "[1,  2800] loss: 0.308\n",
      "[1,  3000] loss: 0.413\n",
      "[1,  3200] loss: 0.397\nepoch: 1 learning rate: [0.005]\n",
      "[2,   200] loss: 0.436\n",
      "[2,   400] loss: 0.396\n",
      "[2,   600] loss: 0.287\n",
      "[2,   800] loss: 0.417\n",
      "[2,  1000] loss: 0.416\n",
      "[2,  1200] loss: 0.351\n",
      "[2,  1400] loss: 0.421\n",
      "[2,  1600] loss: 0.417\n",
      "[2,  1800] loss: 0.337\n",
      "[2,  2000] loss: 0.292\n",
      "[2,  2200] loss: 0.394\n",
      "[2,  2400] loss: 0.387\n",
      "[2,  2600] loss: 0.336\n",
      "[2,  2800] loss: 0.368\n",
      "[2,  3000] loss: 0.383\n",
      "[2,  3200] loss: 0.397\n"
     ],
     "output_type": "stream"
    }
   ],
   "source": [
    "# build and train model\n",
    "\n",
    "model = lstm.LSTM(input_dim=400, hidden_dim=400)\n",
    "\n",
    "#model.learn(X_train, y_train)\n",
    "#torch.save(model.state_dict(), 'lstm.pt')\n",
    "\n",
    "model.load_state_dict(torch.load('lstm.pt'))\n",
    "model.eval()\n"
   ],
   "metadata": {
    "collapsed": false,
    "pycharm": {
     "name": "#%%\n",
     "is_executing": false
    }
   }
  },
  {
   "cell_type": "code",
   "execution_count": 11,
   "outputs": [
    {
     "data": {
      "text/plain": "0.8375"
     },
     "metadata": {},
     "output_type": "execute_result",
     "execution_count": 11
    }
   ],
   "source": [
    "# evaluate\n",
    "model.get_accuracy(X_test, y_test)\n",
    "\n",
    "model.get_accuracy_graph(X_test, y_test)\n"
   ],
   "metadata": {
    "collapsed": false,
    "pycharm": {
     "name": "#%%\n",
     "is_executing": false
    }
   }
  },
  {
   "cell_type": "code",
   "execution_count": null,
   "outputs": [],
   "source": [
    "\"\"\"\n",
    "print('here')\n",
    "y_bootstrapped = []\n",
    "       \n",
    "with torch.no_grad():\n",
    "    for i, X_i in enumerate(X_train):\n",
    "        if i % 200 == 199:\n",
    "            print(i)\n",
    "        predictions = torch.round(model(X_i)).reshape(-1)\n",
    "        y_bootstrapped.append(predictions)\n",
    "            \n",
    "            '''\n",
    "        y_bootstrapped.append(np.zeros(len(X_i), dtype=np.int_))\n",
    "        for j in range(len(X_i)):\n",
    "            outputs = model(X_i[:j + 1])\n",
    "            predictions = torch.round(outputs).reshape(-1).item()\n",
    "            y_bootstrapped[i][j] = int(predictions)\n",
    "            '''\n",
    "\"\"\""
   ],
   "metadata": {
    "collapsed": false,
    "pycharm": {
     "name": "#%%\n",
     "is_executing": false
    }
   }
  }
 ],
 "metadata": {
  "kernelspec": {
   "display_name": "Python 3",
   "language": "python",
   "name": "python3"
  },
  "language_info": {
   "codemirror_mode": {
    "name": "ipython",
    "version": 2
   },
   "file_extension": ".py",
   "mimetype": "text/x-python",
   "name": "python",
   "nbconvert_exporter": "python",
   "pygments_lexer": "ipython2",
   "version": "2.7.6"
  },
  "pycharm": {
   "stem_cell": {
    "cell_type": "raw",
    "source": [],
    "metadata": {
     "collapsed": false
    }
   }
  }
 },
 "nbformat": 4,
 "nbformat_minor": 0
}