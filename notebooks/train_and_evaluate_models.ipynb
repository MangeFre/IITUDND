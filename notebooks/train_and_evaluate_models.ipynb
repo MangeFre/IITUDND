{
 "cells": [
  {
   "cell_type": "code",
   "execution_count": 1,
   "outputs": [],
   "source": [
    "import numpy as np\n",
    "from models import lstm\n",
    "from models.NLP_only_models import lstm as lstm_nlp\n",
    "import torch\n",
    "from sklearn.preprocessing import StandardScaler\n",
    "\n",
    "from utilities import eval_tools\n",
    "\n",
    "from models import baseline_mlp\n"
   ],
   "metadata": {
    "collapsed": false,
    "pycharm": {
     "name": "#%%\n",
     "is_executing": false
    }
   }
  },
  {
   "cell_type": "code",
   "execution_count": 2,
   "metadata": {
    "pycharm": {
     "is_executing": false,
     "name": "#%%\n"
    }
   },
   "outputs": [],
   "source": [
    "# Change constants to set hyperparameters and data sources\n",
    "NPY_INPUT_DIR = '../data/extracted_features/combined_ML/maria/'\n",
    "NPY_OUTPUT_DIR = '../data/results/maria/'\n",
    "\n",
    "NUM_TESTS = 25\n",
    "\n",
    "multimodal_lstm_hyperparams = {'hidden_dim' : 234,\n",
    "                                 'img_hidden_dim' : 175,\n",
    "                                 'num_layers' : 2,\n",
    "                                 'bidirectional' : True,\n",
    "                                 'learning_rate' : 0.01418295487782988,\n",
    "                                 'decay_factor' : 0.17451446516351246,\n",
    "                                 'epochs': 4}\n",
    "\n",
    "multimodal_mlp_hist_hyperparams = {'hidden_dim' : 241,\n",
    "                                 'num_layers' : 2,\n",
    "                                 'activation_function' : torch.relu,\n",
    "                                 'learning_rate' : 0.009526187612921844,\n",
    "                                 'decay_factor' : 0.15806602575114242,\n",
    "                                 'epochs': 3}\n",
    "\n",
    "multimodal_mlp_no_hist_hyperparams = {'hidden_dim' : 210,\n",
    "                                 'num_layers' : 1,\n",
    "                                 'activation_function' : torch.sigmoid,\n",
    "                                 'learning_rate' : 0.011475172596199481,\n",
    "                                 'decay_factor' : 0.3837225134241784,\n",
    "                                 'epochs': 4}\n",
    "\n",
    "nlp_lstm_hyperparams = {'hidden_dim' : 183,\n",
    "                         'num_layers' : 1,\n",
    "                         'bidirectional' : False,\n",
    "                         'learning_rate' : 0.011095843396210794,\n",
    "                         'momentum' : 0.488375994822428,\n",
    "                         'decay_factor' : 0.18991100364301827,\n",
    "                         'epochs': 4}\n",
    "\n",
    "\n",
    "nlp_mlp_hist_hyperparams = {'hidden_dim' : 364,\n",
    "                                 'num_layers' : 1,\n",
    "                                 'activation_function' : torch.relu,\n",
    "                                 'learning_rate' : 0.015103711963967328,\n",
    "                                 'momentum' : 0.2094525986367598,\n",
    "                                 'decay_factor' : 0.3093059390000923,\n",
    "                                 'epochs': 2}\n",
    "\n",
    "nlp_mlp_no_hist_hyperparams = {'hidden_dim' : 197,\n",
    "                                 'num_layers' : 2,\n",
    "                                 'activation_function' : torch.relu,\n",
    "                                 'learning_rate' : 0.030727178086089976,\n",
    "                                 'momentum' : 0.5314758594296131,\n",
    "                                 'decay_factor' : 0.7632100704986595,\n",
    "                                 'epochs': 2}"
   ]
  },
  {
   "cell_type": "markdown",
   "metadata": {
    "pycharm": {
     "name": "#%% md\n"
    }
   },
   "source": [
    "# Multimodal LSTM -------------------------------------------------------------------*"
   ]
  },
  {
   "cell_type": "code",
   "execution_count": 3,
   "metadata": {
    "pycharm": {
     "is_executing": false,
     "name": "#%%\n"
    }
   },
   "outputs": [],
   "source": [
    "\n",
    "def run_tests(outfile, training_data, test_data, hist_len_data, hyperparams, is_lstm, is_multimodal = True):\n",
    "    running_acc = 0.0\n",
    "    running_auc = 0.0\n",
    "    running_f1 = 0.0\n",
    "    running_precision = 0.0\n",
    "    running_recall = 0.0\n",
    "    graph_results = []\n",
    "    bin_names = []\n",
    "    priors_list = []\n",
    "    all_results = []\n",
    "    \n",
    "    # epochs is used in learn method, while the rest go to the constructor\n",
    "    epochs = hyperparams['epochs']\n",
    "    del hyperparams['epochs']\n",
    "    \n",
    "    if not is_multimodal or not is_lstm:\n",
    "        training_data = [training_data[0], training_data[2]] # remove images\n",
    "\n",
    "    for i in range(NUM_TESTS):\n",
    "        print('Strating *************************************************', i)\n",
    "        # build correct model\n",
    "        if is_lstm:\n",
    "            if is_multimodal:\n",
    "                model = lstm.LSTM(input_dim = 400, **hyperparams)\n",
    "            else:\n",
    "                model = lstm_nlp.LSTM(input_dim = 400, **hyperparams)\n",
    "        else:\n",
    "            model = baseline_mlp.MLP(training_data[0].shape[1], **hyperparams)\n",
    "    \n",
    "        # train\n",
    "        model.learn(*training_data, epochs=epochs)\n",
    "        \n",
    "        # evaluate\n",
    "        acc, auc, precision, recall, f1 = eval_tools.get_acc_auc_pre_re_f1(model, *test_data, is_lstm, is_multimodal)\n",
    "        running_acc += acc\n",
    "        running_auc += auc\n",
    "        running_f1 += f1\n",
    "        running_precision += precision\n",
    "        running_recall += recall\n",
    "        all_results.append([acc, auc, f1, precision, recall])\n",
    "        bins, accRates, priors = eval_tools.get_accuracy_graph(model, *test_data, *hist_len_data, is_lstm, is_multimodal)\n",
    "        bin_names.append(bins)\n",
    "        graph_results.append(accRates)\n",
    "        priors_list.append(priors)\n",
    "    \n",
    "    results = np.vstack(all_results)\n",
    "    np.save(NPY_OUTPUT_DIR + outfile, results)\n",
    "    \n",
    "    return running_acc/NUM_TESTS, running_auc/NUM_TESTS, running_f1/NUM_TESTS, \\\n",
    "           running_precision/NUM_TESTS, running_recall/NUM_TESTS, \\\n",
    "           bin_names, graph_results, priors_list\n"
   ]
  },
  {
   "cell_type": "code",
   "execution_count": 4,
   "metadata": {
    "pycharm": {
     "name": "#%%\n",
     "is_executing": false
    }
   },
   "outputs": [],
   "source": [
    "# load data from files\n",
    "X_seq_img_train = np.load(NPY_INPUT_DIR + 'images_lstm_train.npz', allow_pickle=True)\n",
    "X_seq_img_test = np.load(NPY_INPUT_DIR + 'images_lstm_test.npz', allow_pickle=True)\n",
    "\n",
    "X_seq_tfidf_train = np.load(NPY_INPUT_DIR + 'X_seq_tfidf_train.npz')\n",
    "X_seq_tfidf_test = np.load(NPY_INPUT_DIR + 'X_seq_tfidf_test.npz')\n",
    "\n",
    "\n",
    "X_seq_glove_train = np.load(NPY_INPUT_DIR + 'X_seq_glove_train.npz')\n",
    "X_seq_glove_test = np.load(NPY_INPUT_DIR + 'X_seq_glove_test.npz')\n",
    "\n",
    "y_train = torch.Tensor(np.load(NPY_INPUT_DIR + 'y_train.npy'))\n",
    "y_test = torch.Tensor(np.load(NPY_INPUT_DIR + 'y_test.npy'))\n",
    "\n",
    "\n",
    "# build lists with features concatenated\n",
    "# img feat\n",
    "X_raw_img_train = []\n",
    "for i in range(len(y_train)):\n",
    "    file = X_seq_img_train.files[i]\n",
    "    hist = X_seq_img_train[file] # an array of objects with each object being a 2d matrix of all img in a tweet\n",
    "    for j in range(hist.shape[0]): # for each tweet in sequence\n",
    "        X_raw_img_train.append(hist[j])\n",
    "\n",
    "img_scaler = StandardScaler()\n",
    "X_img_fit_train = np.concatenate(X_raw_img_train) # a stack of all image feat\n",
    "img_scaler.fit(X_img_fit_train)\n",
    "\n",
    "# now build list of list of normalized 2d matricies representing all img in a tweet\n",
    "X_img_train = []\n",
    "for i in range(len(y_train)):\n",
    "    X_i_img = []\n",
    "    file = X_seq_img_train.files[i]\n",
    "    hist = X_seq_img_train[file] # an array of objects with each object being a 2d matrix of all img in a tweet\n",
    "    for j in range(hist.shape[0]): # for each tweet in sequence\n",
    "        X_i_img.append(torch.Tensor(img_scaler.transform(hist[j])))\n",
    "    X_img_train.append(X_i_img)\n",
    "    \n",
    "X_img_test = []\n",
    "for i in range(len(y_test)):\n",
    "    X_i_img = []\n",
    "    file = X_seq_img_test.files[i]\n",
    "    hist = X_seq_img_test[file] # an array of objects with each object being a 2d matrix of all img in a tweet\n",
    "    for j in range(hist.shape[0]): # for each tweet in sequence\n",
    "        X_i_img.append(torch.Tensor(img_scaler.transform(hist[j])))\n",
    "    X_img_test.append(X_i_img)\n",
    "\n",
    "# lang feat\n",
    "X_raw_train = []\n",
    "for i in range(len(y_train)):\n",
    "    file = X_seq_tfidf_train.files[i]\n",
    "    X_raw_train.append(np.concatenate((X_seq_tfidf_train[file], X_seq_glove_train[file]), axis=1))\n",
    "\n",
    "scaler = StandardScaler()\n",
    "X_fit_train = np.concatenate(X_raw_train)\n",
    "scaler.fit(X_fit_train)\n",
    "\n",
    "X_train = [torch.Tensor(scaler.transform(X_i)) for X_i in X_raw_train]\n",
    "\n",
    "X_test = []\n",
    "for i in range(len(y_test)):\n",
    "    file = X_seq_tfidf_test.files[i]\n",
    "    X_test.append(torch.Tensor(scaler.transform(np.concatenate((X_seq_tfidf_test[file], X_seq_glove_test[file]), axis=1))))\n",
    "\n",
    "training_data = [X_train, X_img_train, y_train]\n",
    "test_data = [X_test, X_img_test, y_test]\n",
    "hist_len_data = [None, y_train.numpy()] # None for argument order padding\n",
    "outfile = 'multimodal_lstm_results.npy'"
   ]
  },
  {
   "cell_type": "code",
   "execution_count": 5,
   "metadata": {
    "pycharm": {
     "is_executing": false,
     "name": "#%%\n"
    }
   },
   "outputs": [],
   "source": [
    "%%capture\n",
    "acc, auc, f1, precision,\\\n",
    "recall, bin_names, graph_results, priors_list = run_tests(outfile, training_data, test_data,\n",
    "                                                          hist_len_data, multimodal_lstm_hyperparams,\n",
    "                                                          is_lstm = True, is_multimodal = True)"
   ]
  },
  {
   "cell_type": "code",
   "execution_count": 6,
   "metadata": {
    "pycharm": {
     "is_executing": false,
     "name": "#%%\n"
    }
   },
   "outputs": [
    {
     "name": "stdout",
     "text": [
      "Acc: 0.8089388264669164\n",
      "AUC: 0.8492846189954623\n",
      "F1: 0.8739476077250972\n",
      "Precision: 0.8380238107281502\n",
      "Recall: 0.9131153184165232\n"
     ],
     "output_type": "stream"
    },
    {
     "data": {
      "text/plain": "<Figure size 432x288 with 1 Axes>",
      "image/png": "[encoded data removed]"
     },
     "metadata": {
      "needs_background": "light"
     },
     "output_type": "display_data"
    }
   ],
   "source": [
    "print(\"Acc:\", acc)\n",
    "print(\"AUC:\", auc)\n",
    "print(\"F1:\", f1)\n",
    "print(\"Precision:\", precision)\n",
    "print(\"Recall:\", recall)\n",
    "eval_tools.plot_cis(bin_names, graph_results, priors_list)"
   ]
  },
  {
   "cell_type": "markdown",
   "source": [
    "# NLP only LSTM\n"
   ],
   "metadata": {
    "collapsed": false,
    "pycharm": {
     "name": "#%% md\n"
    }
   }
  },
  {
   "cell_type": "code",
   "execution_count": 7,
   "outputs": [],
   "source": [
    "%%capture\n",
    "outfile = 'nlp_only_lstm_results.npy'\n",
    "\n",
    "acc, auc, f1, precision,\\\n",
    "recall, bin_names, graph_results, priors_list = run_tests(outfile, training_data, test_data,\n",
    "                                                          hist_len_data, nlp_lstm_hyperparams,\n",
    "                                                          is_lstm = True, is_multimodal = False)"
   ],
   "metadata": {
    "collapsed": false,
    "pycharm": {
     "name": "#%%\n",
     "is_executing": false
    }
   }
  },
  {
   "cell_type": "code",
   "execution_count": 8,
   "outputs": [
    {
     "name": "stdout",
     "text": [
      "Acc: 0.7916604244694132\n",
      "AUC: 0.8327529338131748\n",
      "F1: 0.8636522423611701\n",
      "Precision: 0.8220752303733928\n",
      "Recall: 0.9096729776247847\n"
     ],
     "output_type": "stream"
    },
    {
     "data": {
      "text/plain": "<Figure size 432x288 with 1 Axes>",
      "image/png": "[encoded data removed]"
     },
     "metadata": {
      "needs_background": "light"
     },
     "output_type": "display_data"
    }
   ],
   "source": [
    "print(\"Acc:\", acc)\n",
    "print(\"AUC:\", auc)\n",
    "print(\"F1:\", f1)\n",
    "print(\"Precision:\", precision)\n",
    "print(\"Recall:\", recall)\n",
    "eval_tools.plot_cis(bin_names, graph_results, priors_list)"
   ],
   "metadata": {
    "collapsed": false,
    "pycharm": {
     "name": "#%%\n",
     "is_executing": false
    }
   }
  },
  {
   "cell_type": "markdown",
   "metadata": {
    "pycharm": {
     "name": "#%% md\n"
    }
   },
   "source": [
    "# BASELINE -------------------------------------------------------------------*"
   ]
  },
  {
   "cell_type": "code",
   "execution_count": 9,
   "metadata": {
    "pycharm": {
     "is_executing": false,
     "name": "#%%\n"
    }
   },
   "outputs": [],
   "source": [
    "GLOVE_DIR = NPY_INPUT_DIR\n",
    "TFIDF_DIR = NPY_INPUT_DIR"
   ]
  },
  {
   "cell_type": "markdown",
   "metadata": {
    "pycharm": {
     "name": "#%% md\n"
    }
   },
   "source": [
    "# multimodal with histories"
   ]
  },
  {
   "cell_type": "code",
   "execution_count": 10,
   "metadata": {
    "pycharm": {
     "is_executing": false,
     "name": "#%%\n"
    }
   },
   "outputs": [],
   "source": [
    "# retrieve test data history sequence lengths from LSTM data\n",
    "X_hist_len_test = np.load(NPY_INPUT_DIR + 'full_hist_lens_test.npy')\n",
    "\n",
    "# class labels\n",
    "y_train = torch.Tensor(np.load(GLOVE_DIR + 'y_train.npy'))\n",
    "y_test= torch.Tensor(np.load(GLOVE_DIR + 'y_test.npy'))\n",
    "\n",
    "# load features\n",
    "# img\n",
    "X_histories_train_img = np.load(NPY_INPUT_DIR + 'images_meanvecs_train.npy')\n",
    "X_histories_test_img = np.load(NPY_INPUT_DIR + 'images_meanvecs_test.npy')\n",
    "\n",
    "X_labeled_train_img = np.load(NPY_INPUT_DIR + 'images_nohistories_train.npy')\n",
    "X_labeled_test_img = np.load(NPY_INPUT_DIR + 'images_nohistories_test.npy')\n",
    "\n",
    "# lang\n",
    "X_labeled_train_glove = np.load(GLOVE_DIR + 'X_labeled_train.npy')\n",
    "X_histories_train_glove = np.load(GLOVE_DIR + 'X_histories_train.npy')\n",
    "X_labeled_test_glove = np.load(GLOVE_DIR + 'X_labeled_test.npy')\n",
    "X_histories_test_glove = np.load(GLOVE_DIR + 'X_histories_test.npy')\n",
    "\n",
    "\n",
    "\n",
    "X_labeled_train_tfidf = np.load(TFIDF_DIR + 'trainTweets.npy')\n",
    "X_histories_train_tfidf = np.load(TFIDF_DIR + 'trainHistories.npy')\n",
    "X_labeled_test_tfidf = np.load(TFIDF_DIR + 'testTweets.npy')\n",
    "X_histories_test_tfidf = np.load(TFIDF_DIR + 'testHistories.npy')\n",
    "\n",
    "\n",
    "scaler1 = StandardScaler()\n",
    "scaler2 = StandardScaler()\n",
    "scaler3 = StandardScaler()\n",
    "scaler4 = StandardScaler()\n",
    "\n",
    "scaler5 = StandardScaler()\n",
    "scaler6 = StandardScaler()\n",
    "\n",
    "\n",
    "X_histories_train_img_norm = scaler5.fit_transform(X_histories_train_img)\n",
    "X_histories_test_img_norm  = scaler5.transform(X_histories_test_img)\n",
    "X_labeled_train_img_norm = scaler5.fit_transform(X_labeled_train_img)\n",
    "X_labeled_test_img_norm  = scaler5.transform(X_labeled_test_img)\n",
    "        \n",
    "X_labeled_train_glove_norm    = scaler1.fit_transform(X_labeled_train_glove)\n",
    "X_histories_train_glove_norm  = scaler2.fit_transform(X_histories_train_glove)\n",
    "X_labeled_test_glove_norm     = scaler1.transform(X_labeled_test_glove)\n",
    "X_histories_test_glove_norm  = scaler2.transform(X_histories_test_glove)\n",
    "\n",
    "X_labeled_train_tfidf_norm    = scaler3.fit_transform(X_labeled_train_tfidf)\n",
    "X_histories_train_tfidf_norm  = scaler4.fit_transform(X_histories_train_tfidf)\n",
    "X_labeled_test_tfidf_norm     = scaler3.transform(X_labeled_test_tfidf)\n",
    "X_histories_test_tfidf_norm   = scaler4.transform(X_histories_test_tfidf)"
   ]
  },
  {
   "cell_type": "code",
   "execution_count": 11,
   "outputs": [],
   "source": [
    "# merge data\n",
    "\n",
    "X_train = torch.Tensor(np.concatenate((X_labeled_train_glove_norm, X_labeled_train_tfidf_norm,\n",
    "                          X_histories_train_glove_norm, X_histories_train_tfidf_norm,\n",
    "                          X_histories_train_img_norm, X_labeled_train_img_norm),\n",
    "                         axis = 1))\n",
    "X_test = torch.Tensor(np.concatenate((X_labeled_test_glove_norm, X_labeled_test_tfidf_norm,\n",
    "                         X_histories_test_glove_norm, X_histories_test_tfidf_norm,\n",
    "                         X_histories_test_img_norm, X_labeled_test_img_norm),\n",
    "                        axis = 1))"
   ],
   "metadata": {
    "collapsed": false,
    "pycharm": {
     "name": "#%%\n",
     "is_executing": false
    }
   }
  },
  {
   "cell_type": "code",
   "execution_count": 12,
   "outputs": [],
   "source": [
    "training_data = [X_train, None, y_train] # Nones for argument order padding\n",
    "test_data = [X_test, None, y_test]\n",
    "hist_len_data = [X_hist_len_test, y_train.numpy()]\n",
    "outfile = 'multimodal_MLP_hist_results.npy'"
   ],
   "metadata": {
    "collapsed": false,
    "pycharm": {
     "name": "#%%\n",
     "is_executing": false
    }
   }
  },
  {
   "cell_type": "code",
   "execution_count": 13,
   "outputs": [],
   "source": [
    "%%capture\n",
    "acc, auc, f1, precision,\\\n",
    "recall, bin_names, graph_results, priors_list = run_tests(outfile, training_data, test_data,\n",
    "                                                          hist_len_data, multimodal_mlp_hist_hyperparams,\n",
    "                                                          is_lstm = False, is_multimodal = True)"
   ],
   "metadata": {
    "collapsed": false,
    "pycharm": {
     "name": "#%%\n",
     "is_executing": false
    }
   }
  },
  {
   "cell_type": "code",
   "execution_count": 14,
   "outputs": [
    {
     "name": "stdout",
     "text": [
      "Acc: 0.8156803995006241\n",
      "AUC: 0.8585887967454233\n",
      "F1: 0.8779782820421628\n",
      "Precision: 0.84453323620062\n",
      "Recall: 0.9142168674698793\n"
     ],
     "output_type": "stream"
    },
    {
     "data": {
      "text/plain": "<Figure size 432x288 with 1 Axes>",
      "image/png": "[encoded data removed]"
     },
     "metadata": {
      "needs_background": "light"
     },
     "output_type": "display_data"
    }
   ],
   "source": [
    "print(\"Acc:\", acc)\n",
    "print(\"AUC:\", auc)\n",
    "print(\"F1:\", f1)\n",
    "print(\"Precision:\", precision)\n",
    "print(\"Recall:\", recall)\n",
    "eval_tools.plot_cis(bin_names, graph_results, priors_list)"
   ],
   "metadata": {
    "collapsed": false,
    "pycharm": {
     "name": "#%%\n",
     "is_executing": false
    }
   }
  },
  {
   "cell_type": "markdown",
   "source": [
    "# NLP only with histories"
   ],
   "metadata": {
    "collapsed": false
   }
  },
  {
   "cell_type": "code",
   "execution_count": 15,
   "outputs": [],
   "source": [
    "# merge data\n",
    "\n",
    "X_train = torch.Tensor(np.concatenate((X_labeled_train_glove_norm, X_labeled_train_tfidf_norm,\n",
    "                          X_histories_train_glove_norm, X_histories_train_tfidf_norm),\n",
    "                         axis = 1))\n",
    "X_test = torch.Tensor(np.concatenate((X_labeled_test_glove_norm, X_labeled_test_tfidf_norm,\n",
    "                         X_histories_test_glove_norm, X_histories_test_tfidf_norm),\n",
    "                        axis = 1))"
   ],
   "metadata": {
    "collapsed": false,
    "pycharm": {
     "name": "#%%\n",
     "is_executing": false
    }
   }
  },
  {
   "cell_type": "code",
   "execution_count": 16,
   "outputs": [],
   "source": [
    "training_data = [X_train, None, y_train] # Nones for argument order padding\n",
    "test_data = [X_test, None, y_test]\n",
    "hist_len_data = [X_hist_len_test, y_train.numpy()]\n",
    "outfile = 'nlp_MLP_hist_results.npy'"
   ],
   "metadata": {
    "collapsed": false,
    "pycharm": {
     "name": "#%%\n",
     "is_executing": false
    }
   }
  },
  {
   "cell_type": "code",
   "execution_count": 17,
   "outputs": [],
   "source": [
    "%%capture\n",
    "acc, auc, f1, precision,\\\n",
    "recall, bin_names, graph_results, priors_list = run_tests(outfile, training_data, test_data,\n",
    "                                                          hist_len_data, nlp_mlp_hist_hyperparams,\n",
    "                                                          is_lstm = False, is_multimodal = False)"
   ],
   "metadata": {
    "collapsed": false,
    "pycharm": {
     "name": "#%%\n",
     "is_executing": false
    }
   }
  },
  {
   "cell_type": "code",
   "execution_count": 18,
   "outputs": [
    {
     "name": "stdout",
     "text": [
      "Acc: 0.7993008739076153\n",
      "AUC: 0.8396848693475201\n",
      "F1: 0.8702365054946418\n",
      "Precision: 0.81944636701115\n",
      "Recall: 0.9278485370051635\n"
     ],
     "output_type": "stream"
    },
    {
     "data": {
      "text/plain": "<Figure size 432x288 with 1 Axes>",
      "image/png": "[encoded data removed]"
     },
     "metadata": {
      "needs_background": "light"
     },
     "output_type": "display_data"
    }
   ],
   "source": [
    "print(\"Acc:\", acc)\n",
    "print(\"AUC:\", auc)\n",
    "print(\"F1:\", f1)\n",
    "print(\"Precision:\", precision)\n",
    "print(\"Recall:\", recall)\n",
    "eval_tools.plot_cis(bin_names, graph_results, priors_list)"
   ],
   "metadata": {
    "collapsed": false,
    "pycharm": {
     "name": "#%%\n",
     "is_executing": false
    }
   }
  },
  {
   "cell_type": "markdown",
   "source": [
    "# Multimodal without histories"
   ],
   "metadata": {
    "collapsed": false
   }
  },
  {
   "cell_type": "code",
   "execution_count": 19,
   "outputs": [],
   "source": [
    "# merge data\n",
    "\n",
    "X_train = torch.Tensor(np.concatenate((X_labeled_train_glove_norm, X_labeled_train_tfidf_norm,\n",
    "                        X_labeled_train_img_norm),\n",
    "                         axis = 1))\n",
    "X_test = torch.Tensor(np.concatenate((X_labeled_test_glove_norm, X_labeled_test_tfidf_norm,\n",
    "                        X_labeled_test_img_norm),\n",
    "                        axis = 1))"
   ],
   "metadata": {
    "collapsed": false,
    "pycharm": {
     "name": "#%%\n",
     "is_executing": false
    }
   }
  },
  {
   "cell_type": "code",
   "execution_count": 20,
   "outputs": [],
   "source": [
    "training_data = [X_train, None, y_train] # Nones for argument order padding\n",
    "test_data = [X_test, None, y_test]\n",
    "hist_len_data = [X_hist_len_test, y_train.numpy()]\n",
    "outfile = 'multimodal_MLP_no_hist_results.npy'"
   ],
   "metadata": {
    "collapsed": false,
    "pycharm": {
     "name": "#%%\n",
     "is_executing": false
    }
   }
  },
  {
   "cell_type": "code",
   "execution_count": 21,
   "outputs": [],
   "source": [
    "%%capture\n",
    "acc, auc, f1, precision,\\\n",
    "recall, bin_names, graph_results, priors_list = run_tests(outfile, training_data, test_data,\n",
    "                                                          hist_len_data, multimodal_mlp_no_hist_hyperparams,\n",
    "                                                          is_lstm = False, is_multimodal = True)"
   ],
   "metadata": {
    "collapsed": false,
    "pycharm": {
     "name": "#%%\n",
     "is_executing": false
    }
   }
  },
  {
   "cell_type": "code",
   "execution_count": 22,
   "outputs": [
    {
     "name": "stdout",
     "text": [
      "Acc: 0.8214232209737825\n",
      "AUC: 0.8708867156939448\n",
      "F1: 0.8832966951919841\n",
      "Precision: 0.840319955701364\n",
      "Recall: 0.9314285714285713\n"
     ],
     "output_type": "stream"
    },
    {
     "data": {
      "text/plain": "<Figure size 432x288 with 1 Axes>",
      "image/png": "[encoded data removed]"
     },
     "metadata": {
      "needs_background": "light"
     },
     "output_type": "display_data"
    }
   ],
   "source": [
    "print(\"Acc:\", acc)\n",
    "print(\"AUC:\", auc)\n",
    "print(\"F1:\", f1)\n",
    "print(\"Precision:\", precision)\n",
    "print(\"Recall:\", recall)\n",
    "eval_tools.plot_cis(bin_names, graph_results, priors_list)"
   ],
   "metadata": {
    "collapsed": false,
    "pycharm": {
     "name": "#%%\n",
     "is_executing": false
    }
   }
  },
  {
   "cell_type": "markdown",
   "metadata": {
    "pycharm": {
     "name": "#%% md\n"
    }
   },
   "source": [
    "# nlp only without histories\n"
   ]
  },
  {
   "cell_type": "code",
   "execution_count": 23,
   "metadata": {
    "pycharm": {
     "is_executing": false,
     "name": "#%%\n"
    }
   },
   "outputs": [],
   "source": [
    "# merge data\n",
    "\n",
    "X_train = torch.Tensor(np.concatenate((X_labeled_train_glove_norm, X_labeled_train_tfidf_norm),\n",
    "                         axis = 1))\n",
    "X_test = torch.Tensor(np.concatenate((X_labeled_test_glove_norm, X_labeled_test_tfidf_norm),\n",
    "                        axis = 1))"
   ]
  },
  {
   "cell_type": "code",
   "execution_count": 24,
   "metadata": {
    "pycharm": {
     "is_executing": false
    }
   },
   "outputs": [],
   "source": [
    "training_data = [X_train, None, y_train] # Nones for argument order padding\n",
    "test_data = [X_test, None, y_test]\n",
    "hist_len_data = [X_hist_len_test, y_train.numpy()]\n",
    "outfile = 'nlp_MLP_no_hist_results.npy'"
   ]
  },
  {
   "cell_type": "code",
   "execution_count": 25,
   "outputs": [],
   "source": [
    "%%capture\n",
    "acc, auc, f1, precision,\\\n",
    "recall, bin_names, graph_results, priors_list = run_tests(outfile, training_data, test_data,\n",
    "                                                          hist_len_data, nlp_mlp_no_hist_hyperparams,\n",
    "                                                          is_lstm = False, is_multimodal = False)"
   ],
   "metadata": {
    "collapsed": false,
    "pycharm": {
     "name": "#%%\n",
     "is_executing": false
    }
   }
  },
  {
   "cell_type": "code",
   "execution_count": 26,
   "outputs": [
    {
     "name": "stdout",
     "text": [
      "Acc: 0.7953058676654183\n",
      "AUC: 0.8384950711938665\n",
      "F1: 0.8675308572277507\n",
      "Precision: 0.8177056225105129\n",
      "Recall: 0.9241308089500859\n"
     ],
     "output_type": "stream"
    },
    {
     "data": {
      "text/plain": "<Figure size 432x288 with 1 Axes>",
      "image/png": "[encoded data removed]"
     },
     "metadata": {
      "needs_background": "light"
     },
     "output_type": "display_data"
    }
   ],
   "source": [
    "print(\"Acc:\", acc)\n",
    "print(\"AUC:\", auc)\n",
    "print(\"F1:\", f1)\n",
    "print(\"Precision:\", precision)\n",
    "print(\"Recall:\", recall)\n",
    "eval_tools.plot_cis(bin_names, graph_results, priors_list)\n",
    "\n"
   ],
   "metadata": {
    "collapsed": false,
    "pycharm": {
     "name": "#%%\n",
     "is_executing": false
    }
   }
  }
 ],
 "metadata": {
  "kernelspec": {
   "display_name": "Python 3",
   "language": "python",
   "name": "python3"
  },
  "language_info": {
   "codemirror_mode": {
    "name": "ipython",
    "version": 3
   },
   "file_extension": ".py",
   "mimetype": "text/x-python",
   "name": "python",
   "nbconvert_exporter": "python",
   "pygments_lexer": "ipython3",
   "version": "3.7.3"
  },
  "pycharm": {
   "stem_cell": {
    "cell_type": "raw",
    "source": [],
    "metadata": {
     "collapsed": false
    }
   }
  }
 },
 "nbformat": 4,
 "nbformat_minor": 1
}