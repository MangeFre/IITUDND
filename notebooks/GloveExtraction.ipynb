{
 "cells": [
  {
   "cell_type": "code",
   "execution_count": 9,
   "metadata": {
    "collapsed": true,
    "pycharm": {
     "is_executing": false
    }
   },
   "outputs": [],
   "source": [
    "%load_ext autoreload\n",
    "%autoreload 2\n",
    "from gensim.models import KeyedVectors\n",
    "from gensim.scripts.glove2word2vec import glove2word2vec\n",
    "from utilities import data_handler\n",
    "import numpy as np\n",
    "from sklearn.feature_extraction.stop_words import ENGLISH_STOP_WORDS\n",
    "from sklearn.feature_extraction.text import CountVectorizer # for tokenization only\n",
    "from sklearn.decomposition import TruncatedSVD"
   ]
  },
  {
   "cell_type": "markdown",
   "source": [
    "# THE CELL BELLOW CONTAINS THE FILENAMES TO CHANGE"
   ],
   "metadata": {
    "collapsed": false,
    "pycharm": {
     "name": "#%% md\n",
     "is_executing": false
    }
   }
  },
  {
   "cell_type": "code",
   "execution_count": null,
   "outputs": [],
   "source": [
    "UNLABLED_DATA = '/Users/ianmagnusson/IITUDND/data/retrieved_data/harvey_extras.json'\n",
    "LABLED_DATA = '/Users/ianmagnusson/IITUDND/data/CrisisMMD_v1.0/json/hurricane_harvey_final_data.json'"
   ],
   "metadata": {
    "collapsed": false,
    "pycharm": {
     "name": "#%%\n"
    }
   }
  },
  {
   "cell_type": "markdown",
   "source": [
    "## Set up glove"
   ],
   "metadata": {
    "collapsed": false,
    "pycharm": {
     "name": "#%% md\n"
    }
   }
  },
  {
   "cell_type": "code",
   "execution_count": null,
   "outputs": [],
   "source": [
    "# convert glove format to work with gensim. tutorial here https://radimrehurek.com/gensim/scripts/glove2word2vec.html\n",
    "# _ = glove2word2vec('/Users/ianmagnusson/IITUDND/models/glove.twitter.27B.200d.txt', \"gensim_glove.txt\")"
   ],
   "metadata": {
    "collapsed": false,
    "pycharm": {
     "name": "#%%\n"
    }
   }
  },
  {
   "cell_type": "code",
   "execution_count": 3,
   "outputs": [],
   "source": [
    "# load model, NOTE this is very slow!\n",
    "glove = KeyedVectors.load_word2vec_format(\"gensim_glove.txt\")"
   ],
   "metadata": {
    "collapsed": false,
    "pycharm": {
     "name": "#%%\n",
     "is_executing": false
    }
   }
  },
  {
   "cell_type": "markdown",
   "source": [
    "# Extract glove embeddings"
   ],
   "metadata": {
    "collapsed": false,
    "pycharm": {
     "name": "#%% md\n",
     "is_executing": true
    }
   }
  },
  {
   "cell_type": "code",
   "execution_count": null,
   "outputs": [],
   "source": [
    "datahandler = data_handler.DataHandler(UNLABLED_DATA,LABLED_DATA)\n",
    "\n",
    "train_labeled, train_histories, test_labeled, test_histories = datahandler.get_train_test_split()"
   ],
   "metadata": {
    "collapsed": false,
    "pycharm": {
     "name": "#%%\n"
    }
   }
  },
  {
   "cell_type": "code",
   "execution_count": 5,
   "outputs": [],
   "source": [
    "EMBED_DIM = 200\n",
    "\n",
    "def embed_tweets(tweet_jsons):\n",
    "    X_embedded = np.zeros((len(tweet_jsons),EMBED_DIM))\n",
    "    tokenizer = CountVectorizer().build_tokenizer()\n",
    "    for i, tweet_json in enumerate(tweet_jsons):\n",
    "        text = tweet_json['text'].lower()\n",
    "        tokens = [token for token in tokenizer(text) if token not in ENGLISH_STOP_WORDS]\n",
    "        num_in_vocab = 0\n",
    "        for token in tokens:\n",
    "            if token in glove:\n",
    "                X_embedded[i] += glove[token]\n",
    "                num_in_vocab += 1\n",
    "        X_embedded[i] = X_embedded[i] / num_in_vocab\n",
    "    return X_embedded\n",
    "\n",
    "def embed_histories(histories):\n",
    "    X_embedded = np.zeros((len(histories),EMBED_DIM))\n",
    "    tokenizer = CountVectorizer().build_tokenizer()\n",
    "    for i, history in enumerate(histories):\n",
    "        text = ' '.join([tweet_json['text'].lower() for tweet_json in history])\n",
    "        tokens = [token for token in tokenizer(text) if token not in ENGLISH_STOP_WORDS]\n",
    "        num_in_vocab = 0\n",
    "        for token in tokens:\n",
    "            if token in glove:\n",
    "                X_embedded[i] += glove[token]\n",
    "                num_in_vocab += 1\n",
    "        X_embedded[i] = X_embedded[i] / num_in_vocab\n",
    "    return X_embedded"
   ],
   "metadata": {
    "collapsed": false,
    "pycharm": {
     "name": "#%%\n",
     "is_executing": false
    }
   }
  },
  {
   "cell_type": "code",
   "execution_count": 6,
   "outputs": [],
   "source": [
    "train_len = len(train_labeled)\n",
    "test_len = len(test_labeled)\n",
    "\n",
    "X_labeled_train = embed_tweets(train_labeled)\n",
    "X_histories_train = embed_histories(train_histories)\n",
    "X_labeled_test = embed_tweets(test_labeled)\n",
    "X_histories_test = embed_histories(test_histories)\n",
    "    "
   ],
   "metadata": {
    "collapsed": false,
    "pycharm": {
     "name": "#%%\n",
     "is_executing": false
    }
   }
  },
  {
   "cell_type": "code",
   "execution_count": 7,
   "outputs": [],
   "source": [
    "# checkpoint!\n",
    "np.save('./saved_variables/GloveExtraction_variables/X_labeled_train.npy', X_labeled_train)\n",
    "np.save('./saved_variables/GloveExtraction_variables/X_histories_train.npy', X_histories_train)\n",
    "np.save('./saved_variables/GloveExtraction_variables/X_labeled_test.npy', X_labeled_test)\n",
    "np.save('./saved_variables/GloveExtraction_variables/X_histories_test.npy', X_histories_test)\n",
    "\n",
    "#X_labeled_train = np.load('./saved_variables/GloveExtraction_variables/X_labeled_train.npy')  \n",
    "#X_histories_train = np.load('./saved_variables/GloveExtraction_variables/X_histories_train.npy') \n",
    "#X_labeled_test = np.load('./saved_variables/GloveExtraction_variables/X_labeled_test.npy')\n",
    "#X_histories_test  = np.load('./saved_variables/GloveExtraction_variables/X_histories_test.npy') "
   ],
   "metadata": {
    "collapsed": false,
    "pycharm": {
     "name": "#%%\n",
     "is_executing": false
    }
   }
  },
  {
   "cell_type": "markdown",
   "source": [
    "# Reduce dimensionality with SVD (TBD)"
   ],
   "metadata": {
    "collapsed": false,
    "pycharm": {
     "name": "#%% md\n"
    }
   }
  },
  {
   "cell_type": "code",
   "execution_count": 14,
   "outputs": [
    {
     "name": "stderr",
     "text": [
      "/Users/ianmagnusson/anaconda3/lib/python3.7/site-packages/sklearn/decomposition/truncated_svd.py:192: RuntimeWarning: divide by zero encountered in true_divide\n  self.explained_variance_ratio_ = exp_var / full_var\n/Users/ianmagnusson/anaconda3/lib/python3.7/site-packages/sklearn/decomposition/truncated_svd.py:192: RuntimeWarning: invalid value encountered in true_divide\n  self.explained_variance_ratio_ = exp_var / full_var\n"
     ],
     "output_type": "stream"
    }
   ],
   "source": [
    "svd = TruncatedSVD(n_components=2, n_iter=7, random_state=42)\n",
    "X_SVD =svd.fit_transform(X_labeled_train)"
   ],
   "metadata": {
    "collapsed": false,
    "pycharm": {
     "name": "#%%\n",
     "is_executing": false
    }
   }
  },
  {
   "cell_type": "code",
   "execution_count": 15,
   "outputs": [
    {
     "data": {
      "text/plain": "array([5.29150262e+00, 8.23780443e-33])"
     },
     "metadata": {},
     "output_type": "execute_result",
     "execution_count": 15
    }
   ],
   "source": [
    "svd.singular_values_"
   ],
   "metadata": {
    "collapsed": false,
    "pycharm": {
     "name": "#%%\n",
     "is_executing": false
    }
   }
  }
 ],
 "metadata": {
  "kernelspec": {
   "display_name": "Python 3",
   "language": "python",
   "name": "python3"
  },
  "language_info": {
   "codemirror_mode": {
    "name": "ipython",
    "version": 2
   },
   "file_extension": ".py",
   "mimetype": "text/x-python",
   "name": "python",
   "nbconvert_exporter": "python",
   "pygments_lexer": "ipython2",
   "version": "2.7.6"
  },
  "pycharm": {
   "stem_cell": {
    "cell_type": "raw",
    "source": [],
    "metadata": {
     "collapsed": false
    }
   }
  }
 },
 "nbformat": 4,
 "nbformat_minor": 0
}